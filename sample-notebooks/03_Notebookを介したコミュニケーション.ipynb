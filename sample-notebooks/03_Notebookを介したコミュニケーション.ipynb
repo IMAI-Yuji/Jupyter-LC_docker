{
 "cells": [
  {
   "cell_type": "markdown",
   "metadata": {
    "lc_cell_meme": {
     "current": "115c0dec-7b4b-11e9-afcf-0242ac110002",
     "history": [
      {
       "current": "115c0dec-7b4b-11e9-afcf-0242ac110002",
       "next": null,
       "previous": null
      }
     ],
     "next": "2f730eb0-7b4c-11e9-afcf-0242ac110002",
     "previous": null
    }
   },
   "source": [
    "# Notebookを介したコミュニケーション\n",
    "\n",
    "\n",
    "計算機インフラの御守では種々雑多なドキュメンテーションが不可欠です。日々の作業で証跡を残す、手順を整理して共有・再利用する、ユーザマニュアルや教材を整備する.. 国立情報学研究所（NII）のクラウド運用担当では、これらをシームレスに記述・蓄積する方法を研究しています。\n",
    "<img src=\"./images/literate_computing-logo.png\" align=\"center\" />\n",
    "\n",
    "プロジェクトでは [Jupyter Notebook]( http://jupyter.org ) を用いてドキュメンテーションを行うことで、運用作業の信頼性向上、手順やノウハウの蓄積・流通が容易になることを目指しています。\n",
    "これらの実現には、運用作業者が自身の作成したNotebookを振り返ったり、別の運用作業者がより良い解を指摘したりすることが重要になります。しかしながら、作業者の作業記録としてのNotebookは多くのコード、文章から成ります。また、それらは過去のものを流用したものである可能性もあります。これらの要素を効率よくメンテナンス・共有するために [nblineage](https://github.com/NII-cloud-operation/Jupyter-LC_nblineage) と [sidestickies](https://github.com/NII-cloud-operation/sidestickies) という2つの機能を開発・利用しています。\n",
    "\n",
    "---\n",
    "ここではNotebookを介してどうコミュニケーション行うのかを紹介します。"
   ]
  },
  {
   "cell_type": "markdown",
   "metadata": {
    "lc_cell_meme": {
     "current": "2f730eb0-7b4c-11e9-afcf-0242ac110002",
     "history": [
      {
       "current": "2f730eb0-7b4c-11e9-afcf-0242ac110002",
       "next": null,
       "previous": "115c0dec-7b4b-11e9-afcf-0242ac110002"
      }
     ],
     "next": "be80519e-7b4c-11e9-afcf-0242ac110002",
     "previous": "115c0dec-7b4b-11e9-afcf-0242ac110002"
    }
   },
   "source": [
    "# 説明・コードの追跡\n",
    "\n",
    "運用作業を構成する手順には様々なものがあります。\n",
    "\n",
    "* 障害発生時のログの取得\n",
    "* バージョンアップ時の最新ソフトウェアの取得\n",
    "* ...\n",
    "\n",
    "いずれの操作も一回きりということはあまりなく、何かイベントが発生した際に繰り返し実施する性格の操作です。\n",
    "そのため、状況によりコピーされて再利用されることが多く発生します。\n",
    "\n",
    "では、その操作に変更の必要性が出てきたらどのようにメンテナンスすれば良いでしょうか？対象システムのバージョンアップによりログファイルの\n",
    "パスが変わった、アップデート方法が変わった、など... このような場合に、同じルーツを持つ説明・コード(Cell)にコメントをつけられるようにすることで、\n",
    "バージョン管理の助けとなるかもしれません。\n",
    "\n",
    "このような、Cellのルーツを追跡する仕組みとして [nblineage](https://github.com/NII-cloud-operation/Jupyter-LC_nblineage) を、nblineageにより同じルーツを持つと判断されるCellにコメントを付加するツールとして、 [sidestickies](https://github.com/NII-cloud-operation/sidestickies) というコメントツールを開発しています。"
   ]
  },
  {
   "attachments": {
    "stickienote.png": {
     "image/png": "[encoded data removed]"
    }
   },
   "cell_type": "markdown",
   "metadata": {
    "lc_cell_meme": {
     "current": "be80519e-7b4c-11e9-afcf-0242ac110002",
     "history": [
      {
       "current": "be80519e-7b4c-11e9-afcf-0242ac110002",
       "next": null,
       "previous": "2f730eb0-7b4c-11e9-afcf-0242ac110002"
      },
      {
       "current": "be80519e-7b4c-11e9-afcf-0242ac110002",
       "next": "6ba9cd54-7b4e-11e9-afcf-0242ac110002",
       "previous": "2f730eb0-7b4c-11e9-afcf-0242ac110002"
      }
     ],
     "next": "60581dfa-7b50-11e9-afcf-0242ac110002",
     "previous": "2f730eb0-7b4c-11e9-afcf-0242ac110002"
    }
   },
   "source": [
    "# セルへのコメント\n",
    "\n",
    "sidestickiesを有効にするには、ツールバーの <i class='fa fa-comments'></i> トグルボタンをクリックします。\n",
    "\n",
    "トグルをONにすると、Cell右端にふせん ![stickienote.png](attachment:stickienote.png) が表示されます。このふせんがCellに対するsidestickiesの入力欄です。\n",
    "\n",
    "各Cellが作成、保存された時、nblineageによりそれぞれに固有のIDが設定されます。Cellがコピーされると、このIDがそのまま引き継がれます。つまり、CellのルーツがこのIDで識別できるわけです。このIDをnblineageではMEME(ミーム)と呼んでいます。\n",
    "sidestickiesは、このMEMEを手がかりに、[Scrapbox](https://scrapbox.io)というサービス上にページを作ったり、ページを検索したりします。"
   ]
  },
  {
   "cell_type": "markdown",
   "metadata": {
    "lc_cell_meme": {
     "current": "60581dfa-7b50-11e9-afcf-0242ac110002",
     "history": [
      {
       "current": "60581dfa-7b50-11e9-afcf-0242ac110002",
       "next": "6ba9cd54-7b4e-11e9-afcf-0242ac110002",
       "previous": "be80519e-7b4c-11e9-afcf-0242ac110002"
      }
     ],
     "next": "861dfea6-7b50-11e9-afcf-0242ac110002",
     "previous": "be80519e-7b4c-11e9-afcf-0242ac110002"
    }
   },
   "source": [
    "試しに、以下のセルのsidestickiesのふきだしをクリックしてみてください。scrapboxの編集欄が表示されるはずです。\n",
    "\n",
    "> 本デモのsidestickiesコメントはScrapbox https://scrapbox.io/sidestickies-public/ から参照されます。変更してみたい場合は、クラウド運用チーム(メールアドレスはイベントにてお伝えしています)にお問い合わせください。"
   ]
  },
  {
   "cell_type": "code",
   "execution_count": 1,
   "metadata": {
    "lc_cell_meme": {
     "current": "861dfea6-7b50-11e9-afcf-0242ac110002",
     "history": [
      {
       "current": "861dfea6-7b50-11e9-afcf-0242ac110002",
       "next": "6ba9cd54-7b4e-11e9-afcf-0242ac110002",
       "previous": "60581dfa-7b50-11e9-afcf-0242ac110002"
      },
      {
       "current": "861dfea6-7b50-11e9-afcf-0242ac110002",
       "next": "dd6dca2e-7b50-11e9-afcf-0242ac110002",
       "previous": "60581dfa-7b50-11e9-afcf-0242ac110002"
      },
      {
       "current": "861dfea6-7b50-11e9-afcf-0242ac110002",
       "next": "785a985a-7b51-11e9-a6b5-a26e065752ae",
       "previous": "60581dfa-7b50-11e9-afcf-0242ac110002"
      }
     ],
     "next": "bfda26b4-7b51-11e9-a6b5-a26e065752ae",
     "previous": "60581dfa-7b50-11e9-afcf-0242ac110002"
    },
    "lc_wrapper": {
     "log_history": [
      "/home/jovyan/.log/20190520/20190520-224216-0370.log",
      "/home/jovyan/.log/20190520/20190520-224511-0650.log",
      "/home/jovyan/.log/20190528/20190528-092559-0846.log",
      "/home/jovyan/.log/20190528/20190528-095724-0920.log"
     ]
    }
   },
   "outputs": [
    {
     "name": "stdout",
     "output_type": "stream",
     "text": [
      "Hello!\n"
     ]
    }
   ],
   "source": [
    "print('Hello!')"
   ]
  },
  {
   "cell_type": "markdown",
   "metadata": {
    "lc_cell_meme": {
     "current": "bfda26b4-7b51-11e9-a6b5-a26e065752ae",
     "next": "dd6dca2e-7b50-11e9-afcf-0242ac110002",
     "previous": "861dfea6-7b50-11e9-afcf-0242ac110002"
    }
   },
   "source": [
    "scrapboxの編集権限がある場合、編集欄でページの内容、タイトルを変更することができます。変更した場合は、ふきだし左の更新ボタンを押してみてください。最新のコメントを取得することができます。"
   ]
  },
  {
   "cell_type": "markdown",
   "metadata": {
    "lc_cell_meme": {
     "current": "dd6dca2e-7b50-11e9-afcf-0242ac110002",
     "history": [
      {
       "current": "dd6dca2e-7b50-11e9-afcf-0242ac110002",
       "next": "6ba9cd54-7b4e-11e9-afcf-0242ac110002",
       "previous": "861dfea6-7b50-11e9-afcf-0242ac110002"
      },
      {
       "current": "dd6dca2e-7b50-11e9-afcf-0242ac110002",
       "next": "6ba9cd54-7b4e-11e9-afcf-0242ac110002",
       "previous": "785a985a-7b51-11e9-a6b5-a26e065752ae"
      }
     ],
     "next": "6ba9cd54-7b4e-11e9-afcf-0242ac110002",
     "previous": "bfda26b4-7b51-11e9-a6b5-a26e065752ae"
    }
   },
   "source": [
    "次に、同じNotebookをダウンロードして複製を開いてみましょう。"
   ]
  },
  {
   "cell_type": "code",
   "execution_count": 2,
   "metadata": {
    "lc_cell_meme": {
     "current": "6ba9cd54-7b4e-11e9-afcf-0242ac110002",
     "history": [
      {
       "current": "6ba9cd54-7b4e-11e9-afcf-0242ac110002",
       "next": null,
       "previous": "be80519e-7b4c-11e9-afcf-0242ac110002"
      },
      {
       "current": "6ba9cd54-7b4e-11e9-afcf-0242ac110002",
       "next": "423d935a-7b4f-11e9-afcf-0242ac110002",
       "previous": "be80519e-7b4c-11e9-afcf-0242ac110002"
      },
      {
       "current": "6ba9cd54-7b4e-11e9-afcf-0242ac110002",
       "next": "423d935a-7b4f-11e9-afcf-0242ac110002",
       "previous": "60581dfa-7b50-11e9-afcf-0242ac110002"
      },
      {
       "current": "6ba9cd54-7b4e-11e9-afcf-0242ac110002",
       "next": "423d935a-7b4f-11e9-afcf-0242ac110002",
       "previous": "861dfea6-7b50-11e9-afcf-0242ac110002"
      }
     ],
     "next": "423d935a-7b4f-11e9-afcf-0242ac110002",
     "previous": "dd6dca2e-7b50-11e9-afcf-0242ac110002"
    },
    "lc_wrapper": {
     "log_history": [
      "/home/jovyan/.log/20190520/20190520-223548-0547.log",
      "/home/jovyan/.log/20190520/20190520-223614-0847.log",
      "/home/jovyan/.log/20190520/20190520-223726-0337.log",
      "/home/jovyan/.log/20190520/20190520-224513-0338.log",
      "/home/jovyan/.log/20190528/20190528-092606-0423.log",
      "/home/jovyan/.log/20190528/20190528-095726-0599.log"
     ]
    },
    "scrolled": true
   },
   "outputs": [
    {
     "name": "stdout",
     "output_type": "stream",
     "text": [
      "  % Total    % Received % Xferd  Average Speed   Time    Time     Time  Current\n",
      "                                 Dload  Upload   Total   Spent    Left  Speed\n",
      "100   155    0   155    0     0    670      0 --:--:-- --:--:-- --:--:--   670\n",
      "100 35.0M    0 35.0M    0     0  14.7M      0 --:--:--  0:00:02 --:--:-- 18.3M\n",
      "Archive:  openhouse-2019-demo.zip\n",
      "4998a12171fe0a8fd9b4409317b33a06ba2c7744\n",
      "   creating: Jupyter-LC_docker-openhouse-2019-demo/\n",
      "  inflating: Jupyter-LC_docker-openhouse-2019-demo/.gitignore  \n",
      "  inflating: Jupyter-LC_docker-openhouse-2019-demo/.travis.yml  \n",
      "  inflating: Jupyter-LC_docker-openhouse-2019-demo/Dockerfile  \n",
      "  inflating: Jupyter-LC_docker-openhouse-2019-demo/LICENSE  \n",
      "  inflating: Jupyter-LC_docker-openhouse-2019-demo/README.md  \n",
      "   creating: Jupyter-LC_docker-openhouse-2019-demo/conf/\n",
      "  inflating: Jupyter-LC_docker-openhouse-2019-demo/conf/10-custom-get_ipython_system.py  \n",
      " extracting: Jupyter-LC_docker-openhouse-2019-demo/conf/ansible.cfg  \n",
      " extracting: Jupyter-LC_docker-openhouse-2019-demo/conf/bash_env  \n",
      "  inflating: Jupyter-LC_docker-openhouse-2019-demo/conf/custom.css  \n",
      "  inflating: Jupyter-LC_docker-openhouse-2019-demo/conf/ipython_config.py  \n",
      "  inflating: Jupyter-LC_docker-openhouse-2019-demo/conf/jupyter_notebook_config.py  \n",
      "   creating: Jupyter-LC_docker-openhouse-2019-demo/conf/kernels/\n",
      "   creating: Jupyter-LC_docker-openhouse-2019-demo/conf/kernels/bash-wrapper/\n",
      "  inflating: Jupyter-LC_docker-openhouse-2019-demo/conf/kernels/bash-wrapper/kernel.json  \n",
      "   creating: Jupyter-LC_docker-openhouse-2019-demo/conf/kernels/python3-wrapper/\n",
      "  inflating: Jupyter-LC_docker-openhouse-2019-demo/conf/kernels/python3-wrapper/kernel.json  \n",
      " extracting: Jupyter-LC_docker-openhouse-2019-demo/conf/logo.png  \n",
      "  inflating: Jupyter-LC_docker-openhouse-2019-demo/conf/nbextension-config.json  \n",
      "  inflating: Jupyter-LC_docker-openhouse-2019-demo/conf/ssh-agent.sh  \n",
      "   creating: Jupyter-LC_docker-openhouse-2019-demo/sample-notebooks/\n",
      "  inflating: Jupyter-LC_docker-openhouse-2019-demo/sample-notebooks/00_デモ環境の利用方法.ipynb  \n",
      "  inflating: Jupyter-LC_docker-openhouse-2019-demo/sample-notebooks/01_Literate_Computingの運用への適用例.ipynb  \n",
      "  inflating: Jupyter-LC_docker-openhouse-2019-demo/sample-notebooks/02_NII謹製_Jupyterの機能拡張について.ipynb  \n",
      "  inflating: Jupyter-LC_docker-openhouse-2019-demo/sample-notebooks/03_Notebookを介したコミュニケーション.ipynb  \n",
      "  inflating: Jupyter-LC_docker-openhouse-2019-demo/sample-notebooks/README.md  \n",
      "   creating: Jupyter-LC_docker-openhouse-2019-demo/sample-notebooks/images/\n",
      "  inflating: Jupyter-LC_docker-openhouse-2019-demo/sample-notebooks/images/LC_wrapper_mov-iloveimg-compressed.gif  \n",
      "  inflating: Jupyter-LC_docker-openhouse-2019-demo/sample-notebooks/images/LC_wrapper_mov.gif  \n",
      " extracting: Jupyter-LC_docker-openhouse-2019-demo/sample-notebooks/images/literate_computing-logo.png  \n",
      "  inflating: Jupyter-LC_docker-openhouse-2019-demo/sample-notebooks/images/multi_outputs.png  \n",
      "  inflating: Jupyter-LC_docker-openhouse-2019-demo/sample-notebooks/images/openhouse-2019-demo.png  \n",
      "  inflating: Jupyter-LC_docker-openhouse-2019-demo/sample-notebooks/images/run_through.png  \n",
      "  inflating: Jupyter-LC_docker-openhouse-2019-demo/sample-notebooks/images/run_through_Frozen.png  \n",
      "  inflating: Jupyter-LC_docker-openhouse-2019-demo/sample-notebooks/images/run_through_Frozen2.png  \n",
      "  inflating: Jupyter-LC_docker-openhouse-2019-demo/sample-notebooks/images/run_through_NG.png  \n",
      "  inflating: Jupyter-LC_docker-openhouse-2019-demo/sample-notebooks/images/run_through_OK.png  \n",
      "   creating: Jupyter-LC_docker-openhouse-2019-demo/sample-notebooks/resources/\n",
      "  inflating: Jupyter-LC_docker-openhouse-2019-demo/sample-notebooks/resources/access-anonymous.log.tar.gz  \n",
      "  inflating: Jupyter-LC_docker-openhouse-2019-demo/sample-notebooks/resources/bootstrap.log  \n",
      "   creating: Jupyter-LC_docker-openhouse-2019-demo/sample-notebooks/tests/\n",
      "  inflating: Jupyter-LC_docker-openhouse-2019-demo/sample-notebooks/tests/97_Test nbextensions.ipynb  \n",
      "  inflating: Jupyter-LC_docker-openhouse-2019-demo/sample-notebooks/tests/99_Test python3 env.ipynb  \n"
     ]
    }
   ],
   "source": [
    "!curl -L -O https://github.com/NII-cloud-operation/Jupyter-LC_docker/archive/openhouse-2019-demo.zip\n",
    "!rm -fr Jupyter-LC_docker-openhouse-2019-demo/; unzip openhouse-2019-demo.zip"
   ]
  },
  {
   "cell_type": "markdown",
   "metadata": {
    "lc_cell_meme": {
     "current": "423d935a-7b4f-11e9-afcf-0242ac110002",
     "history": [
      {
       "current": "423d935a-7b4f-11e9-afcf-0242ac110002",
       "next": null,
       "previous": "6ba9cd54-7b4e-11e9-afcf-0242ac110002"
      }
     ],
     "next": "dd6dcd26-7b50-11e9-afcf-0242ac110002",
     "previous": "6ba9cd54-7b4e-11e9-afcf-0242ac110002"
    }
   },
   "source": [
    "以下のリンクを開いてみてください。現在開いているのと同じNotebookのコピーが表示され、Hello!のセルにはscrapboxで編集した内容が現れるはずです。\n",
    "\n",
    "[Jupyter-LC_docker-openhouse-2019-demo/sample-notebooks/03_Notebookを介したコミュニケーション.ipynb](Jupyter-LC_docker-openhouse-2019-demo/sample-notebooks/03_Notebookを介したコミュニケーション.ipynb)"
   ]
  },
  {
   "cell_type": "markdown",
   "metadata": {
    "lc_cell_meme": {
     "current": "dd6dcd26-7b50-11e9-afcf-0242ac110002",
     "history": [
      {
       "current": "dd6dcd26-7b50-11e9-afcf-0242ac110002",
       "next": null,
       "previous": "423d935a-7b4f-11e9-afcf-0242ac110002"
      }
     ],
     "next": "dbbb0380-7b51-11e9-a6b5-a26e065752ae",
     "previous": "423d935a-7b4f-11e9-afcf-0242ac110002"
    }
   },
   "source": [
    "# まとめ\n",
    "\n",
    "以上のように、Notebookのコピーが増えてきた場合でも、横断的にコメントを付加できるようにすることで管理の助けとするような機能を開発しています。"
   ]
  },
  {
   "cell_type": "code",
   "execution_count": null,
   "metadata": {
    "lc_cell_meme": {
     "current": "dbbb0380-7b51-11e9-a6b5-a26e065752ae",
     "next": null,
     "previous": "dd6dcd26-7b50-11e9-afcf-0242ac110002"
    }
   },
   "outputs": [],
   "source": []
  }
 ],
 "metadata": {
  "kernelspec": {
   "display_name": "Python 3 (LC_wrapper)",
   "language": "python",
   "name": "python3-wrapper"
  },
  "language_info": {
   "file_extension": ".py",
   "mimetype": "text/x-python",
   "name": "python",
   "nbconvert_exporter": "python",
   "pygments_lexer": "ipython3",
   "version": "3.7.3"
  },
  "lc_notebook_meme": {
   "current": "115c0806-7b4b-11e9-afcf-0242ac110002",
   "lc_server_signature": {
    "current": {
     "notebook_dir": "/home/jovyan",
     "notebook_path": "/",
     "server_url": "https://hub.mybinder.org/user/nii-cloud-opera-pyter-lc_docker-w43n7xfn/",
     "signature_id": "696b441a-812e-11e9-9d13-ea15f9dec228"
    },
    "history": [
     {
      "notebook_dir": "/home/jovyan",
      "notebook_path": "/",
      "server_url": "http://localhost:9999/",
      "signature_id": "28b99dea-7a85-11e9-9fa2-0242ac110002"
     },
     {
      "notebook_dir": "/home/jovyan",
      "notebook_path": "/",
      "server_url": "https://hub.mybinder.org/user/nii-cloud-opera-pyter-lc_docker-42ctqmmm/",
      "signature_id": "f6fc5a56-7b4f-11e9-a6b5-a26e065752ae"
     },
     {
      "notebook_dir": "/home/jovyan",
      "notebook_path": "/",
      "server_url": "http://localhost:9999/",
      "signature_id": "28b99dea-7a85-11e9-9fa2-0242ac110002"
     },
     {
      "notebook_dir": "/home/jovyan",
      "notebook_path": "/",
      "server_url": "https://hub.mybinder.org/user/nii-cloud-opera-pyter-lc_docker-clik7vh3/",
      "signature_id": "0ff74f72-812a-11e9-bdce-d62f1998e54f"
     }
    ]
   }
  },
  "sidestickies": {
   "visible": false
  },
  "toc": {
   "base_numbering": 1,
   "nav_menu": {},
   "number_sections": true,
   "sideBar": true,
   "skip_h1_title": false,
   "title_cell": "Table of Contents",
   "title_sidebar": "Contents",
   "toc_cell": false,
   "toc_position": {},
   "toc_section_display": true,
   "toc_window_display": false
  }
 },
 "nbformat": 4,
 "nbformat_minor": 2
}
