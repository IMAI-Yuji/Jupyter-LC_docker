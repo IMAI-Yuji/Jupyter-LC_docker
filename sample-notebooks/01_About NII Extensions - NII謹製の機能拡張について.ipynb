{
 "cells": [
  {
   "cell_type": "markdown",
   "metadata": {
    "lc_cell_meme": {
     "current": "09a5f640-85dd-11e7-ad95-0242ac110002",
     "history": [],
     "next": "09a5f76c-85dd-11e7-ad95-0242ac110002",
     "previous": null
    }
   },
   "source": [
    "# Literate Computing for Reproducible Infrastructure\n",
    "<img src=\"./images/literate_computing-logo.png\" alt='LC_LOGO' align='left'/>\n",
    "<p lang=\"en\">\n",
    "NII Cloud Operation is a team supporting researchers and teachers in our institute.  To make users more productive our team serves many roles, which are maintaining private OpenStack infrastructure, setting up various software stacks, consulting their configuration and optimization, and managing almost everything.<br>\n",
    "<br>\n",
    "**Literate Computing for Reproducible Infrastrucre** is our project, which seeks to utilize Jupyter Notebook in operational engineering area for seeking ..<br>\n",
    "\n",
    "**Automated Operation:** Assure traceability and reproducibility through computational narratives as Jupyter Notebook.   <br>\n",
    "**Collaboration:** Share experience participating both tech and non-tech alike regarding infrastructure design, development and operation. <br>\n",
    "\n",
    "Narrative stories allow collaborative communication between experts and novices in order to accumulate infrastructure knowledge within an operation team.  Moreover, it enables an efficiently shared understanding of how an infrastructure is usable and actually works between tech ops and non-tech users. Narrative stories also help communicate with users about delivered services and customized conditions considering reproducibility.\n",
    "</p>\n",
    "<p lang=\"ja\">\n",
    "計算機インフラの御守では種々雑多なドキュメンテーションが不可欠です。日々の作業で証跡を残す、手順を整理して共有・再利用する、ユーザマニュアルや教材を整備する.. 国立情報学研究所（NII）のクラウド運用担当では、これらをシームレスに記述・蓄積する方法を研究しています。\n",
    "\n",
    "表題の *Literate Computing for Reproducible Infrastructure*  は、そのような取り組みのプロジェクト名です。プロジェクトでは [Jupyter Notebook]( http://jupyter.org ) を用いてドキュメンテーションを行うことで、運用作業の信頼性向上、手順やノウハウの蓄積・流通が容易になることを目指しています。\n",
    "\n",
    "プロジェクトの成果物は GitHub [NII Cloud Operation Team]( https://github.com/NII-cloud-operation )で公開しています。\n",
    "Hadoop や Elastic Search など学術機関でポピュラーなインフラにに関する構築や**運用の手順を整理したもの**、また、構築や運用の手順を記述するために便利な **Jupyter の機能拡張**を掲載しています。\n",
    "</p>\n",
    "\n",
    "---\n",
    "<p lang=\"en\">\n",
    "This notebook demonstrates our project's extensions for Literate Computing for Reproducible Infrastructure.  <br>\n",
    "*Note: You can choose language via tooltar's \"lang\" selector.*\n",
    "</p>\n",
    "<p lang=\"ja\">\n",
    "この Notebook では拡張した機能の概要を紹介します。 Toolbar の lang で表示言語を切り替えることができます。\n",
    "</p>"
   ]
  },
  {
   "cell_type": "markdown",
   "metadata": {
    "lc_cell_meme": {
     "current": "09a5f76c-85dd-11e7-ad95-0242ac110002",
     "history": [],
     "next": "09a5f866-85dd-11e7-ad95-0242ac110002",
     "previous": "09a5f640-85dd-11e7-ad95-0242ac110002"
    }
   },
   "source": [
    "## Jupyter-run_through <span lang=\"ja\">- まとめ実行機能</span>\n",
    "\n",
    "Usage:\n",
    "* **Freeze**: <span lang=\"en\">Preventing miss-operation; once a code cell has been executed, it freezes against unintended execution and modification. Note that the freeze is implemented as different state from standard cell lock's. The freeze only make an executed cell un-editable temporally.</span>\n",
    "<span lang=\"all\">//</span><span lang=\"ja\">誤操作を防ぐ; いったんセルを実行すると\"凍結\"され解凍しないと再実行できない。また、セルの編集をロックすることもできる。</span>\n",
    "\n",
    "* **Bricks**: <span lang=\"en\">Giving a summarized perspective for execution control; embedded \"cells\" underneath are represented as bricks and be able to run through altogether with a click, while markdowns and codes are collapsed using <span class='fa fa-fw fa-external-link'></span>[Collapsible Headings](https://github.com/ipython-contrib/jupyter_contrib_nbextensions/tree/master/src/jupyter_contrib_nbextensions/nbextensions/collapsible_headings)</span>\n",
    "<span lang=\"all\">//</span><span lang=\"ja\">まとめ実行; マークダウンを畳み込んだ際に、畳み込まれた範囲にあるすべての\"Cell\"を一連の\"brick\"として表示する。一連の\"brick\"を1-clickでまとめて実行できる。</span>\n",
    "\n",
    "* **Run_through**: <span lang=\"en\">Execute collapsed code cells as a whole; Simply reuse workflows without paying much attention to details, whithout needs for arrenge nor customization. Run throughout the notebook as an executable checklist, then verify error if it occurs.</span>\n",
    "<span lang=\"all\">//</span><span lang=\"ja\">定型的な作業をまとめて実行する; 詳細は気にせずNotebook形式の手順を気軽に利用, アレンジやカスタマイズはあまり必要がない。まとめて実行してエラーが発生した時だけ詳細を確認したい; 実行可能なチェックリストとして用いる。</span>\n",
    "\n",
    "<span class='fa fa-fw fa-external-link'></span> [GitHub: Jupyter-LC_run_through](https://github.com/NII-cloud-operation/Jupyter-LC_run_through)\n",
    "\n",
    "---\n",
    "\n",
    "<p lang=\"en\">\n",
    "**How-to: run_through** <br>\n",
    "The <span class='fa fa-fw fa-caret-right' style='color:#a0a0a0;'></span> on the collapsed headding indicates there are collapsed markdowns and cells.  With clicking <span class='fa fa-fw fa-caret-right' style='color:#a0a0a0;'></span> and <span class='fa fa-fw fa-caret-down' style='color:#a0a0a0;'></span> switch the expand/collapse.<br clear=\"right\"><br>\n",
    "\n",
    "<img src=\"./images/run_through.png\" align=\"right\" width=30% />When headings are collapsed, executable cells underneath are represented as blicks. Each blick <span class='fa fa-fw fa-square' style='color:#cccccc;'></span> represents its collesponding cell's status, the gray means 'not executed yet'. \n",
    "Click <span class='fa fa-fw fa-play-circle'></span> runs through cells altogeather.<br clear=\"right\"><br>\n",
    "\n",
    "<img src=\"./images/run_through_OK.png\" width=30% align=right /> Normally executed and completed cells truned to light green <span class='fa fa-fw fa-square' style='color:#88ff88;'></span>. In addition completed cells are \"frozen\" <span class='fa fa-fw fa-snowflake-o' style='background-color:cornflowerblue;color:white;'></span>, that would not be executed again until \"unfrozen\" via toolbar <span class='fa fa-fw fa-snowflake-o'style='color:gray;'></span>.<br clear=\"right\"><br>\n",
    "\n",
    "<img src=\"./images/run_through_NG.png\" width=30% align=right /> In the case of error cells' execution is aborted and the blick turned to light coral<span class='fa fa-fw fa-square' style='color:#ff8888;'></span>.  You can examine the error by expanding folded cells with <span class='fa fa-fw fa-caret-right'></span>.\n",
    "</p>\n",
    "\n",
    "<p lang=\"ja\">\n",
    "**まとめ実行機能** <br>\n",
    "表題の左側にある <span class='fa fa-fw fa-caret-right' style='color:#a0a0a0;'></span> は、詳細な手順が畳み込まれていることを示しています。  <span class='fa fa-fw fa-caret-right' style='color:#a0a0a0;'></span>  をクリックすると、 <span class='fa fa-fw fa-caret-down' style='color:#a0a0a0;'></span>  に変化し、畳み込まれている内容を表示することができます。\n",
    "\n",
    "<img src=\"./images/run_through.png\" align=\"right\" width=30% /> 畳みこまれている内容に「手順」が含まれていると、右のように表示されます。<span class='fa fa-fw fa-square' style='color:#cccccc;'></span>の数は畳み込まれている手順のステップ数を示しています。\n",
    "表示から <span class='fa fa-fw fa-play-circle'></span> を押すと、配下の手順をまとめて実行することができます。<br clear=\"right\"><br>\n",
    "\n",
    "<img src=\"./images/run_through_OK.png\" width=30% align=right /> すべてのステップが終了すると右のように表示が変化します。実行が完了したステップは薄緑 <span class='fa fa-fw fa-square' style='color:#88ff88;'></span>に表示されます。また、完了したステップは、再度 まとめ実行ボタン<span class='fa fa-fw fa-play-circle'></span>をクリックしても実行されないよう凍結 <span class='fa fa-fw fa-snowflake-o' style='background-color:cornflowerblue;color:white;'></span>\n",
    "されます。<br clear=\"right\"><br>\n",
    "\n",
    "<img src=\"./images/run_through_NG.png\" width=30% align=right /> 途中でエラーが発生した場合は当該のステップが薄紅<span class='fa fa-fw fa-square' style='color:#ff8888;'></span>に表示されるので、 <span class='fa fa-fw fa-caret-right'></span>をクリックして内容を確認します。\n",
    "</p>\n"
   ]
  },
  {
   "cell_type": "markdown",
   "metadata": {
    "heading_collapsed": true,
    "lc_cell_meme": {
     "current": "09a5f866-85dd-11e7-ad95-0242ac110002",
     "history": [],
     "next": "09a5f94c-85dd-11e7-ad95-0242ac110002",
     "previous": "09a5f76c-85dd-11e7-ad95-0242ac110002"
    }
   },
   "source": [
    "### Example\n",
    "\n",
    "<p lang=\"en\">\n",
    "**Run_through:**  Try &ldquo;<span class='fa fa-fw fa-caret-right' style='color:#a0a0a0;'></span>&rdquo;, which will collapse cells, then, &ldquo;<span class='fa fa-fw fa-play-circle'></span>&rdquo; will run through four bricks.<br>\n",
    "<br>\n",
    "<span class='fa fa-fw fa-square' style='color:#88ff88;'></span>: The light green bricks indicate successfull completion.<br>\n",
    "<span class='fa fa-fw fa-square' style='color:#ff8888;'></span>: The third light coral brick indicates some error.<br>\n",
    "<br>\n",
    "<span class='fa fa-fw fa-snowflake-o' style='background-color:#cccccc;color:white;'></span><span class='fa fa-fw fa-snowflake-o' style='background-color:#88ff88;color:white;'></span><span class='fa fa-fw fa-snowflake-o' style='background-color:cornflowerblue;color:white;'></span>: The snow flake indicates those bricks are frozen.  Executions and edits are prohibitted.  The &ldquo;<span class='fa fa-fw fa-snowflake-o' style='color:gray;'></span>&rdquo; will unfrozen bricks.<br>\n",
    "The succeeded cells <span class='fa fa-fw fa-square' style='color:#88ff88;'></span> will be automatically frozen in order to prevent accidental duplicate operations.  Error cells\n",
    "<span class='fa fa-fw fa-square' style='color:#ff8888;'></span> remain unfrozen, then you can fix errors and re-execute the cell.  You can continue execution on following not-yet-executed cells <span class='fa fa-fw fa-square' style='color:#cccccc;'></span>.\n",
    "</p>\n",
    "\n",
    "<p lang=\"ja\">\n",
    "**畳み込んだステップのまとめ実行**: <span class='fa fa-fw fa-caret-right' style='color:#a0a0a0;'></span>でセルを畳み込んでください。\n",
    "<span class='fa fa-fw fa-play-circle'></span> をクリックすると４ステップをまとめ実行します。実行が終わったステップは薄緑の表示<span class='fa fa-fw fa-square' style='color:#88ff88;'></span>となります。以下の例では３番目がエラーとなり薄紅表示<span class='fa fa-fw fa-square' style='color:#ff8888;'></span>され、実行が中断します。\n",
    "\n",
    "<span class='fa fa-fw fa-caret-right' style='color:#a0a0a0;'></span> をクリックすることで畳み込み表示が解除され、それぞれのステップの実行内容を確認することができます。実行が終わったセルは凍結 <span class='fa fa-fw fa-snowflake-o' style='background-color:cornflowerblue;color:white;'></span>\n",
    "されます、そのままでは実行できません。修正する、再度実行する場合にはウインドウ上部の<span class='fa fa-fw fa-snowflake-o' style='color:gray;'></span>をクリックすることで凍結を解除します。\n",
    "\n",
    "エラーのセル<span class='fa fa-fw fa-square' style='color:#ff8888;'></span>は内容を修正して実行することができます。継続する未実行のセル<span class='fa fa-fw fa-square' style='color:#cccccc;'></span>は、そのまま実行することもできます。\n",
    "</p>"
   ]
  },
  {
   "cell_type": "code",
   "execution_count": null,
   "metadata": {
    "collapsed": true,
    "hidden": true,
    "lc_cell_meme": {
     "current": "09a5f94c-85dd-11e7-ad95-0242ac110002",
     "history": [],
     "next": "09a5fa1e-85dd-11e7-ad95-0242ac110002",
     "previous": "09a5f866-85dd-11e7-ad95-0242ac110002"
    }
   },
   "outputs": [],
   "source": [
    "! echo \"This is 1st step\" > foo; cat foo"
   ]
  },
  {
   "cell_type": "code",
   "execution_count": null,
   "metadata": {
    "collapsed": true,
    "hidden": true,
    "lc_cell_meme": {
     "current": "09a5fa1e-85dd-11e7-ad95-0242ac110002",
     "history": [],
     "next": "09a5fafa-85dd-11e7-ad95-0242ac110002",
     "previous": "09a5f94c-85dd-11e7-ad95-0242ac110002"
    },
    "scrolled": true
   },
   "outputs": [],
   "source": [
    "! echo \".. 2nd step...\" >> foo && cat foo"
   ]
  },
  {
   "cell_type": "code",
   "execution_count": null,
   "metadata": {
    "collapsed": true,
    "hidden": true,
    "lc_cell_meme": {
     "current": "09a5fafa-85dd-11e7-ad95-0242ac110002",
     "history": [],
     "next": "09a5fbd6-85dd-11e7-ad95-0242ac110002",
     "previous": "09a5fa1e-85dd-11e7-ad95-0242ac110002"
    }
   },
   "outputs": [],
   "source": [
    "!echooooo \".. 3rd step... will fail\" >> foo && cat foo"
   ]
  },
  {
   "cell_type": "markdown",
   "metadata": {
    "hidden": true,
    "lc_cell_meme": {
     "current": "09a5fbd6-85dd-11e7-ad95-0242ac110002",
     "history": [],
     "next": "09a5fca8-85dd-11e7-ad95-0242ac110002",
     "previous": "09a5fafa-85dd-11e7-ad95-0242ac110002"
    }
   },
   "source": [
    "\"echo\" に修正して実行してみましょう。 "
   ]
  },
  {
   "cell_type": "code",
   "execution_count": null,
   "metadata": {
    "collapsed": true,
    "hidden": true,
    "lc_cell_meme": {
     "current": "09a5fca8-85dd-11e7-ad95-0242ac110002",
     "history": [],
     "next": "09a5fd84-85dd-11e7-ad95-0242ac110002",
     "previous": "09a5fbd6-85dd-11e7-ad95-0242ac110002"
    }
   },
   "outputs": [],
   "source": [
    "! cat foo"
   ]
  },
  {
   "cell_type": "markdown",
   "metadata": {
    "lc_cell_meme": {
     "current": "09a5fd84-85dd-11e7-ad95-0242ac110002",
     "history": [],
     "next": "09a5fe56-85dd-11e7-ad95-0242ac110002",
     "previous": "09a5fca8-85dd-11e7-ad95-0242ac110002"
    }
   },
   "source": [
    "## Jupyter-LC_wrapper\n",
    "\n",
    "\n",
    "Usage:\n",
    "* <span lang=\"en\">Summarize massive output lines.</span>\n",
    "<span lang=\"all\">//</span><span lang=\"ja\">大量のログ出力を要約表示する。</span>\n",
    "* <span lang=\"en\">At each cell’s execution all original output lines are saved into an individual file with a time stamp.</span>\n",
    "<span lang=\"all\">//</span><span lang=\"ja\">複数の実行ログを各々ファイルに保存し、後で全体を参照したり、結果を比較できるようにする。</span>\n",
    "\n",
    "<span class='fa fa-fw fa-external-link'></span> [GitHub: Jupyter-LC_wrapper](https://github.com/NII-cloud-operation/Jupyter-LC_wrapper)\n",
    "\n",
    "---\n",
    "<p lang=\"en\">\n",
    "You can review whole output and compare with previous results from different executions.<br>\n",
    "When you install some pakages, there would be massive log lines.  Jupyter Web UI is inefficient for handling a large number of output lines.\n",
    "</p>\n",
    "<p lang=\"all\">\n",
    "![demo](./images/LC_wrapper_mov.gif)\n",
    "</p>\n",
    "<p lang=\"ja\">\n",
    "例えば、某かのパッケージ群をインストールしたりすると大量のログが出力されますが、JupyetrのWeb UI上で大量の出力を扱うのはなにかと不便です。 Jupyterの Cell の中でログの内容を検索したり、比較したりするのはまどろっこしく手間がかかります。<br>\n",
    "\n",
    "Jupyter-LC_wrapper を用いると:<br>\n",
    "・ Output Cell には要約されてた結果が出力されるようになります（例：最初10行と最後の10行）。<br>\n",
    "・ オリジナルの出力結果全体はファイルに保存されます。<br>\n",
    "・ 実行毎に各々のファイルに結果が保存されるので出力結果を比較することができます。<br>\n",
    "・ 要約中でも、エラーなど特定のパターン含む行を表示します（lc_wrapper_regex.txt などいくつかの方法でカスタマイズ可）。<br>\n",
    "\n",
    "Cellでコマンドを実行する際に先頭に \"!!\" を付加すると、LC_wrapper の機能が有効になります。\n",
    "Cellで shell を呼び出す場合は \"!!!\" を付加してください。\n",
    "</p>"
   ]
  },
  {
   "cell_type": "code",
   "execution_count": null,
   "metadata": {
    "collapsed": true,
    "lc_cell_meme": {
     "current": "09a5fe56-85dd-11e7-ad95-0242ac110002",
     "history": [],
     "next": "09a5ff28-85dd-11e7-ad95-0242ac110002",
     "previous": "09a5fd84-85dd-11e7-ad95-0242ac110002"
    }
   },
   "outputs": [],
   "source": [
    "%env lc_wrapper 8:8:10:10\n",
    "# lc_wrapper s:h:e:f\n",
    "#\n",
    "# s : Summary starts when # of output lines exceed 's' (default s=1)\n",
    "# h : Summary displays the first h lines and max 2 x h error lines.\n",
    "# e : Max # of output lines in progress. \n",
    "# f : Summary displays the last f lines (default f=1)"
   ]
  },
  {
   "cell_type": "code",
   "execution_count": null,
   "metadata": {
    "collapsed": true,
    "lc_cell_meme": {
     "current": "09a5ff28-85dd-11e7-ad95-0242ac110002",
     "history": [],
     "next": "09a5fffa-85dd-11e7-ad95-0242ac110002",
     "previous": "09a5fe56-85dd-11e7-ad95-0242ac110002"
    }
   },
   "outputs": [],
   "source": [
    "!!from time import sleep\n",
    "with open(\"resources/bootstrap.log\", \"r\") as f:\n",
    "    count = 0\n",
    "    limit = 200\n",
    "    for line in f:\n",
    "        count = count+1\n",
    "        if count > limit: break\n",
    "        print(line),\n",
    "        sleep(0.05)\n",
    "#\n",
    "# Emulate large log output.."
   ]
  },
  {
   "cell_type": "markdown",
   "metadata": {
    "lc_cell_meme": {
     "current": "09a5fffa-85dd-11e7-ad95-0242ac110002",
     "history": [],
     "next": "09a600cc-85dd-11e7-ad95-0242ac110002",
     "previous": "09a5ff28-85dd-11e7-ad95-0242ac110002"
    }
   },
   "source": [
    "[demo](./images/LC_wrapper_mov.gif)\n",
    "\n"
   ]
  },
  {
   "cell_type": "markdown",
   "metadata": {
    "lc_cell_meme": {
     "current": "09a600cc-85dd-11e7-ad95-0242ac110002",
     "history": [],
     "next": "09a6019e-85dd-11e7-ad95-0242ac110002",
     "previous": "09a5fffa-85dd-11e7-ad95-0242ac110002"
    }
   },
   "source": [
    "## Jupyter-code_cell_status\n",
    "\n",
    "<span class='fa fa-fw fa-external-link'></span> [Jupyter-code_cell_status](https://github.com/NII-cloud-operation/Jupyter-code_cell_status)"
   ]
  },
  {
   "cell_type": "markdown",
   "metadata": {
    "lc_cell_meme": {
     "current": "09a6019e-85dd-11e7-ad95-0242ac110002",
     "history": [],
     "next": "09a60270-85dd-11e7-ad95-0242ac110002",
     "previous": "09a600cc-85dd-11e7-ad95-0242ac110002"
    }
   },
   "source": [
    "## Jupyter-multi_outputs\n",
    "\n",
    "<span class='fa fa-fw fa-external-link'></span> [Jupyter-multi-outputs](https://github.com/NII-cloud-operation/Jupyter-multi_outputs)"
   ]
  },
  {
   "cell_type": "code",
   "execution_count": 7,
   "metadata": {
    "collapsed": true,
    "deletable": false,
    "editable": false,
    "lc_cell_meme": {
     "current": "09a60270-85dd-11e7-ad95-0242ac110002",
     "history": [],
     "next": "09a60342-85dd-11e7-ad95-0242ac110002",
     "previous": "09a6019e-85dd-11e7-ad95-0242ac110002"
    },
    "run_through_control": {
     "frozen": true,
     "read_only": false
    }
   },
   "outputs": [],
   "source": [
    "import pandas\n",
    "import matplotlib\n",
    "import matplotlib.pyplot as plt\n",
    "import random"
   ]
  },
  {
   "cell_type": "code",
   "execution_count": 8,
   "metadata": {
    "collapsed": true,
    "deletable": false,
    "editable": false,
    "lc_cell_meme": {
     "current": "09a60342-85dd-11e7-ad95-0242ac110002",
     "history": [],
     "next": "09a60414-85dd-11e7-ad95-0242ac110002",
     "previous": "09a60270-85dd-11e7-ad95-0242ac110002"
    },
    "multi_outputs": false,
    "run_through_control": {
     "frozen": true,
     "read_only": false
    }
   },
   "outputs": [],
   "source": [
    "%matplotlib inline"
   ]
  },
  {
   "cell_type": "code",
   "execution_count": 12,
   "metadata": {
    "deletable": false,
    "editable": false,
    "lc_cell_meme": {
     "current": "09a60414-85dd-11e7-ad95-0242ac110002",
     "history": [],
     "next": "09a604dc-85dd-11e7-ad95-0242ac110002",
     "previous": "09a60342-85dd-11e7-ad95-0242ac110002"
    },
    "multi_outputs": true,
    "run_through_control": {
     "frozen": true,
     "read_only": false
    }
   },
   "outputs": [
    {
     "data": {
      "text/plain": [
       "<matplotlib.axes._subplots.AxesSubplot at 0x7fc99616bd90>"
      ]
     },
     "execution_count": 11,
     "metadata": {},
     "output_type": "execute_result"
    },
    {
     "data": {
      "image/png": "[encoded data removed]",
      "text/plain": [
       "<matplotlib.figure.Figure at 0x7fc9962c3fd0>"
      ]
     },
     "metadata": {},
     "output_type": "display_data"
    },
    {
     "data": {
      "text/plain": [
       "<matplotlib.axes._subplots.AxesSubplot at 0x7fc996036110>"
      ]
     },
     "execution_count": 12,
     "metadata": {},
     "output_type": "execute_result"
    },
    {
     "data": {
      "image/png": "[encoded data removed]",
      "text/plain": [
       "<matplotlib.figure.Figure at 0x7fc996162050>"
      ]
     },
     "metadata": {},
     "output_type": "display_data"
    }
   ],
   "source": [
    "plot_df = pandas.DataFrame({\n",
    "    'col1': [1, 3, random.randint(1,10), 4],\n",
    "    'col2': [3, random.randint(5,10), 5, 1],\n",
    "    'col3': [4, 7, 6, 2],\n",
    "})\n",
    "\n",
    "plot_df.plot()"
   ]
  },
  {
   "cell_type": "markdown",
   "metadata": {
    "lc_cell_meme": {
     "current": "09a604dc-85dd-11e7-ad95-0242ac110002",
     "history": [],
     "next": null,
     "previous": "09a60414-85dd-11e7-ad95-0242ac110002"
    }
   },
   "source": [
    "## Jupyter-LC_nblineage\n",
    "\n",
    "<span class='fa fa-fw fa-external-link'></span> [Jupyter-LC_nblineage](https://github.com/NII-cloud-operation/Jupyter-LC_nblineage)"
   ]
  }
 ],
 "metadata": {
  "kernelspec": {
   "display_name": "Python 2 (LC_wrapper)",
   "language": "python",
   "name": "python2-wrapper"
  },
  "language_info": {
   "file_extension": ".py",
   "mimetype": "text/x-python",
   "name": "python",
   "nbconvert_exporter": "python",
   "pygments_lexer": "ipython2",
   "version": "2.7.9"
  },
  "lc_notebook_meme": {
   "current": "09a5f41a-85dd-11e7-ad95-0242ac110002",
   "root_cells": [
    "09a5f640-85dd-11e7-ad95-0242ac110002",
    "09a5f76c-85dd-11e7-ad95-0242ac110002",
    "09a5f866-85dd-11e7-ad95-0242ac110002",
    "09a5f94c-85dd-11e7-ad95-0242ac110002",
    "09a5fa1e-85dd-11e7-ad95-0242ac110002",
    "09a5fafa-85dd-11e7-ad95-0242ac110002",
    "09a5fbd6-85dd-11e7-ad95-0242ac110002",
    "09a5fca8-85dd-11e7-ad95-0242ac110002",
    "09a5fd84-85dd-11e7-ad95-0242ac110002",
    "09a5fe56-85dd-11e7-ad95-0242ac110002",
    "09a5ff28-85dd-11e7-ad95-0242ac110002",
    "09a5fffa-85dd-11e7-ad95-0242ac110002",
    "09a600cc-85dd-11e7-ad95-0242ac110002",
    "09a6019e-85dd-11e7-ad95-0242ac110002",
    "09a60270-85dd-11e7-ad95-0242ac110002",
    "09a60342-85dd-11e7-ad95-0242ac110002",
    "09a60414-85dd-11e7-ad95-0242ac110002",
    "09a604dc-85dd-11e7-ad95-0242ac110002"
   ]
  },
  "toc": {
   "colors": {
    "hover_highlight": "#DAA520",
    "navigate_num": "#000000",
    "navigate_text": "#333333",
    "running_highlight": "#FF0000",
    "selected_highlight": "#FFD700",
    "sidebar_border": "#EEEEEE",
    "wrapper_background": "#FFFFFF"
   },
   "moveMenuLeft": true,
   "nav_menu": {
    "height": "12px",
    "width": "252px"
   },
   "navigate_menu": true,
   "number_sections": true,
   "sideBar": true,
   "skip_h1_title": false,
   "threshold": 4,
   "toc_cell": false,
   "toc_section_display": "block",
   "toc_window_display": false,
   "widenNotebook": false
  }
 },
 "nbformat": 4,
 "nbformat_minor": 2
}
