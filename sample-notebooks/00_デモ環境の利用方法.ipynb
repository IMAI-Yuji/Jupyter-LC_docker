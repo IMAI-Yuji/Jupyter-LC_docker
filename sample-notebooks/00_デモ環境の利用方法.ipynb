{
 "cells": [
  {
   "cell_type": "markdown",
   "metadata": {
    "lc_cell_meme": {
     "current": "c41ba89a-4bd5-11e7-892b-02420aff0006",
     "history": [
      {
       "current": "c41ba89a-4bd5-11e7-892b-02420aff0006",
       "next": "57ac9d8c-466b-11e7-958b-02420aff0006",
       "previous": "9fa05c96-480f-11e7-8475-02420aff0008"
      },
      {
       "current": "c41ba89a-4bd5-11e7-892b-02420aff0006",
       "next": "36f4261c-4bd6-11e7-892b-02420aff0006",
       "previous": "9fa05c96-480f-11e7-8475-02420aff0008"
      }
     ],
     "next": "36f4261c-4bd6-11e7-892b-02420aff0006",
     "previous": null
    }
   },
   "source": [
    "# デモ環境の利用方法\n",
    "\n",
    "このデモ環境では[Jupyter](http://jupyter.org/)のインタフェースを使って、運用作業の一例としてログ分析や、実際にAmazon上にVMを確保した上でElasticsearchの構築してみて、使ってみるといったことを体験することができます。\n",
    "\n",
    "なお、この環境ではNotebookを自由に作成、編集することができますが、サーバにはこれらのNotebookは永続的に**保存されません**。この環境は[Binder](https://mybinder.readthedocs.io/en/latest/)サービスの上でデプロイされており、一定時間が経過すると自動的に削除されます。編集したNotebookなどの情報は失われますのでご注意ください。"
   ]
  },
  {
   "cell_type": "markdown",
   "metadata": {
    "lc_cell_meme": {
     "current": "36f4261c-4bd6-11e7-892b-02420aff0006",
     "history": [
      {
       "current": "36f4261c-4bd6-11e7-892b-02420aff0006",
       "next": "36f4284c-4bd6-11e7-892b-02420aff0006",
       "previous": "c41ba89a-4bd5-11e7-892b-02420aff0006"
      }
     ],
     "next": "0330cd96-4be8-11e7-bfea-02420aff0006",
     "previous": "c41ba89a-4bd5-11e7-892b-02420aff0006"
    }
   },
   "source": [
    "## Notebookの実行方法\n",
    "\n",
    "このデモ環境では、Notebookという形式で、実際に自身で実行可能な運用作業の例が保存されています。\n",
    "\n",
    "説明を読み進めていくと、コードが現れます。コードは、メニューバーの実行[　<i class=\"fa-step-forward fa\"></i>　]ボタンにより実行し、出力結果を確認することができます。試しに、以下のコードをクリックしてから、実行[　<i class=\"fa-step-forward fa\"></i>　]ボタンを押してみてください。"
   ]
  },
  {
   "cell_type": "code",
   "execution_count": null,
   "metadata": {
    "collapsed": true,
    "lc_cell_meme": {
     "current": "0330cd96-4be8-11e7-bfea-02420aff0006",
     "history": [
      {
       "current": "0330cd96-4be8-11e7-bfea-02420aff0006",
       "next": "36f4284c-4bd6-11e7-892b-02420aff0006",
       "previous": "36f4261c-4bd6-11e7-892b-02420aff0006"
      }
     ],
     "next": "4ac0116c-4be8-11e7-bfea-02420aff0006",
     "previous": "36f4261c-4bd6-11e7-892b-02420aff0006"
    }
   },
   "outputs": [],
   "source": [
    "from datetime import datetime\n",
    "print(u'お試しありがとうございます。現在時刻は、 {} です。'.format(datetime.now()))"
   ]
  },
  {
   "cell_type": "markdown",
   "metadata": {
    "lc_cell_meme": {
     "current": "4ac0116c-4be8-11e7-bfea-02420aff0006",
     "history": [
      {
       "current": "4ac0116c-4be8-11e7-bfea-02420aff0006",
       "next": "36f4284c-4bd6-11e7-892b-02420aff0006",
       "previous": "0330cd96-4be8-11e7-bfea-02420aff0006"
      }
     ],
     "next": "6ef844e6-466b-11e7-958b-02420aff0006",
     "previous": "0330cd96-4be8-11e7-bfea-02420aff0006"
    }
   },
   "source": [
    "説明や、コードといったNotebookを構成する単位を「セル」と呼びます。実行してみていただくとわかるように、コードセルは一度実行すると灰色になり、編集、実行ともにできなくなります。再度編集したり実行したい場合は、通常に戻す[ <i class=\"fa-unlock-alt fa\"></i> ]ボタンを押すことで、編集、実行することができるようになります。この機能拡張については、[04_NII謹製_Jupyterの機能拡張について](04_NII謹製_Jupyterの機能拡張について.ipynb) にて詳しく紹介しています。\n",
    "\n",
    "まず最初は、 [02_Literate_Computingの運用への適用例](02_Literate_Computingの運用への適用例.ipynb) を開いて、Notebookを実行してみて、Jupyterでの作業を体感してみてください！"
   ]
  },
  {
   "cell_type": "code",
   "execution_count": null,
   "metadata": {
    "collapsed": true,
    "lc_cell_meme": {
     "current": "6ef844e6-466b-11e7-958b-02420aff0006",
     "history": [
      {
       "current": "6ef844e6-466b-11e7-958b-02420aff0006",
       "next": null,
       "previous": "57ac9d8c-466b-11e7-958b-02420aff0006"
      },
      {
       "current": "6ef844e6-466b-11e7-958b-02420aff0006",
       "next": null,
       "previous": "10327378-466b-11e7-958b-02420aff0006"
      },
      {
       "current": "6ef844e6-466b-11e7-958b-02420aff0006",
       "next": null,
       "previous": "57ac9bca-466b-11e7-958b-02420aff0006"
      }
     ],
     "next": null,
     "previous": "4ac0116c-4be8-11e7-bfea-02420aff0006"
    }
   },
   "outputs": [],
   "source": []
  }
 ],
 "metadata": {
  "kernelspec": {
   "display_name": "Python 3 (LC_wrapper)",
   "language": "python",
   "name": "python3-wrapper"
  },
  "language_info": {
   "file_extension": ".py",
   "mimetype": "text/x-python",
   "name": "python",
   "nbconvert_exporter": "python",
   "pygments_lexer": "ipython3",
   "version": "3.7.3"
  },
  "lc_notebook_meme": {
   "current": "f2125990-4669-11e7-958b-02420aff0006",
   "lc_server_signature": {
    "current": {
     "notebook_dir": "/home/jovyan",
     "notebook_path": "/",
     "server_url": "http://localhost:9999/",
     "signature_id": "28b99dea-7a85-11e9-9fa2-0242ac110002"
    },
    "history": []
   }
  },
  "toc": {
   "base_numbering": 1,
   "nav_menu": {
    "height": "84px",
    "width": "252px"
   },
   "number_sections": true,
   "sideBar": true,
   "skip_h1_title": false,
   "title_cell": "Table of Contents",
   "title_sidebar": "Contents",
   "toc_cell": false,
   "toc_position": {},
   "toc_section_display": "block",
   "toc_window_display": true
  }
 },
 "nbformat": 4,
 "nbformat_minor": 2
}
