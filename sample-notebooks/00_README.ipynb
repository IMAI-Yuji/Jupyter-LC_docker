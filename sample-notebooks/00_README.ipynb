{
 "cells": [
  {
   "cell_type": "markdown",
   "metadata": {
    "lc_cell_meme": {
     "current": "3e191122-815b-11e7-a44d-0242ac130002",
     "history": [
      {
       "current": "f7ba8a76-815a-11e7-a71f-0242ac130002",
       "next": "f7ba8cd8-815a-11e7-a71f-0242ac130002",
       "previous": null
      }
     ],
     "next": "3e19124e-815b-11e7-a44d-0242ac130002",
     "previous": null
    }
   },
   "source": [
    "# Jupyter Notebook for *Literate Computing for Reproducible Infrastructure*\n",
    "\n",
    "Jupyter Notebook server which bundles a set of tools for *Literate Computing for Reproducible Infrastructure*.  This bundle shows how to implement robust and reliable operational procedure rather than explorative procedure within Jupyter’s GUI.\n",
    "\n",
    "The goals for Literate Computing tools are:\n",
    "* Preventing miss-operation; once a cell has been executed, it “freezes” against unintended execution.  Also you can “lock” cells for unintended modification. \n",
    "* Adding a perspective into a notebook; markdown’s hierarchy is collapsible as document according to your focus.  However, embedded cells underneath are represented as dots and run through with a click as a routine procedure.\n"
   ]
  },
  {
   "cell_type": "markdown",
   "metadata": {
    "lc_cell_meme": {
     "current": "3e19124e-815b-11e7-a44d-0242ac130002",
     "history": [
      {
       "current": "f7ba8cd8-815a-11e7-a71f-0242ac130002",
       "next": "f7ba8ecc-815a-11e7-a71f-0242ac130002",
       "previous": "f7ba8a76-815a-11e7-a71f-0242ac130002"
      }
     ],
     "next": "3e191352-815b-11e7-a44d-0242ac130002",
     "previous": "3e191122-815b-11e7-a44d-0242ac130002"
    }
   },
   "source": [
    "## What it Gives You\n",
    "\n",
    "- Jupyter Notebook 5.0.x\n",
    "- Python2 kernel with LC_wrapper https://github.com/NII-cloud-operation/Jupyter-LC_wrapper\n",
    "- Extensions\n",
    "    - multi_outputs https://github.com/NII-cloud-operation/Jupyter-multi_outputs\n",
    "    - run_through https://github.com/NII-cloud-operation/Jupyter-LC_run_through\n",
    "    - nblineage https://github.com/NII-cloud-operation/Jupyter-LC_nblineage\n",
    "    - i18n_cells https://github.com/NII-cloud-operation/Jupyter-i18n_cells\n"
   ]
  },
  {
   "cell_type": "markdown",
   "metadata": {
    "lc_cell_meme": {
     "current": "3e191352-815b-11e7-a44d-0242ac130002",
     "history": [
      {
       "current": "f7ba8ecc-815a-11e7-a71f-0242ac130002",
       "next": "f7ba90c0-815a-11e7-a71f-0242ac130002",
       "previous": "f7ba8cd8-815a-11e7-a71f-0242ac130002"
      }
     ],
     "next": "3e19144c-815b-11e7-a44d-0242ac130002",
     "previous": "3e19124e-815b-11e7-a44d-0242ac130002"
    }
   },
   "source": [
    "## Basic Use\n",
    "\n",
    "You can start the Notebook server on port 8888 with the following command.\n",
    "\n",
    "```\n",
    "docker run -it --rm -p 8888:8888 niicloudoperation/notebook\n",
    "```\n",
    "\n",
    "You can login the Notebook server with the authentication token in the startup message. "
   ]
  },
  {
   "cell_type": "markdown",
   "metadata": {
    "lc_cell_meme": {
     "current": "3e19144c-815b-11e7-a44d-0242ac130002",
     "history": [
      {
       "current": "f7ba90c0-815a-11e7-a71f-0242ac130002",
       "next": "f7ba92d2-815a-11e7-a71f-0242ac130002",
       "previous": "f7ba8ecc-815a-11e7-a71f-0242ac130002"
      }
     ],
     "next": "3e191546-815b-11e7-a44d-0242ac130002",
     "previous": "3e191352-815b-11e7-a44d-0242ac130002"
    }
   },
   "source": [
    "## Docker Options\n",
    "\n",
    "You may customize the execution of Docker container and the Notebook server contained with the following optional arguments.\n",
    "\n",
    "- `-e lc_wrapper_force=on` - Force summarizing and logging mode of lc_wrapper (via env)\n",
    "- `-e TZ=JST-9` - Specify the container timezone\n",
    "- `-v /some/host/folder/for/work:/notebooks` - Mounts the host directory to the working directory in the container"
   ]
  },
  {
   "cell_type": "code",
   "execution_count": null,
   "metadata": {
    "collapsed": true,
    "lc_cell_meme": {
     "current": "3e191546-815b-11e7-a44d-0242ac130002",
     "history": [
      {
       "current": "f7ba92d2-815a-11e7-a71f-0242ac130002",
       "next": null,
       "previous": "f7ba90c0-815a-11e7-a71f-0242ac130002"
      }
     ],
     "next": null,
     "previous": "3e19144c-815b-11e7-a44d-0242ac130002"
    }
   },
   "outputs": [],
   "source": []
  }
 ],
 "metadata": {
  "kernelspec": {
   "display_name": "Python 2 (LC_wrapper)",
   "language": "python",
   "name": "python2-wrapper"
  },
  "language_info": {
   "file_extension": ".py",
   "mimetype": "text/x-python",
   "name": "python",
   "nbconvert_exporter": "python",
   "pygments_lexer": "ipython2",
   "version": "2.7.9"
  },
  "lc_notebook_meme": {
   "current": "3e190f38-815b-11e7-a44d-0242ac130002",
   "history": [
    "f7ba8648-815a-11e7-a71f-0242ac130002"
   ],
   "root_cells": [
    "3e191122-815b-11e7-a44d-0242ac130002",
    "3e19124e-815b-11e7-a44d-0242ac130002",
    "3e191352-815b-11e7-a44d-0242ac130002",
    "3e19144c-815b-11e7-a44d-0242ac130002",
    "3e191546-815b-11e7-a44d-0242ac130002"
   ]
  },
  "toc": {
   "colors": {
    "hover_highlight": "#DAA520",
    "navigate_num": "#000000",
    "navigate_text": "#333333",
    "running_highlight": "#FF0000",
    "selected_highlight": "#FFD700",
    "sidebar_border": "#EEEEEE",
    "wrapper_background": "#FFFFFF"
   },
   "moveMenuLeft": true,
   "nav_menu": {
    "height": "99px",
    "width": "252px"
   },
   "navigate_menu": true,
   "number_sections": true,
   "sideBar": true,
   "skip_h1_title": false,
   "threshold": 4,
   "toc_cell": false,
   "toc_section_display": "block",
   "toc_window_display": false,
   "widenNotebook": false
  }
 },
 "nbformat": 4,
 "nbformat_minor": 2
}
