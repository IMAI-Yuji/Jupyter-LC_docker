{
 "cells": [
  {
   "cell_type": "markdown",
   "metadata": {
    "lc_cell_meme": {
     "current": "7924cb10-476a-11e7-aef1-02420aff0008",
     "history": [
      {
       "current": "7924cb10-476a-11e7-aef1-02420aff0008",
       "next": "f4383b46-4762-11e7-aef1-02420aff0008",
       "previous": null
      },
      {
       "current": "7924cb10-476a-11e7-aef1-02420aff0008",
       "next": "c0aebd42-476a-11e7-aef1-02420aff0008",
       "previous": null
      },
      {
       "current": "7924cb10-476a-11e7-aef1-02420aff0008",
       "next": "083b22cc-476b-11e7-aef1-02420aff0008",
       "previous": null
      }
     ],
     "next": "345300bc-4b2d-11e7-964e-02420aff000a",
     "previous": null
    }
   },
   "source": [
    "# 運用への適用事例: Webサービスのログ解析\n",
    "\n",
    "\n",
    "計算機インフラの御守では種々雑多なドキュメンテーションが不可欠です。日々の作業で証跡を残す、手順を整理して共有・再利用する、ユーザマニュアルや教材を整備する.. 国立情報学研究所（NII）のクラウド運用担当では、これらをシームレスに記述・蓄積する方法を研究しています。\n",
    "<img src=\"./images/literate_computing-logo.png\" align=\"center\" />\n",
    "\n",
    "プロジェクトでは [Jupyter Notebook]( http://jupyter.org ) を用いてドキュメンテーションを行うことで、運用作業の信頼性向上、手順やノウハウの蓄積・流通が容易になることを目指しています。\n",
    "\n",
    "---\n",
    "ここではログを解析する手順・ノウハウをNotebokで記述した例を紹介します。"
   ]
  },
  {
   "cell_type": "markdown",
   "metadata": {
    "heading_collapsed": true,
    "lc_cell_meme": {
     "current": "345300bc-4b2d-11e7-964e-02420aff000a",
     "history": [
      {
       "current": "345300bc-4b2d-11e7-964e-02420aff000a",
       "next": "083b22cc-476b-11e7-aef1-02420aff0008",
       "previous": "7924cb10-476a-11e7-aef1-02420aff0008"
      },
      {
       "current": "345300bc-4b2d-11e7-964e-02420aff000a",
       "next": "4fbac116-476b-11e7-aef1-02420aff0008",
       "previous": "7924cb10-476a-11e7-aef1-02420aff0008"
      }
     ],
     "next": "4fbac2ce-476b-11e7-aef1-02420aff0008",
     "previous": "7924cb10-476a-11e7-aef1-02420aff0008"
    }
   },
   "source": [
    "# ログファイルの取得\n",
    "\n",
    "この事例ではみなさんがアクセスしているWebサービスのアクセスログを題材にします。\n",
    "サービスをホスティングしている環境（JupyterHub）からログをダウンロードします。\n",
    "\n",
    "> **まとめ実行機能** <br>\n",
    "> 表題の左側にある <span class='fa fa-fw fa-caret-right' style='color:#a0a0a0;'></span> は、詳細な手順が畳み込まれていることを示しています。  <span class='fa fa-fw fa-caret-right' style='color:#a0a0a0;'></span>  をクリックすると、 <span class='fa fa-fw fa-caret-down' style='color:#a0a0a0;'></span>  に変化し、畳み込まれている内容を表示することができます。\n",
    ">\n",
    "> <img src=\"./images/run_through.png\" align=\"right\" width=30% /> 畳みこまれている内容に「手順」が含まれていると、右のように表示されます。<span class='fa fa-fw fa-square' style='color:#cccccc;'></span>の数は畳み込まれている手順のステップ数を示しています。\n",
    "> 表示から <span class='fa fa-fw fa-play-circle'></span> を押すと、配下の手順をまとめて実行することができます。\n",
    ">\n",
    "> <img src=\"./images/run_through_OK.png\" width=30% align=right /> すべてのステップが終了すると右のように表示が変化します。実行が完了したステップは薄緑 <span class='fa fa-fw fa-square' style='color:#88ff88;'></span>に表示されます。また、完了したステップは、再度 まとめ実行ボタン<span class='fa fa-fw fa-play-circle'></span>をクリックしても実行されないようロック<span class='fa fa-fw fa-lock'></span>されます。\n",
    ">\n",
    "> <img src=\"./images/run_through_NG.png\" width=30% align=right /> 途中でエラーが発生した場合は当該のステップが薄紅<span class='fa fa-fw fa-square' style='color:#ff8888;'></span>に表示されるので、 (<span class='fa fa-fw fa-caret-right'></span>)をクリックして内容を確認します。\n",
    "\n",
    "---\n",
    "\n",
    "*<span class='fa fa-fw fa-play-circle'></span> をクリックすると一連の手順をまとめて実行できます。*\n",
    "*表題左側の <span class='fa fa-fw fa-caret-right' style='color:#a0a0a0;'></span> をクリックすると畳み込まれている手順を確認できます。*"
   ]
  },
  {
   "cell_type": "markdown",
   "metadata": {
    "hidden": true,
    "lc_cell_meme": {
     "current": "4fbac2ce-476b-11e7-aef1-02420aff0008",
     "history": [
      {
       "current": "4fbac2ce-476b-11e7-aef1-02420aff0008",
       "next": "083b2484-476b-11e7-aef1-02420aff0008",
       "previous": "4fbac116-476b-11e7-aef1-02420aff0008"
      }
     ],
     "next": "083b2484-476b-11e7-aef1-02420aff0008",
     "previous": "345300bc-4b2d-11e7-964e-02420aff000a"
    }
   },
   "source": [
    "ダウンロード先の一時ファイルをダウンロードするディレクトリを作成します。"
   ]
  },
  {
   "cell_type": "code",
   "execution_count": null,
   "metadata": {
    "hidden": true,
    "lc_cell_meme": {
     "current": "083b2484-476b-11e7-aef1-02420aff0008",
     "history": [
      {
       "current": "083b2484-476b-11e7-aef1-02420aff0008",
       "next": "f4383b46-4762-11e7-aef1-02420aff0008",
       "previous": "083b22cc-476b-11e7-aef1-02420aff0008"
      }
     ],
     "next": "4fbac3d2-476b-11e7-aef1-02420aff0008",
     "previous": "4fbac2ce-476b-11e7-aef1-02420aff0008"
    },
    "lc_wrapper": {
     "log_history": [
      "/home/jovyan/.log/20190528/20190528-090301-0517.log"
     ]
    }
   },
   "outputs": [],
   "source": [
    "import tempfile\n",
    "import os\n",
    "work_dir = tempfile.mkdtemp() # テンポラリのディレクトリを作成\n",
    "notebook_dir = os.getcwd()\n",
    "\n",
    "print(work_dir, notebook_dir)"
   ]
  },
  {
   "cell_type": "markdown",
   "metadata": {
    "hidden": true,
    "lc_cell_meme": {
     "current": "4fbac3d2-476b-11e7-aef1-02420aff0008",
     "history": [
      {
       "current": "4fbac3d2-476b-11e7-aef1-02420aff0008",
       "next": "4fbac4ae-476b-11e7-aef1-02420aff0008",
       "previous": "083b2484-476b-11e7-aef1-02420aff0008"
      },
      {
       "current": "4fbac3d2-476b-11e7-aef1-02420aff0008",
       "next": "92623198-49a5-11e7-b462-02420aff0006",
       "previous": "083b2484-476b-11e7-aef1-02420aff0008"
      }
     ],
     "next": "4fbac4ae-476b-11e7-aef1-02420aff0008",
     "previous": "083b2484-476b-11e7-aef1-02420aff0008"
    }
   },
   "source": [
    "ファイルをダウンロードします。"
   ]
  },
  {
   "cell_type": "code",
   "execution_count": null,
   "metadata": {
    "hidden": true,
    "lc_cell_meme": {
     "current": "4fbac4ae-476b-11e7-aef1-02420aff0008",
     "history": [
      {
       "current": "4fbac4ae-476b-11e7-aef1-02420aff0008",
       "next": "4fbac580-476b-11e7-aef1-02420aff0008",
       "previous": "4fbac3d2-476b-11e7-aef1-02420aff0008"
      },
      {
       "current": "4fbac4ae-476b-11e7-aef1-02420aff0008",
       "next": "f4383b46-4762-11e7-aef1-02420aff0008",
       "previous": "4fbac3d2-476b-11e7-aef1-02420aff0008"
      },
      {
       "current": "4fbac4ae-476b-11e7-aef1-02420aff0008",
       "next": "f4383b46-4762-11e7-aef1-02420aff0008",
       "previous": "92623198-49a5-11e7-b462-02420aff0006"
      }
     ],
     "next": "f4383b46-4762-11e7-aef1-02420aff0008",
     "previous": "4fbac3d2-476b-11e7-aef1-02420aff0008"
    },
    "lc_wrapper": {
     "log_history": [
      "/home/jovyan/.log/20190528/20190528-090349-0977.log"
     ]
    },
    "scrolled": false
   },
   "outputs": [],
   "source": [
    "!cd {work_dir} && tar zxvf {notebook_dir}/resources/access-anonymous.log.tar.gz && cd {notebook_dir}; \\\n",
    "ls -latr {work_dir}/"
   ]
  },
  {
   "cell_type": "markdown",
   "metadata": {
    "heading_collapsed": true,
    "lc_cell_meme": {
     "current": "f4383b46-4762-11e7-aef1-02420aff0008",
     "history": [
      {
       "current": "f4383b46-4762-11e7-aef1-02420aff0008",
       "next": "f4383c40-4762-11e7-aef1-02420aff0008",
       "previous": null
      },
      {
       "current": "f4383b46-4762-11e7-aef1-02420aff0008",
       "next": "f4383c40-4762-11e7-aef1-02420aff0008",
       "previous": "7924cb10-476a-11e7-aef1-02420aff0008"
      },
      {
       "current": "f4383b46-4762-11e7-aef1-02420aff0008",
       "next": "f4383c40-4762-11e7-aef1-02420aff0008",
       "previous": "c0aebd42-476a-11e7-aef1-02420aff0008"
      },
      {
       "current": "f4383b46-4762-11e7-aef1-02420aff0008",
       "next": "f4383c40-4762-11e7-aef1-02420aff0008",
       "previous": "083b2484-476b-11e7-aef1-02420aff0008"
      },
      {
       "current": "f4383b46-4762-11e7-aef1-02420aff0008",
       "next": "f4383c40-4762-11e7-aef1-02420aff0008",
       "previous": "4fbac580-476b-11e7-aef1-02420aff0008"
      },
      {
       "current": "f4383b46-4762-11e7-aef1-02420aff0008",
       "next": "f4383c40-4762-11e7-aef1-02420aff0008",
       "previous": "4fbac4ae-476b-11e7-aef1-02420aff0008"
      }
     ],
     "next": "f4383d1c-4762-11e7-aef1-02420aff0008",
     "previous": "4fbac4ae-476b-11e7-aef1-02420aff0008"
    }
   },
   "source": [
    "# Nginx のログを解析する\n",
    "\n",
    "このWebサービスは Nginx を用いています。 先に取得したログを可視化してみましょう。\n",
    "以下の手順は [By Jess Johnson (http://grokcode.com)](http://grokcode.com) を参考にしています。\n",
    "\n",
    "以下の手順で、前節で読み込んだログファイルをパースして[PandasのDataFrame](http://pandas.pydata.org/pandas-docs/stable/generated/pandas.DataFrame.html)に変換します。\n",
    "\n",
    "---\n",
    "\n",
    "*<span class='fa fa-fw fa-play-circle'></span> をクリックすると一連の手順をまとめて実行できます。*\n",
    "*表題左側の <span class='fa fa-fw fa-caret-right' style='color:#a0a0a0;'></span> をクリックすると畳み込まれている手順を確認できます。*"
   ]
  },
  {
   "cell_type": "markdown",
   "metadata": {
    "hidden": true,
    "lc_cell_meme": {
     "current": "f4383d1c-4762-11e7-aef1-02420aff0008",
     "history": [
      {
       "current": "f4383d1c-4762-11e7-aef1-02420aff0008",
       "next": "f4383de4-4762-11e7-aef1-02420aff0008",
       "previous": "f4383c40-4762-11e7-aef1-02420aff0008"
      },
      {
       "current": "f4383d1c-4762-11e7-aef1-02420aff0008",
       "next": "f4383de4-4762-11e7-aef1-02420aff0008",
       "previous": "42d8b07c-49bc-11e7-b462-02420aff0006"
      },
      {
       "current": "f4383d1c-4762-11e7-aef1-02420aff0008",
       "next": "f4383de4-4762-11e7-aef1-02420aff0008",
       "previous": "f4383c40-4762-11e7-aef1-02420aff0008"
      }
     ],
     "next": "f4383de4-4762-11e7-aef1-02420aff0008",
     "previous": "f4383b46-4762-11e7-aef1-02420aff0008"
    }
   },
   "source": [
    "## Setup"
   ]
  },
  {
   "cell_type": "code",
   "execution_count": null,
   "metadata": {
    "hidden": true,
    "lc_cell_meme": {
     "current": "f4383de4-4762-11e7-aef1-02420aff0008",
     "next": "f4383eac-4762-11e7-aef1-02420aff0008",
     "previous": "f4383d1c-4762-11e7-aef1-02420aff0008"
    },
    "lc_wrapper": {
     "log_history": [
      "/home/jovyan/.log/20190528/20190528-090456-0319.log"
     ]
    }
   },
   "outputs": [],
   "source": [
    "%pylab inline"
   ]
  },
  {
   "cell_type": "markdown",
   "metadata": {
    "hidden": true,
    "lc_cell_meme": {
     "current": "f4383eac-4762-11e7-aef1-02420aff0008",
     "next": "f4383f74-4762-11e7-aef1-02420aff0008",
     "previous": "f4383de4-4762-11e7-aef1-02420aff0008"
    }
   },
   "source": [
    "Let's import the usual suspects. "
   ]
  },
  {
   "cell_type": "code",
   "execution_count": null,
   "metadata": {
    "hidden": true,
    "lc_cell_meme": {
     "current": "f4383f74-4762-11e7-aef1-02420aff0008",
     "next": "f4384028-4762-11e7-aef1-02420aff0008",
     "previous": "f4383eac-4762-11e7-aef1-02420aff0008"
    },
    "lc_wrapper": {
     "log_history": [
      "/home/jovyan/.log/20190528/20190528-090500-0247.log"
     ]
    }
   },
   "outputs": [],
   "source": [
    "import pandas as pd\n",
    "import numpy as np\n",
    "import sys\n",
    "import matplotlib.pyplot as plt"
   ]
  },
  {
   "cell_type": "markdown",
   "metadata": {
    "hidden": true,
    "lc_cell_meme": {
     "current": "f4384028-4762-11e7-aef1-02420aff0008",
     "history": [
      {
       "current": "f4384028-4762-11e7-aef1-02420aff0008",
       "next": "f43840f0-4762-11e7-aef1-02420aff0008",
       "previous": "f4383f74-4762-11e7-aef1-02420aff0008"
      },
      {
       "current": "f4384028-4762-11e7-aef1-02420aff0008",
       "next": "3dbc1292-4763-11e7-aef1-02420aff0008",
       "previous": "f4383f74-4762-11e7-aef1-02420aff0008"
      }
     ],
     "next": "f43840f0-4762-11e7-aef1-02420aff0008",
     "previous": "f4383f74-4762-11e7-aef1-02420aff0008"
    }
   },
   "source": [
    "We will also use [apachelog](https://code.google.com/p/apachelog/), which is a module for parsing apache logs, but it works fine with nginx logs as long as we give it the right format string. You can install it with `pip install apachelog`.  "
   ]
  },
  {
   "cell_type": "code",
   "execution_count": null,
   "metadata": {
    "hidden": true,
    "lc_cell_meme": {
     "current": "f43840f0-4762-11e7-aef1-02420aff0008",
     "history": [
      {
       "current": "f43840f0-4762-11e7-aef1-02420aff0008",
       "next": "f43841ae-4762-11e7-aef1-02420aff0008",
       "previous": "f4384028-4762-11e7-aef1-02420aff0008"
      },
      {
       "current": "f43840f0-4762-11e7-aef1-02420aff0008",
       "next": "f43841ae-4762-11e7-aef1-02420aff0008",
       "previous": "3dbc1292-4763-11e7-aef1-02420aff0008"
      }
     ],
     "next": "f43841ae-4762-11e7-aef1-02420aff0008",
     "previous": "f4384028-4762-11e7-aef1-02420aff0008"
    },
    "lc_wrapper": {
     "log_history": [
      "/home/jovyan/.log/20190528/20190528-090501-0966.log"
     ]
    }
   },
   "outputs": [],
   "source": [
    "import apachelog"
   ]
  },
  {
   "cell_type": "markdown",
   "metadata": {
    "hidden": true,
    "lc_cell_meme": {
     "current": "f43841ae-4762-11e7-aef1-02420aff0008",
     "next": "f4384280-4762-11e7-aef1-02420aff0008",
     "previous": "f43840f0-4762-11e7-aef1-02420aff0008"
    }
   },
   "source": [
    "## Parsing the log"
   ]
  },
  {
   "cell_type": "markdown",
   "metadata": {
    "hidden": true,
    "lc_cell_meme": {
     "current": "f4384280-4762-11e7-aef1-02420aff0008",
     "next": "f438433e-4762-11e7-aef1-02420aff0008",
     "previous": "f43841ae-4762-11e7-aef1-02420aff0008"
    }
   },
   "source": [
    "I started out by doing some command line preprocessing on the log in order to remove bots. I used `egrep -v` to filter out the bots that were hitting the site the most often. These were Googlebot, Bingbot, the New Relic uptime checker, Buidu spider, and a few others. A more careful approach would filter out everything on one of the known bot lists ([like this one](http://www.robotstxt.org/db.html)), but I'm going to play it a bit fast and loose.\n",
    "\n",
    "First of all let's get a sample line out of the `access.log` and try to parse it. Here is a description of the codes in the log format we are working with:\n",
    "\n",
    "    %h          - remote host (ie the client IP)\n",
    "    %l          - identity of the user determined by identd (not usually used since not reliable)\n",
    "    %u          - user name determined by HTTP authentication\n",
    "    %t          - time the server finished processing the request.\n",
    "    %r          - request line from the client. (\"GET / HTTP/1.0\")\n",
    "    %>s         - status code sent from the server to the client (200, 404 etc.)\n",
    "    %b          - size of the response to the client (in bytes)\n",
    "    %i      - Referer is the page that linked to this URL.\n",
    "    User-agent  - the browser identification string\n",
    "    %V          - the server name according to the UseCanonicalName setting"
   ]
  },
  {
   "cell_type": "code",
   "execution_count": null,
   "metadata": {
    "hidden": true,
    "lc_cell_meme": {
     "current": "f438433e-4762-11e7-aef1-02420aff0008",
     "next": "f43843fc-4762-11e7-aef1-02420aff0008",
     "previous": "f4384280-4762-11e7-aef1-02420aff0008"
    },
    "lc_wrapper": {
     "log_history": [
      "/home/jovyan/.log/20190528/20190528-090504-0858.log"
     ]
    }
   },
   "outputs": [],
   "source": [
    "sample_string = '178.137.91.215 - - [21/Feb/2014:06:44:53 +0000] \"GET /work/homepages-maths-year-6/ HTTP/1.0\" \\\n",
    "200 10427 \"http://authoralcove.com/work/homepages-maths-year-6/\" \"Opera/9.80 (Windows NT 6.1; WOW64; U; ru) \\\n",
    "Presto/2.10.289 Version/12.00\" \"-\"'\n",
    "nformat = r'%h %l %u %t \\\"%r\\\" %>s %b \\\"%i\\\" \\\"%{User-Agent}i\\\" \\\"%V\\\"'\n",
    "p = apachelog.parser(nformat)\n",
    "data = p.parse(sample_string)\n",
    "data"
   ]
  },
  {
   "cell_type": "markdown",
   "metadata": {
    "hidden": true,
    "lc_cell_meme": {
     "current": "f43843fc-4762-11e7-aef1-02420aff0008",
     "next": "f43844ba-4762-11e7-aef1-02420aff0008",
     "previous": "f438433e-4762-11e7-aef1-02420aff0008"
    }
   },
   "source": [
    "Now let's parse each line while preparing the access time so that pandas will be able to handle it."
   ]
  },
  {
   "cell_type": "code",
   "execution_count": null,
   "metadata": {
    "hidden": true,
    "lc_cell_meme": {
     "current": "f43844ba-4762-11e7-aef1-02420aff0008",
     "next": "f438456e-4762-11e7-aef1-02420aff0008",
     "previous": "f43843fc-4762-11e7-aef1-02420aff0008"
    },
    "lc_wrapper": {
     "log_history": [
      "/home/jovyan/.log/20190528/20190528-090637-0406.log"
     ]
    }
   },
   "outputs": [],
   "source": [
    "import os\n",
    "from apachelog import ApacheLogParserError\n",
    "log_list = []\n",
    "log_dir = work_dir\n",
    "log_file = 'access-anonymous.log'\n",
    "\n",
    "with open(os.path.join(log_dir, log_file)) as f:\n",
    "    for line in f.readlines():\n",
    "        data = p.parse(line)\n",
    "        data['%t'] = data['%t'][1:12]+' '+data['%t'][13:21]+' '+data['%t'][22:27]\n",
    "        log_list.append(data)"
   ]
  },
  {
   "cell_type": "markdown",
   "metadata": {
    "hidden": true,
    "lc_cell_meme": {
     "current": "f438456e-4762-11e7-aef1-02420aff0008",
     "next": "f438462c-4762-11e7-aef1-02420aff0008",
     "previous": "f43844ba-4762-11e7-aef1-02420aff0008"
    }
   },
   "source": [
    "Loading into pandas."
   ]
  },
  {
   "cell_type": "code",
   "execution_count": null,
   "metadata": {
    "hidden": true,
    "lc_cell_meme": {
     "current": "f438462c-4762-11e7-aef1-02420aff0008",
     "next": "f43846ea-4762-11e7-aef1-02420aff0008",
     "previous": "f438456e-4762-11e7-aef1-02420aff0008"
    },
    "lc_wrapper": {
     "log_history": [
      "/home/jovyan/.log/20190528/20190528-090640-0066.log"
     ]
    }
   },
   "outputs": [],
   "source": [
    "from pandas import Series, DataFrame, Panel\n",
    "df = DataFrame(log_list)\n",
    "df[0:3] "
   ]
  },
  {
   "cell_type": "markdown",
   "metadata": {
    "hidden": true,
    "lc_cell_meme": {
     "current": "f43846ea-4762-11e7-aef1-02420aff0008",
     "next": "f43847a8-4762-11e7-aef1-02420aff0008",
     "previous": "f438462c-4762-11e7-aef1-02420aff0008"
    }
   },
   "source": [
    "Now lets clean up the pandas dataframe a bit by deleting some columns we aren't interested in and renaming the remaining columns."
   ]
  },
  {
   "cell_type": "code",
   "execution_count": null,
   "metadata": {
    "hidden": true,
    "lc_cell_meme": {
     "current": "f43847a8-4762-11e7-aef1-02420aff0008",
     "next": "f4384866-4762-11e7-aef1-02420aff0008",
     "previous": "f43846ea-4762-11e7-aef1-02420aff0008"
    },
    "lc_wrapper": {
     "log_history": [
      "/home/jovyan/.log/20190528/20190528-090641-0520.log"
     ]
    }
   },
   "outputs": [],
   "source": [
    "del df['%V']\n",
    "del df['%h']\n",
    "del df['%i']\n",
    "del df['%l']\n",
    "del df['%u']\n",
    "del df['%{User-Agent}i']\n",
    "df[0:5]"
   ]
  },
  {
   "cell_type": "code",
   "execution_count": null,
   "metadata": {
    "hidden": true,
    "lc_cell_meme": {
     "current": "f4384866-4762-11e7-aef1-02420aff0008",
     "next": "f4384924-4762-11e7-aef1-02420aff0008",
     "previous": "f43847a8-4762-11e7-aef1-02420aff0008"
    },
    "lc_wrapper": {
     "log_history": [
      "/home/jovyan/.log/20190528/20190528-090644-0762.log"
     ]
    }
   },
   "outputs": [],
   "source": [
    "df = df.rename(columns={'%>s': 'Status', '%b':'b', \n",
    "                        '%r':'Request', '%t': 'Time'})\n",
    "df[0:2]"
   ]
  },
  {
   "cell_type": "markdown",
   "metadata": {
    "hidden": true,
    "lc_cell_meme": {
     "current": "f4384924-4762-11e7-aef1-02420aff0008",
     "history": [
      {
       "current": "f4384924-4762-11e7-aef1-02420aff0008",
       "next": "f43849e2-4762-11e7-aef1-02420aff0008",
       "previous": "f4384866-4762-11e7-aef1-02420aff0008"
      },
      {
       "current": "f4384924-4762-11e7-aef1-02420aff0008",
       "next": "bddb3c9a-4b6f-11e7-b7d8-02420aff0008",
       "previous": "f4384866-4762-11e7-aef1-02420aff0008"
      }
     ],
     "next": "f43849e2-4762-11e7-aef1-02420aff0008",
     "previous": "f4384866-4762-11e7-aef1-02420aff0008"
    }
   },
   "source": [
    "Massage the data a bit more so that the access time is a `datetime`, status is an `int`, and the response size is in MB, with missing data represented as `NaN`, not `-`."
   ]
  },
  {
   "cell_type": "code",
   "execution_count": null,
   "metadata": {
    "hidden": true,
    "lc_cell_meme": {
     "current": "f43849e2-4762-11e7-aef1-02420aff0008",
     "history": [
      {
       "current": "f43849e2-4762-11e7-aef1-02420aff0008",
       "next": "f4384aa0-4762-11e7-aef1-02420aff0008",
       "previous": "f4384924-4762-11e7-aef1-02420aff0008"
      },
      {
       "current": "f43849e2-4762-11e7-aef1-02420aff0008",
       "next": "f4384aa0-4762-11e7-aef1-02420aff0008",
       "previous": "bddb3c9a-4b6f-11e7-b7d8-02420aff0008"
      }
     ],
     "next": "f4384aa0-4762-11e7-aef1-02420aff0008",
     "previous": "f4384924-4762-11e7-aef1-02420aff0008"
    },
    "lc_wrapper": {
     "log_history": [
      "/home/jovyan/.log/20190528/20190528-090645-0729.log"
     ]
    }
   },
   "outputs": [],
   "source": [
    "df.index = pd.to_datetime(df.pop('Time'))"
   ]
  },
  {
   "cell_type": "code",
   "execution_count": null,
   "metadata": {
    "hidden": true,
    "lc_cell_meme": {
     "current": "f4384aa0-4762-11e7-aef1-02420aff0008",
     "next": "f4384b7c-4762-11e7-aef1-02420aff0008",
     "previous": "f43849e2-4762-11e7-aef1-02420aff0008"
    },
    "lc_wrapper": {
     "log_history": [
      "/home/jovyan/.log/20190528/20190528-090649-0359.log"
     ]
    }
   },
   "outputs": [],
   "source": [
    "df['Status'] = df['Status'].astype('int')"
   ]
  },
  {
   "cell_type": "code",
   "execution_count": null,
   "metadata": {
    "hidden": true,
    "lc_cell_meme": {
     "current": "f4384b7c-4762-11e7-aef1-02420aff0008",
     "history": [
      {
       "current": "f4384b7c-4762-11e7-aef1-02420aff0008",
       "next": "f4384c3a-4762-11e7-aef1-02420aff0008",
       "previous": "f4384aa0-4762-11e7-aef1-02420aff0008"
      }
     ],
     "next": "7e27a61e-4b61-11e7-b7d8-02420aff0008",
     "previous": "f4384aa0-4762-11e7-aef1-02420aff0008"
    },
    "lc_wrapper": {
     "log_history": [
      "/home/jovyan/.log/20190528/20190528-090649-0428.log"
     ]
    }
   },
   "outputs": [],
   "source": [
    "def dash2nan(x):\n",
    "    if x == '-':\n",
    "        x = np.nan\n",
    "    else:\n",
    "        x = float(x)/1048576.\n",
    "    \n",
    "    return x\n",
    "df['b'] = df['b'].apply(dash2nan)"
   ]
  },
  {
   "cell_type": "code",
   "execution_count": null,
   "metadata": {
    "hidden": true,
    "lc_cell_meme": {
     "current": "7e27a61e-4b61-11e7-b7d8-02420aff0008",
     "next": "f4384c3a-4762-11e7-aef1-02420aff0008",
     "previous": "f4384b7c-4762-11e7-aef1-02420aff0008"
    },
    "lc_wrapper": {
     "log_history": [
      "/home/jovyan/.log/20190528/20190528-090649-0511.log"
     ]
    }
   },
   "outputs": [],
   "source": [
    "df[0:2]"
   ]
  },
  {
   "cell_type": "markdown",
   "metadata": {
    "lc_cell_meme": {
     "current": "f4384c3a-4762-11e7-aef1-02420aff0008",
     "history": [
      {
       "current": "f4384c3a-4762-11e7-aef1-02420aff0008",
       "next": "f4384cf8-4762-11e7-aef1-02420aff0008",
       "previous": "f4384b7c-4762-11e7-aef1-02420aff0008"
      }
     ],
     "next": "f4384cf8-4762-11e7-aef1-02420aff0008",
     "previous": "7e27a61e-4b61-11e7-b7d8-02420aff0008"
    }
   },
   "source": [
    "# 解析結果を可視化する"
   ]
  },
  {
   "cell_type": "markdown",
   "metadata": {
    "lc_cell_meme": {
     "current": "f4384cf8-4762-11e7-aef1-02420aff0008",
     "next": "f4384df2-4762-11e7-aef1-02420aff0008",
     "previous": "f4384c3a-4762-11e7-aef1-02420aff0008"
    }
   },
   "source": [
    "以下のセルでは以前の実行結果を残してあります。 ここまでのステップを実行した後で実行すると、内容がアップデートされます。\n",
    "\n",
    "First let's increase the graph size."
   ]
  },
  {
   "cell_type": "code",
   "execution_count": 15,
   "metadata": {
    "lc_cell_meme": {
     "current": "f4384df2-4762-11e7-aef1-02420aff0008",
     "next": "f4384eba-4762-11e7-aef1-02420aff0008",
     "previous": "f4384cf8-4762-11e7-aef1-02420aff0008"
    },
    "lc_wrapper": {
     "log_history": [
      "/home/jovyan/.log/20190528/20190528-090649-0589.log"
     ]
    }
   },
   "outputs": [],
   "source": [
    "from pylab import *\n",
    "rcParams['figure.figsize'] = 10, 5 # width, height in inches"
   ]
  },
  {
   "cell_type": "markdown",
   "metadata": {
    "lc_cell_meme": {
     "current": "f4384eba-4762-11e7-aef1-02420aff0008",
     "next": "f4384f78-4762-11e7-aef1-02420aff0008",
     "previous": "f4384df2-4762-11e7-aef1-02420aff0008"
    }
   },
   "source": [
    "Now let's graph the requests hitting the web server. `10t` will use a 10 minute interval size, so each point on the graph shows the number of requestes in a 10 minute window."
   ]
  },
  {
   "cell_type": "code",
   "execution_count": 16,
   "metadata": {
    "lc_cell_meme": {
     "current": "f4384f78-4762-11e7-aef1-02420aff0008",
     "next": "f4385036-4762-11e7-aef1-02420aff0008",
     "previous": "f4384eba-4762-11e7-aef1-02420aff0008"
    },
    "lc_wrapper": {
     "log_history": [
      "/home/jovyan/.log/20190528/20190528-090652-0068.log"
     ]
    }
   },
   "outputs": [
    {
     "data": {
      "text/plain": [
       "<matplotlib.axes._subplots.AxesSubplot at 0x7fb890ac1e80>"
      ]
     },
     "execution_count": 16,
     "metadata": {},
     "output_type": "execute_result"
    },
    {
     "data": {
      "image/png": "[encoded data removed]",
      "text/plain": [
       "<Figure size 720x360 with 1 Axes>"
      ]
     },
     "metadata": {
      "needs_background": "light"
     },
     "output_type": "display_data"
    }
   ],
   "source": [
    "df_s = df['Status'].resample('10t').count()\n",
    "df_s.plot()\n"
   ]
  },
  {
   "cell_type": "markdown",
   "metadata": {
    "lc_cell_meme": {
     "current": "f4385036-4762-11e7-aef1-02420aff0008",
     "next": "f43850f4-4762-11e7-aef1-02420aff0008",
     "previous": "f4384f78-4762-11e7-aef1-02420aff0008"
    }
   },
   "source": [
    "Let's see how the server held up by looking at some response codes."
   ]
  },
  {
   "cell_type": "code",
   "execution_count": 17,
   "metadata": {
    "lc_cell_meme": {
     "current": "f43850f4-4762-11e7-aef1-02420aff0008",
     "next": "f43851b2-4762-11e7-aef1-02420aff0008",
     "previous": "f4385036-4762-11e7-aef1-02420aff0008"
    },
    "lc_wrapper": {
     "log_history": [
      "/home/jovyan/.log/20190528/20190528-090655-0269.log"
     ]
    }
   },
   "outputs": [
    {
     "data": {
      "text/plain": [
       "405    10830\n",
       "200     6756\n",
       "304     3367\n",
       "302      698\n",
       "400      295\n",
       "101      160\n",
       "404      110\n",
       "201      108\n",
       "502       41\n",
       "204       26\n",
       "504       14\n",
       "499        8\n",
       "Name: Status, dtype: int64"
      ]
     },
     "execution_count": 17,
     "metadata": {},
     "output_type": "execute_result"
    }
   ],
   "source": [
    "df['Status'].value_counts()"
   ]
  },
  {
   "cell_type": "markdown",
   "metadata": {
    "lc_cell_meme": {
     "current": "f43851b2-4762-11e7-aef1-02420aff0008",
     "history": [
      {
       "current": "f43851b2-4762-11e7-aef1-02420aff0008",
       "next": "f4385270-4762-11e7-aef1-02420aff0008",
       "previous": "f43850f4-4762-11e7-aef1-02420aff0008"
      },
      {
       "current": "f43851b2-4762-11e7-aef1-02420aff0008",
       "next": "49685b64-4b64-11e7-b7d8-02420aff0008",
       "previous": "f43850f4-4762-11e7-aef1-02420aff0008"
      }
     ],
     "next": "f4385270-4762-11e7-aef1-02420aff0008",
     "previous": "f43850f4-4762-11e7-aef1-02420aff0008"
    }
   },
   "source": [
    "500番台のエラーコード、499, 444 が出力される場合は注意\n",
    "\n",
    "There are quite a few 500 errors here. 499 errors are also bad news because it means that the client closed the connection before the page could be served. These are almost certainly because the site wasn't responding in a reasonable timeframe.\n",
    "\n",
    "Let's graph the response codes."
   ]
  },
  {
   "cell_type": "code",
   "execution_count": 18,
   "metadata": {
    "lc_cell_meme": {
     "current": "f4385270-4762-11e7-aef1-02420aff0008",
     "history": [
      {
       "current": "f4385270-4762-11e7-aef1-02420aff0008",
       "next": "f438532e-4762-11e7-aef1-02420aff0008",
       "previous": "f43851b2-4762-11e7-aef1-02420aff0008"
      },
      {
       "current": "f4385270-4762-11e7-aef1-02420aff0008",
       "next": "f438532e-4762-11e7-aef1-02420aff0008",
       "previous": "49685b64-4b64-11e7-b7d8-02420aff0008"
      },
      {
       "current": "f4385270-4762-11e7-aef1-02420aff0008",
       "next": "49685b64-4b64-11e7-b7d8-02420aff0008",
       "previous": "f43851b2-4762-11e7-aef1-02420aff0008"
      }
     ],
     "next": "f438532e-4762-11e7-aef1-02420aff0008",
     "previous": "f43851b2-4762-11e7-aef1-02420aff0008"
    },
    "lc_wrapper": {
     "log_history": [
      "/home/jovyan/.log/20190528/20190528-090656-0168.log"
     ]
    }
   },
   "outputs": [
    {
     "data": {
      "text/plain": [
       "<matplotlib.axes._subplots.AxesSubplot at 0x7fb891033550>"
      ]
     },
     "execution_count": 18,
     "metadata": {},
     "output_type": "execute_result"
    },
    {
     "data": {
      "image/png": "[encoded data removed]",
      "text/plain": [
       "<Figure size 720x360 with 1 Axes>"
      ]
     },
     "metadata": {
      "needs_background": "light"
     },
     "output_type": "display_data"
    }
   ],
   "source": [
    "grouped_status = df.groupby('Status')\n",
    "grouped_status.size().plot(kind='bar')"
   ]
  },
  {
   "cell_type": "markdown",
   "metadata": {
    "lc_cell_meme": {
     "current": "f438532e-4762-11e7-aef1-02420aff0008",
     "history": [
      {
       "current": "f438532e-4762-11e7-aef1-02420aff0008",
       "next": "f43853ec-4762-11e7-aef1-02420aff0008",
       "previous": "f4385270-4762-11e7-aef1-02420aff0008"
      },
      {
       "current": "f438532e-4762-11e7-aef1-02420aff0008",
       "next": "f43853ec-4762-11e7-aef1-02420aff0008",
       "previous": "49685b64-4b64-11e7-b7d8-02420aff0008"
      }
     ],
     "next": "f43853ec-4762-11e7-aef1-02420aff0008",
     "previous": "f4385270-4762-11e7-aef1-02420aff0008"
    }
   },
   "source": [
    "OK that doesn't look too bad. The vast majority of requests were served a 200 (OK) response.\n",
    "\n",
    "Let's graph the most common response codes over time, with a sample timespan of 1 hour."
   ]
  },
  {
   "cell_type": "code",
   "execution_count": 19,
   "metadata": {
    "lc_cell_meme": {
     "current": "f43853ec-4762-11e7-aef1-02420aff0008",
     "next": "f43854a0-4762-11e7-aef1-02420aff0008",
     "previous": "f438532e-4762-11e7-aef1-02420aff0008"
    },
    "lc_wrapper": {
     "log_history": [
      "/home/jovyan/.log/20190528/20190528-090658-0125.log"
     ]
    }
   },
   "outputs": [],
   "source": [
    "t_span = '60t'\n",
    "df_200 = df['Status'][df['Status'] == 200].resample(t_span).count()\n",
    "df_502 = df['Status'][df['Status'] == 502].resample(t_span).count()\n",
    "df_499 = df['Status'][df['Status'] == 499].resample(t_span).count()\n",
    "df_304 = df['Status'][df['Status'] == 304].resample(t_span).count()\n",
    "df_302 = df['Status'][df['Status'] == 302].resample(t_span).count()\n",
    "df_404 = df['Status'][df['Status'] == 404].resample(t_span).count()\n",
    "df_504 = df['Status'][df['Status'] == 504].resample(t_span).count()\n",
    "df_301 = df['Status'][df['Status'] == 301].resample(t_span).count()\n",
    "\n",
    "status_df = DataFrame({'OK': df_200, \n",
    "                       'Bad Gateway': df_502, \n",
    "                       'Client Closed': df_499, \n",
    "                       'Not Modified': df_304, \n",
    "                       'Found': df_302, \n",
    "                       'Not Found': df_404,\n",
    "                       'Gateway Timeout': df_504,\n",
    "                       'Moved Permenantely': df_301})"
   ]
  },
  {
   "cell_type": "code",
   "execution_count": 20,
   "metadata": {
    "lc_cell_meme": {
     "current": "f43854a0-4762-11e7-aef1-02420aff0008",
     "next": "f438555e-4762-11e7-aef1-02420aff0008",
     "previous": "f43853ec-4762-11e7-aef1-02420aff0008"
    },
    "lc_wrapper": {
     "log_history": [
      "/home/jovyan/.log/20190528/20190528-090658-0787.log"
     ]
    }
   },
   "outputs": [
    {
     "data": {
      "text/html": [
       "<div>\n",
       "<style scoped>\n",
       "    .dataframe tbody tr th:only-of-type {\n",
       "        vertical-align: middle;\n",
       "    }\n",
       "\n",
       "    .dataframe tbody tr th {\n",
       "        vertical-align: top;\n",
       "    }\n",
       "\n",
       "    .dataframe thead th {\n",
       "        text-align: right;\n",
       "    }\n",
       "</style>\n",
       "<table border=\"1\" class=\"dataframe\">\n",
       "  <thead>\n",
       "    <tr style=\"text-align: right;\">\n",
       "      <th></th>\n",
       "      <th>OK</th>\n",
       "      <th>Bad Gateway</th>\n",
       "      <th>Client Closed</th>\n",
       "      <th>Not Modified</th>\n",
       "      <th>Found</th>\n",
       "      <th>Not Found</th>\n",
       "      <th>Gateway Timeout</th>\n",
       "      <th>Moved Permenantely</th>\n",
       "    </tr>\n",
       "    <tr>\n",
       "      <th>Time</th>\n",
       "      <th></th>\n",
       "      <th></th>\n",
       "      <th></th>\n",
       "      <th></th>\n",
       "      <th></th>\n",
       "      <th></th>\n",
       "      <th></th>\n",
       "      <th></th>\n",
       "    </tr>\n",
       "  </thead>\n",
       "  <tbody>\n",
       "    <tr>\n",
       "      <th>2017-07-01 17:00:00+09:00</th>\n",
       "      <td>0.0</td>\n",
       "      <td>0.0</td>\n",
       "      <td>0.0</td>\n",
       "      <td>0.0</td>\n",
       "      <td>1</td>\n",
       "      <td>0.0</td>\n",
       "      <td>0.0</td>\n",
       "      <td>0.0</td>\n",
       "    </tr>\n",
       "    <tr>\n",
       "      <th>2017-07-01 18:00:00+09:00</th>\n",
       "      <td>0.0</td>\n",
       "      <td>0.0</td>\n",
       "      <td>1.0</td>\n",
       "      <td>0.0</td>\n",
       "      <td>0</td>\n",
       "      <td>0.0</td>\n",
       "      <td>0.0</td>\n",
       "      <td>0.0</td>\n",
       "    </tr>\n",
       "    <tr>\n",
       "      <th>2017-07-01 19:00:00+09:00</th>\n",
       "      <td>0.0</td>\n",
       "      <td>0.0</td>\n",
       "      <td>0.0</td>\n",
       "      <td>0.0</td>\n",
       "      <td>0</td>\n",
       "      <td>0.0</td>\n",
       "      <td>0.0</td>\n",
       "      <td>0.0</td>\n",
       "    </tr>\n",
       "    <tr>\n",
       "      <th>2017-07-01 20:00:00+09:00</th>\n",
       "      <td>0.0</td>\n",
       "      <td>0.0</td>\n",
       "      <td>0.0</td>\n",
       "      <td>0.0</td>\n",
       "      <td>1</td>\n",
       "      <td>0.0</td>\n",
       "      <td>0.0</td>\n",
       "      <td>0.0</td>\n",
       "    </tr>\n",
       "    <tr>\n",
       "      <th>2017-07-01 21:00:00+09:00</th>\n",
       "      <td>0.0</td>\n",
       "      <td>0.0</td>\n",
       "      <td>0.0</td>\n",
       "      <td>0.0</td>\n",
       "      <td>0</td>\n",
       "      <td>0.0</td>\n",
       "      <td>0.0</td>\n",
       "      <td>0.0</td>\n",
       "    </tr>\n",
       "  </tbody>\n",
       "</table>\n",
       "</div>"
      ],
      "text/plain": [
       "                            OK  Bad Gateway  Client Closed  Not Modified  \\\n",
       "Time                                                                       \n",
       "2017-07-01 17:00:00+09:00  0.0          0.0            0.0           0.0   \n",
       "2017-07-01 18:00:00+09:00  0.0          0.0            1.0           0.0   \n",
       "2017-07-01 19:00:00+09:00  0.0          0.0            0.0           0.0   \n",
       "2017-07-01 20:00:00+09:00  0.0          0.0            0.0           0.0   \n",
       "2017-07-01 21:00:00+09:00  0.0          0.0            0.0           0.0   \n",
       "\n",
       "                           Found  Not Found  Gateway Timeout  \\\n",
       "Time                                                           \n",
       "2017-07-01 17:00:00+09:00      1        0.0              0.0   \n",
       "2017-07-01 18:00:00+09:00      0        0.0              0.0   \n",
       "2017-07-01 19:00:00+09:00      0        0.0              0.0   \n",
       "2017-07-01 20:00:00+09:00      1        0.0              0.0   \n",
       "2017-07-01 21:00:00+09:00      0        0.0              0.0   \n",
       "\n",
       "                           Moved Permenantely  \n",
       "Time                                           \n",
       "2017-07-01 17:00:00+09:00                 0.0  \n",
       "2017-07-01 18:00:00+09:00                 0.0  \n",
       "2017-07-01 19:00:00+09:00                 0.0  \n",
       "2017-07-01 20:00:00+09:00                 0.0  \n",
       "2017-07-01 21:00:00+09:00                 0.0  "
      ]
     },
     "execution_count": 20,
     "metadata": {},
     "output_type": "execute_result"
    }
   ],
   "source": [
    "status_df.fillna(0, inplace=True)\n",
    "status_df[0:5]"
   ]
  },
  {
   "cell_type": "code",
   "execution_count": 21,
   "metadata": {
    "lc_cell_meme": {
     "current": "f438555e-4762-11e7-aef1-02420aff0008",
     "next": "f4385626-4762-11e7-aef1-02420aff0008",
     "previous": "f43854a0-4762-11e7-aef1-02420aff0008"
    },
    "lc_wrapper": {
     "log_history": [
      "/home/jovyan/.log/20190528/20190528-090659-0456.log"
     ]
    }
   },
   "outputs": [
    {
     "data": {
      "text/plain": [
       "<matplotlib.legend.Legend at 0x7fb890db2860>"
      ]
     },
     "execution_count": 21,
     "metadata": {},
     "output_type": "execute_result"
    },
    {
     "data": {
      "image/png": "[encoded data removed]",
      "text/plain": [
       "<Figure size 720x360 with 1 Axes>"
      ]
     },
     "metadata": {
      "needs_background": "light"
     },
     "output_type": "display_data"
    }
   ],
   "source": [
    "status_df.plot()\n",
    "legend()"
   ]
  },
  {
   "cell_type": "markdown",
   "metadata": {
    "lc_cell_meme": {
     "current": "f4385626-4762-11e7-aef1-02420aff0008",
     "next": "f43856e4-4762-11e7-aef1-02420aff0008",
     "previous": "f438555e-4762-11e7-aef1-02420aff0008"
    }
   },
   "source": [
    "ブラウザのキャッシュがどれぐらい有効か集計してみる。\n",
    "\n",
    "    200    Success    OK \n",
    "    206    Success    Partial content\n",
    "    304    Cache      Not modified\n",
    "    302    Success    Found\n",
    "    301    Success    Moved permanently\n",
    "    400    Failure    Bad request\n",
    "    401    Failure    Unauthorized\n",
    "    403    Failure    Forbidden\n",
    "    404    Failure    Not Found\n",
    "    405    Failure    Method not allowed\n",
    "    408    Failure    Request timeout\n",
    "    444    Failure    No response\n",
    "    499    Failure    Client closed request\n",
    "    502    Failure    Bad Gateway\n",
    "    504    Failure    Gateway timeout\n",
    "    500    Failure    Internal server error\n"
   ]
  },
  {
   "cell_type": "code",
   "execution_count": 22,
   "metadata": {
    "lc_cell_meme": {
     "current": "f43856e4-4762-11e7-aef1-02420aff0008",
     "history": [
      {
       "current": "f43856e4-4762-11e7-aef1-02420aff0008",
       "next": "f4385798-4762-11e7-aef1-02420aff0008",
       "previous": "f4385626-4762-11e7-aef1-02420aff0008"
      }
     ],
     "next": "50cdf1de-4b69-11e7-b7d8-02420aff0008",
     "previous": "f4385626-4762-11e7-aef1-02420aff0008"
    },
    "lc_wrapper": {
     "log_history": [
      "/home/jovyan/.log/20190528/20190528-090702-0989.log"
     ]
    }
   },
   "outputs": [
    {
     "data": {
      "text/plain": [
       "<matplotlib.legend.Legend at 0x7fb888ab35f8>"
      ]
     },
     "execution_count": 22,
     "metadata": {},
     "output_type": "execute_result"
    },
    {
     "data": {
      "image/png": "[encoded data removed]",
      "text/plain": [
       "<Figure size 720x360 with 1 Axes>"
      ]
     },
     "metadata": {
      "needs_background": "light"
     },
     "output_type": "display_data"
    }
   ],
   "source": [
    "success_df = df['Status'][df['Status'].isin([200, 206, 304, 302, 301])].resample(t_span).count()\n",
    "fail_df = df['Status'][df['Status'].isin([400, 401, 403, 404, 405, 444, 499, 502, 504, 500])].resample(t_span).count()\n",
    "cache_df =df['Status'][df['Status'].isin([304])].resample(t_span).count()\n",
    "statusx_df = DataFrame({'Success': success_df, 'Cached': cache_df}) \n",
    "statusx_df.plot.barh(stacked=True)\n",
    "legend()\n"
   ]
  },
  {
   "cell_type": "markdown",
   "metadata": {
    "lc_cell_meme": {
     "current": "50cdf1de-4b69-11e7-b7d8-02420aff0008",
     "history": [
      {
       "current": "50cdf1de-4b69-11e7-b7d8-02420aff0008",
       "next": "49685b64-4b64-11e7-b7d8-02420aff0008",
       "previous": "f43856e4-4762-11e7-aef1-02420aff0008"
      }
     ],
     "next": "19265876-49ab-11e7-b462-02420aff0006",
     "previous": "f43856e4-4762-11e7-aef1-02420aff0008"
    }
   },
   "source": [
    "静的なコンテンツ等を除いたアクセスランキング"
   ]
  },
  {
   "cell_type": "markdown",
   "metadata": {
    "lc_cell_meme": {
     "current": "19265876-49ab-11e7-b462-02420aff0006",
     "history": [
      {
       "current": "19265876-49ab-11e7-b462-02420aff0006",
       "next": null,
       "previous": "f4385932-4762-11e7-aef1-02420aff0008"
      },
      {
       "current": "19265876-49ab-11e7-b462-02420aff0006",
       "next": "49685b64-4b64-11e7-b7d8-02420aff0008",
       "previous": "f4385932-4762-11e7-aef1-02420aff0008"
      },
      {
       "current": "19265876-49ab-11e7-b462-02420aff0006",
       "next": null,
       "previous": "f438586a-4762-11e7-aef1-02420aff0008"
      },
      {
       "current": "19265876-49ab-11e7-b462-02420aff0006",
       "next": null,
       "previous": "49685b64-4b64-11e7-b7d8-02420aff0008"
      },
      {
       "current": "19265876-49ab-11e7-b462-02420aff0006",
       "next": "055f99da-4b70-11e7-b7d8-02420aff0008",
       "previous": "49685b64-4b64-11e7-b7d8-02420aff0008"
      },
      {
       "current": "19265876-49ab-11e7-b462-02420aff0006",
       "next": null,
       "previous": "49685b64-4b64-11e7-b7d8-02420aff0008"
      },
      {
       "current": "19265876-49ab-11e7-b462-02420aff0006",
       "next": null,
       "previous": "1832c73c-4b73-11e7-b7d8-02420aff0008"
      }
     ],
     "next": null,
     "previous": "50cdf1de-4b69-11e7-b7d8-02420aff0008"
    }
   },
   "source": [
    "# 参考資料\n",
    "* https://github.com/grokcode/ipython-notebooks (MIT License)"
   ]
  }
 ],
 "metadata": {
  "kernelspec": {
   "display_name": "Python 3 (LC_wrapper)",
   "language": "python",
   "name": "python3-wrapper"
  },
  "language_info": {
   "file_extension": ".py",
   "mimetype": "text/x-python",
   "name": "python",
   "nbconvert_exporter": "python",
   "pygments_lexer": "ipython3",
   "version": "3.7.3"
  },
  "lc_notebook_meme": {
   "current": "f4383952-4762-11e7-aef1-02420aff0008",
   "lc_server_signature": {
    "current": {
     "notebook_dir": "/home/jovyan",
     "notebook_path": "/",
     "server_url": "http://localhost:9999/",
     "signature_id": "28b99dea-7a85-11e9-9fa2-0242ac110002"
    },
    "history": [
     {
      "notebook_dir": "/home/jovyan",
      "notebook_path": "/",
      "server_url": "http://localhost:9999/",
      "signature_id": "28b99dea-7a85-11e9-9fa2-0242ac110002"
     },
     {
      "notebook_dir": "/home/jovyan",
      "notebook_path": "/",
      "server_url": "http://localhost:9999/",
      "signature_id": "bf9cc2a0-8115-11e9-be03-0242ac110002"
     }
    ]
   }
  },
  "sidestickies": {
   "visible": true
  },
  "toc": {
   "base_numbering": 1,
   "nav_menu": {
    "height": "102px",
    "width": "252px"
   },
   "number_sections": true,
   "sideBar": true,
   "skip_h1_title": false,
   "title_cell": "Table of Contents",
   "title_sidebar": "Contents",
   "toc_cell": false,
   "toc_position": {},
   "toc_section_display": "block",
   "toc_window_display": false
  }
 },
 "nbformat": 4,
 "nbformat_minor": 1
}
