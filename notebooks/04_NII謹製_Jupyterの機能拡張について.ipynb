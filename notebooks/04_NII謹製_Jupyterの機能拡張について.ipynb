{
 "cells": [
  {
   "cell_type": "markdown",
   "metadata": {
    "lc_cell_meme": {
     "current": "ab49902a-45ef-11e7-a8e4-0242ac110002",
     "history": [
      {
       "current": "ab49902a-45ef-11e7-a8e4-0242ac110002",
       "next": "ab49925a-45ef-11e7-a8e4-0242ac110002",
       "previous": null
      },
      {
       "current": "ab49902a-45ef-11e7-a8e4-0242ac110002",
       "next": "325b2b76-3f76-11e7-806f-0242ac110002",
       "previous": null
      },
      {
       "current": "ab49902a-45ef-11e7-a8e4-0242ac110002",
       "next": "325b2b76-3f76-11e7-806f-0242ac110002",
       "previous": "489d7a82-467a-11e7-aba3-02420aff0006"
      },
      {
       "current": "ab49902a-45ef-11e7-a8e4-0242ac110002",
       "next": "7d68317e-49d3-11e7-9220-02420aff0006",
       "previous": "489d7a82-467a-11e7-aba3-02420aff0006"
      },
      {
       "current": "ab49902a-45ef-11e7-a8e4-0242ac110002",
       "next": "6e303f18-49dc-11e7-9220-02420aff0006",
       "previous": "489d7a82-467a-11e7-aba3-02420aff0006"
      },
      {
       "current": "ab49902a-45ef-11e7-a8e4-0242ac110002",
       "next": "6e303f18-49dc-11e7-9220-02420aff0006",
       "previous": null
      }
     ],
     "next": "296c6ee6-4a69-11e7-9e8a-02420aff000a",
     "previous": null
    }
   },
   "source": [
    "# Literate Computing for Reproducible Infrastructure\n",
    "<img src=\"./images/jupyterhub-logo.png\" align=\"left\" />\n",
    "\n",
    "計算機インフラの御守では種々雑多なドキュメンテーションが不可欠です。日々の作業で証跡を残す、手順を整理して共有・再利用する、ユーザマニュアルや教材を整備する.. 国立情報学研究所（NII）のクラウド運用担当では、これらをシームレスに記述・蓄積する方法を研究しています。\n",
    "\n",
    "表題の *Literate Computing for Reproducible Infrastructure*  は、そのような取り組みのプロジェクト名です。プロジェクトでは [Jupyter Notebook]( http://jupyter.org ) を用いてドキュメンテーションを行うことで、運用作業の信頼性向上、手順やノウハウの蓄積・流通が容易になることを目指しています。\n",
    "\n",
    "プロジェクトの成果物は GitHub [NII Cloud Operation Team]( https://github.com/NII-cloud-operation )で公開しています。\n",
    "Hadoop や Elastic Search など学術機関でポピュラーなインフラにに関する構築や**運用の手順を整理したもの**、また、構築や運用の手順を記述するために便利な **Jupyter の機能拡張**を掲載しています。\n",
    "\n",
    "---\n",
    "この Notebook では拡張した機能の概要を紹介します。"
   ]
  },
  {
   "cell_type": "markdown",
   "metadata": {
    "lc_cell_meme": {
     "current": "296c6ee6-4a69-11e7-9e8a-02420aff000a",
     "next": "6e303f18-49dc-11e7-9220-02420aff0006",
     "previous": "ab49902a-45ef-11e7-a8e4-0242ac110002"
    }
   },
   "source": [
    "## Jupyter-run_through - まとめ実行機能\n",
    "\n",
    "用途:\n",
    "* 詳細は気にせずNotebook形式の手順を気軽に利用したい。\n",
    "* 定型的な作業をまとめて実行する。アレンジやカスタマイズはあまり必要がない。\n",
    "* まとめて実行してエラーが発生した場合には、詳細を確認したい。\n",
    "\n",
    "<span class='fa fa-fw fa-external-link'></span> [GitHub: Jupyter-LC_run_through](https://github.com/NII-cloud-operation/Jupyter-LC_run_through)\n",
    "\n",
    "---\n",
    "\n",
    "**まとめ実行機能** <br>\n",
    "表題の左側にある <span class='fa fa-fw fa-caret-right' style='color:#a0a0a0;'></span> は、詳細な手順が畳み込まれていることを示しています。  <span class='fa fa-fw fa-caret-right' style='color:#a0a0a0;'></span>  をクリックすると、 <span class='fa fa-fw fa-caret-down' style='color:#a0a0a0;'></span>  に変化し、畳み込まれている内容を表示することができます。\n",
    "\n",
    "<img src=\"./images/run_through.png\" align=\"right\" width=30% /> 畳みこまれている内容に「手順」が含まれていると、右のように表示されます。<span class='fa fa-fw fa-square' style='color:#cccccc;'></span>の数は畳み込まれている手順のステップ数を示しています。\n",
    "表示から <span class='fa fa-fw fa-play-circle'></span> を押すと、配下の手順をまとめて実行することができます。\n",
    "\n",
    "<img src=\"./images/run_through_OK.png\" width=30% align=right /> すべてのステップが終了すると右のように表示が変化します。実行が完了したステップは薄緑 <span class='fa fa-fw fa-square' style='color:#88ff88;'></span>に表示されます。また、完了したステップは、再度 まとめ実行ボタン<span class='fa fa-fw fa-play-circle'></span>をクリックしても実行されないよう凍結 <span class='fa fa-fw fa-snowflake-o' style='background-color:cornflowerblue;color:white;'></span>\n",
    "されます。\n",
    "\n",
    "<img src=\"./images/run_through_NG.png\" width=30% align=right /> 途中でエラーが発生した場合は当該のステップが薄紅<span class='fa fa-fw fa-square' style='color:#ff8888;'></span>に表示されるので、 <span class='fa fa-fw fa-caret-right'></span>をクリックして内容を確認します。\n",
    "\n"
   ]
  },
  {
   "cell_type": "markdown",
   "metadata": {
    "heading_collapsed": true,
    "lc_cell_meme": {
     "current": "6e303f18-49dc-11e7-9220-02420aff0006",
     "history": [
      {
       "current": "6e303f18-49dc-11e7-9220-02420aff0006",
       "next": "d7b7e932-49d6-11e7-9220-02420aff0006",
       "previous": "7d68317e-49d3-11e7-9220-02420aff0006"
      },
      {
       "current": "6e303f18-49dc-11e7-9220-02420aff0006",
       "next": "d7b7e932-49d6-11e7-9220-02420aff0006",
       "previous": "ab49902a-45ef-11e7-a8e4-0242ac110002"
      }
     ],
     "next": "d7b7e932-49d6-11e7-9220-02420aff0006",
     "previous": "296c6ee6-4a69-11e7-9e8a-02420aff000a"
    }
   },
   "source": [
    "### **畳み込んだステップのまとめ実行**\n",
    "\n",
    "<span class='fa fa-fw fa-play-circle'></span> をクリックすると４ステップをまとめ実行します。実行が終わったステップは薄緑の表示<span class='fa fa-fw fa-square' style='color:#88ff88;'></span>となります。以下の例では３番目がエラーとなり薄紅表示<span class='fa fa-fw fa-square' style='color:#ff8888;'></span>され、実行が中断します。\n",
    "\n",
    "<span class='fa fa-fw fa-caret-right' style='color:#a0a0a0;'></span> をクリックすることで畳み込み表示が解除され、それぞれのステップの実行内容を確認することができます。実行が終わったセルは凍結 <span class='fa fa-fw fa-snowflake-o' style='background-color:cornflowerblue;color:white;'></span>\n",
    "されます、そのままでは実行できません。修正する、再度実行する場合にはウインドウ上部の<span class='fa fa-fw fa-snowflake-o' style='color:gray;'></span>をクリックすることで凍結を解除します。\n",
    "\n",
    "エラーのセル<span class='fa fa-fw fa-square' style='color:#ff8888;'></span>は内容を修正して実行することができます。継続する未実行のセル<span class='fa fa-fw fa-square' style='color:#cccccc;'></span>は、そのまま実行することもできます。"
   ]
  },
  {
   "cell_type": "code",
   "execution_count": null,
   "metadata": {
    "collapsed": true,
    "hidden": true,
    "lc_cell_meme": {
     "current": "d7b7e932-49d6-11e7-9220-02420aff0006",
     "history": [
      {
       "current": "d7b7e932-49d6-11e7-9220-02420aff0006",
       "next": "325b2b76-3f76-11e7-806f-0242ac110002",
       "previous": "7d68317e-49d3-11e7-9220-02420aff0006"
      },
      {
       "current": "d7b7e932-49d6-11e7-9220-02420aff0006",
       "next": "66c5d6fc-49d7-11e7-9220-02420aff0006",
       "previous": "7d68317e-49d3-11e7-9220-02420aff0006"
      },
      {
       "current": "d7b7e932-49d6-11e7-9220-02420aff0006",
       "next": "66c5d6fc-49d7-11e7-9220-02420aff0006",
       "previous": "3d58721a-49d8-11e7-9220-02420aff0006"
      },
      {
       "current": "d7b7e932-49d6-11e7-9220-02420aff0006",
       "next": "66c5d6fc-49d7-11e7-9220-02420aff0006",
       "previous": "7d68317e-49d3-11e7-9220-02420aff0006"
      }
     ],
     "next": "66c5d6fc-49d7-11e7-9220-02420aff0006",
     "previous": "6e303f18-49dc-11e7-9220-02420aff0006"
    }
   },
   "outputs": [],
   "source": [
    "! echo \"This is 1st step\" > foo; cat foo"
   ]
  },
  {
   "cell_type": "code",
   "execution_count": null,
   "metadata": {
    "collapsed": true,
    "hidden": true,
    "lc_cell_meme": {
     "current": "66c5d6fc-49d7-11e7-9220-02420aff0006",
     "history": [
      {
       "current": "66c5d6fc-49d7-11e7-9220-02420aff0006",
       "next": "325b2b76-3f76-11e7-806f-0242ac110002",
       "previous": "d7b7e932-49d6-11e7-9220-02420aff0006"
      },
      {
       "current": "66c5d6fc-49d7-11e7-9220-02420aff0006",
       "next": "ae4c07da-49d7-11e7-9220-02420aff0006",
       "previous": "d7b7e932-49d6-11e7-9220-02420aff0006"
      }
     ],
     "next": "140ad186-49d9-11e7-9220-02420aff0006",
     "previous": "d7b7e932-49d6-11e7-9220-02420aff0006"
    }
   },
   "outputs": [],
   "source": [
    "! echo \".. 2nd step...\" >> foo && cat foo"
   ]
  },
  {
   "cell_type": "code",
   "execution_count": null,
   "metadata": {
    "collapsed": true,
    "hidden": true,
    "lc_cell_meme": {
     "current": "140ad186-49d9-11e7-9220-02420aff0006",
     "history": [
      {
       "current": "140ad186-49d9-11e7-9220-02420aff0006",
       "next": "325b2b76-3f76-11e7-806f-0242ac110002",
       "previous": "ae4c07da-49d7-11e7-9220-02420aff0006"
      },
      {
       "current": "140ad186-49d9-11e7-9220-02420aff0006",
       "next": "a2f3402c-49d9-11e7-9220-02420aff0006",
       "previous": "ae4c07da-49d7-11e7-9220-02420aff0006"
      },
      {
       "current": "140ad186-49d9-11e7-9220-02420aff0006",
       "next": "a2f3402c-49d9-11e7-9220-02420aff0006",
       "previous": "66c5d6fc-49d7-11e7-9220-02420aff0006"
      }
     ],
     "next": "9e0acf5a-4ba8-11e7-9954-02420aff0008",
     "previous": "66c5d6fc-49d7-11e7-9220-02420aff0006"
    }
   },
   "outputs": [],
   "source": [
    "!echooooo \".. 3rd step... will fail\" >> foo && cat foo"
   ]
  },
  {
   "cell_type": "markdown",
   "metadata": {
    "hidden": true,
    "lc_cell_meme": {
     "current": "9e0acf5a-4ba8-11e7-9954-02420aff0008",
     "next": "a2f3402c-49d9-11e7-9220-02420aff0006",
     "previous": "140ad186-49d9-11e7-9220-02420aff0006"
    }
   },
   "source": [
    "\"echo\" に修正して実行してみましょう。 "
   ]
  },
  {
   "cell_type": "code",
   "execution_count": null,
   "metadata": {
    "collapsed": true,
    "hidden": true,
    "lc_cell_meme": {
     "current": "a2f3402c-49d9-11e7-9220-02420aff0006",
     "history": [
      {
       "current": "a2f3402c-49d9-11e7-9220-02420aff0006",
       "next": "325b2b76-3f76-11e7-806f-0242ac110002",
       "previous": "140ad186-49d9-11e7-9220-02420aff0006"
      }
     ],
     "next": "325b2b76-3f76-11e7-806f-0242ac110002",
     "previous": "9e0acf5a-4ba8-11e7-9954-02420aff0008"
    }
   },
   "outputs": [],
   "source": [
    "! cat foo"
   ]
  },
  {
   "cell_type": "markdown",
   "metadata": {
    "lc_cell_meme": {
     "current": "325b2b76-3f76-11e7-806f-0242ac110002",
     "history": [
      {
       "current": "325b2b76-3f76-11e7-806f-0242ac110002",
       "next": "8f956e50-3c65-11e7-b4fc-0242ac110002",
       "previous": null
      },
      {
       "current": "325b2b76-3f76-11e7-806f-0242ac110002",
       "next": "8f956e50-3c65-11e7-b4fc-0242ac110002",
       "previous": "ab49939a-45ef-11e7-a8e4-0242ac110002"
      },
      {
       "current": "325b2b76-3f76-11e7-806f-0242ac110002",
       "next": "ab49925a-45ef-11e7-a8e4-0242ac110002",
       "previous": "ab49902a-45ef-11e7-a8e4-0242ac110002"
      },
      {
       "current": "325b2b76-3f76-11e7-806f-0242ac110002",
       "next": "8f956e50-3c65-11e7-b4fc-0242ac110002",
       "previous": "ab49902a-45ef-11e7-a8e4-0242ac110002"
      },
      {
       "current": "325b2b76-3f76-11e7-806f-0242ac110002",
       "next": "ada7f192-45fc-11e7-9f10-02420aff0008",
       "previous": "ab49902a-45ef-11e7-a8e4-0242ac110002"
      },
      {
       "current": "325b2b76-3f76-11e7-806f-0242ac110002",
       "next": "ada7f192-45fc-11e7-9f10-02420aff0008",
       "previous": "7d68317e-49d3-11e7-9220-02420aff0006"
      },
      {
       "current": "325b2b76-3f76-11e7-806f-0242ac110002",
       "next": "ada7f192-45fc-11e7-9f10-02420aff0008",
       "previous": "d7b7e932-49d6-11e7-9220-02420aff0006"
      },
      {
       "current": "325b2b76-3f76-11e7-806f-0242ac110002",
       "next": "ada7f192-45fc-11e7-9f10-02420aff0008",
       "previous": "66c5d6fc-49d7-11e7-9220-02420aff0006"
      },
      {
       "current": "325b2b76-3f76-11e7-806f-0242ac110002",
       "next": "ada7f192-45fc-11e7-9f10-02420aff0008",
       "previous": "ae4c07da-49d7-11e7-9220-02420aff0006"
      },
      {
       "current": "325b2b76-3f76-11e7-806f-0242ac110002",
       "next": "ada7f192-45fc-11e7-9f10-02420aff0008",
       "previous": "140ad186-49d9-11e7-9220-02420aff0006"
      },
      {
       "current": "325b2b76-3f76-11e7-806f-0242ac110002",
       "next": "ada7f192-45fc-11e7-9f10-02420aff0008",
       "previous": "a2f3402c-49d9-11e7-9220-02420aff0006"
      },
      {
       "current": "325b2b76-3f76-11e7-806f-0242ac110002",
       "next": "8f91607c-45fb-11e7-9f10-02420aff0008",
       "previous": "a2f3402c-49d9-11e7-9220-02420aff0006"
      }
     ],
     "next": "12ba33ce-49e0-11e7-9220-02420aff0006",
     "previous": "a2f3402c-49d9-11e7-9220-02420aff0006"
    }
   },
   "source": [
    "## Jupyter-LC_wrapper\n",
    "\n",
    "用途:\n",
    "* 大量のログ出力を要約表示する。\n",
    "* 複数の実行ログを各々ファイルに保存し、後で全体を参照したり、結果を比較できるようにする。\n",
    "\n",
    "<span class='fa fa-fw fa-external-link'></span> [GitHub: Jupyter-LC_wrapper](https://github.com/NII-cloud-operation/Jupyter-LC_wrapper)\n",
    "\n",
    "---\n",
    "例えば、某かのパッケージ群をインストールしたりすると大量のログが出力されますが、JupyetrのWeb UI上で大量の出力を扱うのはなにかと不便です。 Jupyterの Cell の中でログの内容を検索したり、比較したりするのはまどろっこしく手間がかかります。\n",
    "\n",
    "Jupyter-LC_wrapper を用いると:\n",
    "* Output Cell には要約されてた結果が出力されるようになります（例：最初10行と最後の10行）。\n",
    "* オリジナルの出力結果全体はファイルに保存されます。\n",
    "* 実行毎に各々のファイルに結果が保存されるので出力結果を比較することができます。\n",
    "* 要約中でも、エラーなど特定のパターン含む行を表示します（lc_wrapper_regex.txt などいくつかの方法でカスタマイズ可）。\n",
    "\n",
    "Cellでコマンドを実行する際に先頭に \"!!\" を付加すると、LC_wrapper の機能が有効になります。\n",
    "Cellで shell を呼び出す場合は \"!!!\" を付加してください。\n"
   ]
  },
  {
   "cell_type": "code",
   "execution_count": null,
   "metadata": {
    "collapsed": true,
    "lc_cell_meme": {
     "current": "12ba33ce-49e0-11e7-9220-02420aff0006",
     "history": [
      {
       "current": "12ba33ce-49e0-11e7-9220-02420aff0006",
       "next": "489d78ac-467a-11e7-aba3-02420aff0006",
       "previous": "489d7a82-467a-11e7-aba3-02420aff0006"
      },
      {
       "current": "12ba33ce-49e0-11e7-9220-02420aff0006",
       "next": "9a5f8cc4-4a68-11e7-9e8a-02420aff000a",
       "previous": "489d7a82-467a-11e7-aba3-02420aff0006"
      }
     ],
     "next": "8f91607c-45fb-11e7-9f10-02420aff0008",
     "previous": "325b2b76-3f76-11e7-806f-0242ac110002"
    }
   },
   "outputs": [],
   "source": [
    "%env lc_wrapper 5:10:5:10\n",
    "# lc_wrapper s:h:e:f\n",
    "#\n",
    "# s : Summary starts when # of output lines exceed 's' (default s=1)\n",
    "# h : Summary displays the first h lines and max 2 x h error lines.\n",
    "# e : Max # of output lines in progress. \n",
    "# f : Summary displays the last f lines (default f=1)"
   ]
  },
  {
   "cell_type": "code",
   "execution_count": null,
   "metadata": {
    "collapsed": true,
    "lc_cell_meme": {
     "current": "8f91607c-45fb-11e7-9f10-02420aff0008",
     "history": [
      {
       "current": "8f91607c-45fb-11e7-9f10-02420aff0008",
       "next": "c219c132-3c6a-11e7-b4fc-0242ac110002",
       "previous": "480edc34-45fb-11e7-9f10-02420aff0008"
      },
      {
       "current": "8f91607c-45fb-11e7-9f10-02420aff0008",
       "next": "ab49925a-45ef-11e7-a8e4-0242ac110002",
       "previous": "8f956e50-3c65-11e7-b4fc-0242ac110002"
      },
      {
       "current": "8f91607c-45fb-11e7-9f10-02420aff0008",
       "next": "ab49925a-45ef-11e7-a8e4-0242ac110002",
       "previous": "325b2b76-3f76-11e7-806f-0242ac110002"
      }
     ],
     "next": "ab49925a-45ef-11e7-a8e4-0242ac110002",
     "previous": "12ba33ce-49e0-11e7-9220-02420aff0006"
    }
   },
   "outputs": [],
   "source": [
    "!!from time import sleep\n",
    "with open(\"/var/log/dpkg.log\", \"r\") as f:\n",
    "    count = 0\n",
    "    limit = 100\n",
    "    for line in f:\n",
    "        count = count+1\n",
    "        if count > limit: break\n",
    "        print(line),\n",
    "        sleep(0.05)\n",
    "print (\"after\", limit, \"lines are ignored\")\n",
    "#\n",
    "# ここでは擬似的にログが大量に出力される状況を再現しています\n",
    "#"
   ]
  },
  {
   "cell_type": "markdown",
   "metadata": {
    "lc_cell_meme": {
     "current": "ab49925a-45ef-11e7-a8e4-0242ac110002",
     "history": [
      {
       "current": "ab49925a-45ef-11e7-a8e4-0242ac110002",
       "next": "ab49939a-45ef-11e7-a8e4-0242ac110002",
       "previous": "ab49902a-45ef-11e7-a8e4-0242ac110002"
      },
      {
       "current": "ab49925a-45ef-11e7-a8e4-0242ac110002",
       "next": "ab49939a-45ef-11e7-a8e4-0242ac110002",
       "previous": "325b2b76-3f76-11e7-806f-0242ac110002"
      },
      {
       "current": "ab49925a-45ef-11e7-a8e4-0242ac110002",
       "next": "ab49939a-45ef-11e7-a8e4-0242ac110002",
       "previous": "51298452-3c6b-11e7-b4fc-0242ac110002"
      }
     ],
     "next": "ab49939a-45ef-11e7-a8e4-0242ac110002",
     "previous": "8f91607c-45fb-11e7-9f10-02420aff0008"
    }
   },
   "source": [
    "## Jupyter-code_cell_status\n",
    "\n",
    "<span class='fa fa-fw fa-external-link'></span> [Jupyter-code_cell_status](https://github.com/NII-cloud-operation/Jupyter-code_cell_status)"
   ]
  },
  {
   "cell_type": "markdown",
   "metadata": {
    "lc_cell_meme": {
     "current": "ab49939a-45ef-11e7-a8e4-0242ac110002",
     "history": [
      {
       "current": "ab49939a-45ef-11e7-a8e4-0242ac110002",
       "next": "325b2b76-3f76-11e7-806f-0242ac110002",
       "previous": "ab49925a-45ef-11e7-a8e4-0242ac110002"
      },
      {
       "current": "ab49939a-45ef-11e7-a8e4-0242ac110002",
       "next": null,
       "previous": "ab49925a-45ef-11e7-a8e4-0242ac110002"
      }
     ],
     "next": "56854f66-4ba8-11e7-9954-02420aff0008",
     "previous": "ab49925a-45ef-11e7-a8e4-0242ac110002"
    }
   },
   "source": [
    "## Jupyter-multi_outputs\n",
    "\n",
    "<span class='fa fa-fw fa-external-link'></span> [Jupyter-multi-outputs](https://github.com/NII-cloud-operation/Jupyter-multi_outputs)"
   ]
  },
  {
   "cell_type": "markdown",
   "metadata": {
    "lc_cell_meme": {
     "current": "56854f66-4ba8-11e7-9954-02420aff0008",
     "next": null,
     "previous": "ab49939a-45ef-11e7-a8e4-0242ac110002"
    }
   },
   "source": [
    "## Jupyter-LC_nblineage\n",
    "\n",
    "<span class='fa fa-fw fa-external-link'></span> [Jupyter-LC_nblineage](https://github.com/NII-cloud-operation/Jupyter-LC_nblineage)"
   ]
  }
 ],
 "metadata": {
  "kernelspec": {
   "display_name": "Python 2 (LC_wrapper)",
   "language": "python",
   "name": "python2-wrapper"
  },
  "language_info": {
   "file_extension": ".py",
   "mimetype": "text/x-python",
   "name": "python",
   "nbconvert_exporter": "python",
   "pygments_lexer": "ipython2",
   "version": "2.7.9"
  },
  "lc_notebook_meme": {
   "current": "29f2fd34-3c64-11e7-b4fc-0242ac110002"
  },
  "toc": {
   "colors": {
    "hover_highlight": "#DAA520",
    "navigate_num": "#000000",
    "navigate_text": "#333333",
    "running_highlight": "#FF0000",
    "selected_highlight": "#FFD700",
    "sidebar_border": "#EEEEEE",
    "wrapper_background": "#FFFFFF"
   },
   "moveMenuLeft": true,
   "nav_menu": {
    "height": "12px",
    "width": "252px"
   },
   "navigate_menu": true,
   "number_sections": true,
   "sideBar": true,
   "skip_h1_title": false,
   "threshold": 4,
   "toc_cell": false,
   "toc_section_display": "block",
   "toc_window_display": false,
   "widenNotebook": false
  }
 },
 "nbformat": 4,
 "nbformat_minor": 2
}
