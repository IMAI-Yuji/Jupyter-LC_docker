{
 "cells": [
  {
   "cell_type": "markdown",
   "metadata": {
    "lc_cell_meme": {
     "current": "e5641ca4-1510-11e7-b31a-0242ac12000d",
     "next": "e5641ee8-1510-11e7-b31a-0242ac12000d",
     "previous": null
    }
   },
   "source": [
    "# Elastic Stackの構築手順：インストール\n",
    "----\n",
    "Elasticsearchをインストールし、 各種パラメータを設定してクラスタを構築します。  \n",
    "必要であればこの後のNotebookで利用するサンプルデータも投入します。"
   ]
  },
  {
   "cell_type": "markdown",
   "metadata": {
    "lc_cell_meme": {
     "current": "e5641ee8-1510-11e7-b31a-0242ac12000d",
     "history": [
      {
       "current": "e5641ee8-1510-11e7-b31a-0242ac12000d",
       "next": "e56420d2-1510-11e7-b31a-0242ac12000d",
       "previous": "e5641ca4-1510-11e7-b31a-0242ac12000d"
      }
     ],
     "next": "e56422a8-1510-11e7-b31a-0242ac12000d",
     "previous": "e5641ca4-1510-11e7-b31a-0242ac12000d"
    }
   },
   "source": [
    "## 設定情報の引き継ぎ\n",
    "\n",
    "アカウントや通信先などを読み込みます。"
   ]
  },
  {
   "cell_type": "code",
   "execution_count": 1,
   "metadata": {
    "lc_cell_meme": {
     "current": "e56422a8-1510-11e7-b31a-0242ac12000d",
     "history": [
      {
       "current": "e56422a8-1510-11e7-b31a-0242ac12000d",
       "next": "e5642492-1510-11e7-b31a-0242ac12000d",
       "previous": "e56420d2-1510-11e7-b31a-0242ac12000d"
      },
      {
       "current": "e56422a8-1510-11e7-b31a-0242ac12000d",
       "next": "e5642bc2-1510-11e7-b31a-0242ac12000d",
       "previous": "e56420d2-1510-11e7-b31a-0242ac12000d"
      },
      {
       "current": "e56422a8-1510-11e7-b31a-0242ac12000d",
       "next": "e5642d8e-1510-11e7-b31a-0242ac12000d",
       "previous": "e56420d2-1510-11e7-b31a-0242ac12000d"
      }
     ],
     "next": "e5642d8e-1510-11e7-b31a-0242ac12000d",
     "previous": "e5641ee8-1510-11e7-b31a-0242ac12000d"
    }
   },
   "outputs": [],
   "source": [
    "%run rc.py\n",
    "(USER, KEYPATH)"
   ]
  },
  {
   "cell_type": "code",
   "execution_count": 2,
   "metadata": {
    "lc_cell_meme": {
     "current": "e5642d8e-1510-11e7-b31a-0242ac12000d",
     "history": [
      {
       "current": "e5642d8e-1510-11e7-b31a-0242ac12000d",
       "next": "e5642f5a-1510-11e7-b31a-0242ac12000d",
       "previous": "e5642bc2-1510-11e7-b31a-0242ac12000d"
      }
     ],
     "next": "e5642f5a-1510-11e7-b31a-0242ac12000d",
     "previous": "e56422a8-1510-11e7-b31a-0242ac12000d"
    },
    "scrolled": true
   },
   "outputs": [],
   "source": [
    "%env ES_CLIENT={es_host}:9200"
   ]
  },
  {
   "cell_type": "markdown",
   "metadata": {
    "lc_cell_meme": {
     "current": "e5642f5a-1510-11e7-b31a-0242ac12000d",
     "next": "e5643130-1510-11e7-b31a-0242ac12000d",
     "previous": "e5642d8e-1510-11e7-b31a-0242ac12000d"
    }
   },
   "source": [
    "このNotebookを含むファイルを設置したディレクトリを読み込みます。  \n",
    "※Logstash用の設定ファイルやサンプルデータはこの配下から取得します。変更する場合は下の設定を書き換えてください。"
   ]
  },
  {
   "cell_type": "code",
   "execution_count": 3,
   "metadata": {
    "lc_cell_meme": {
     "current": "e5643130-1510-11e7-b31a-0242ac12000d",
     "history": [
      {
       "current": "e5643130-1510-11e7-b31a-0242ac12000d",
       "next": "e5643306-1510-11e7-b31a-0242ac12000d",
       "previous": "e5642f5a-1510-11e7-b31a-0242ac12000d"
      },
      {
       "current": "e5643130-1510-11e7-b31a-0242ac12000d",
       "next": "1366df9a-1aa4-11e7-b31a-0242ac12000d",
       "previous": "e5642f5a-1510-11e7-b31a-0242ac12000d"
      }
     ],
     "next": "e5643306-1510-11e7-b31a-0242ac12000d",
     "previous": "e5642f5a-1510-11e7-b31a-0242ac12000d"
    }
   },
   "outputs": [],
   "source": [
    "import os\n",
    "notebooks_home = os.getcwd()\n",
    "notebooks_home"
   ]
  },
  {
   "cell_type": "markdown",
   "metadata": {
    "lc_cell_meme": {
     "current": "e5643306-1510-11e7-b31a-0242ac12000d",
     "history": [
      {
       "current": "e5643306-1510-11e7-b31a-0242ac12000d",
       "next": "e56434c8-1510-11e7-b31a-0242ac12000d",
       "previous": "e5643130-1510-11e7-b31a-0242ac12000d"
      },
      {
       "current": "e5643306-1510-11e7-b31a-0242ac12000d",
       "next": "e56434c8-1510-11e7-b31a-0242ac12000d",
       "previous": "1366df9a-1aa4-11e7-b31a-0242ac12000d"
      },
      {
       "current": "e5643306-1510-11e7-b31a-0242ac12000d",
       "next": "e56434c8-1510-11e7-b31a-0242ac12000d",
       "previous": "a26a5064-1aa4-11e7-b31a-0242ac12000d"
      }
     ],
     "next": "e56434c8-1510-11e7-b31a-0242ac12000d",
     "previous": "e5643130-1510-11e7-b31a-0242ac12000d"
    }
   },
   "source": [
    "## インストール\n",
    "\n",
    "Elasticsearchのインストールし、設定、起動します。"
   ]
  },
  {
   "cell_type": "markdown",
   "metadata": {
    "lc_cell_meme": {
     "current": "e56434c8-1510-11e7-b31a-0242ac12000d",
     "next": "e5643694-1510-11e7-b31a-0242ac12000d",
     "previous": "e5643306-1510-11e7-b31a-0242ac12000d"
    }
   },
   "source": [
    "### jdkのインストール\n",
    "Elasticsearchを動作させるために、Javaをインストールします。"
   ]
  },
  {
   "cell_type": "markdown",
   "metadata": {
    "lc_cell_meme": {
     "current": "e5643694-1510-11e7-b31a-0242ac12000d",
     "next": "e5643856-1510-11e7-b31a-0242ac12000d",
     "previous": "e56434c8-1510-11e7-b31a-0242ac12000d"
    }
   },
   "source": [
    "\n",
    "[00_Prerequisites for Literate Computing via Notebooks.ipynb](00_Prerequisites for Literate Computing via Notebooks.ipynb) の内容に従い、JVMの資材が**/tmp**ディレクトリに配置されているか確認して下さい。"
   ]
  },
  {
   "cell_type": "code",
   "execution_count": 4,
   "metadata": {
    "lc_cell_meme": {
     "current": "e5643856-1510-11e7-b31a-0242ac12000d",
     "next": "e5643a22-1510-11e7-b31a-0242ac12000d",
     "previous": "e5643694-1510-11e7-b31a-0242ac12000d"
    },
    "scrolled": true
   },
   "outputs": [],
   "source": [
    "!ls /tmp/jdk*"
   ]
  },
  {
   "cell_type": "markdown",
   "metadata": {
    "lc_cell_meme": {
     "current": "e5643a22-1510-11e7-b31a-0242ac12000d",
     "next": "e5643bf8-1510-11e7-b31a-0242ac12000d",
     "previous": "e5643856-1510-11e7-b31a-0242ac12000d"
    }
   },
   "source": [
    "次のコマンドを実行してインストールします。"
   ]
  },
  {
   "cell_type": "code",
   "execution_count": 5,
   "metadata": {
    "lc_cell_meme": {
     "current": "e5643bf8-1510-11e7-b31a-0242ac12000d",
     "next": "e5643dba-1510-11e7-b31a-0242ac12000d",
     "previous": "e5643a22-1510-11e7-b31a-0242ac12000d"
    },
    "scrolled": true
   },
   "outputs": [],
   "source": [
    "!ansible-playbook playbooks/install_jdk.yml -i ./hosts -u $USER --private-key=$KEYPATH"
   ]
  },
  {
   "cell_type": "markdown",
   "metadata": {
    "lc_cell_meme": {
     "current": "e5643dba-1510-11e7-b31a-0242ac12000d",
     "next": "e5643f86-1510-11e7-b31a-0242ac12000d",
     "previous": "e5643bf8-1510-11e7-b31a-0242ac12000d"
    }
   },
   "source": [
    "### Elasticsearchのインストール\n",
    "Elasticsearchのパッケージをインストールします。"
   ]
  },
  {
   "cell_type": "markdown",
   "metadata": {
    "lc_cell_meme": {
     "current": "e5643f86-1510-11e7-b31a-0242ac12000d",
     "history": [
      {
       "current": "e5643f86-1510-11e7-b31a-0242ac12000d",
       "next": "e5644148-1510-11e7-b31a-0242ac12000d",
       "previous": "e5643dba-1510-11e7-b31a-0242ac12000d"
      },
      {
       "current": "e5643f86-1510-11e7-b31a-0242ac12000d",
       "next": "60b0cc30-46d6-11e7-88b1-02420aff0008",
       "previous": "e5643dba-1510-11e7-b31a-0242ac12000d"
      }
     ],
     "next": "e5644148-1510-11e7-b31a-0242ac12000d",
     "previous": "e5643dba-1510-11e7-b31a-0242ac12000d"
    }
   },
   "source": [
    "次のコマンドを実行します。"
   ]
  },
  {
   "cell_type": "code",
   "execution_count": 6,
   "metadata": {
    "lc_cell_meme": {
     "current": "e5644148-1510-11e7-b31a-0242ac12000d",
     "history": [
      {
       "current": "e5644148-1510-11e7-b31a-0242ac12000d",
       "next": "e564430a-1510-11e7-b31a-0242ac12000d",
       "previous": "e5643f86-1510-11e7-b31a-0242ac12000d"
      },
      {
       "current": "e5644148-1510-11e7-b31a-0242ac12000d",
       "next": "e564430a-1510-11e7-b31a-0242ac12000d",
       "previous": "60b0cc30-46d6-11e7-88b1-02420aff0008"
      }
     ],
     "next": "e564430a-1510-11e7-b31a-0242ac12000d",
     "previous": "e5643f86-1510-11e7-b31a-0242ac12000d"
    },
    "scrolled": false
   },
   "outputs": [],
   "source": [
    "!ansible-playbook playbooks/install_elasticsearch.yml -i ./hosts -u $USER --private-key=$KEYPATH"
   ]
  },
  {
   "cell_type": "markdown",
   "metadata": {
    "lc_cell_meme": {
     "current": "e564430a-1510-11e7-b31a-0242ac12000d",
     "next": "e56444d6-1510-11e7-b31a-0242ac12000d",
     "previous": "e5644148-1510-11e7-b31a-0242ac12000d"
    }
   },
   "source": [
    "### Elasticsearchの設定\n",
    "Elasticsearchの設定を変更します。以下の2つを反映します。\n",
    "- [01_03_Set_Inventory.ipynb](01_03_Set_Inventory.ipynb)で設定したhosts（インベントリ）のグループ\n",
    "- [01_01_Outline.ipynb](01_01_Outline.ipynb)で出力したgroup_vars/all（パラメータ）"
   ]
  },
  {
   "cell_type": "markdown",
   "metadata": {
    "lc_cell_meme": {
     "current": "e56444d6-1510-11e7-b31a-0242ac12000d",
     "next": "e5644698-1510-11e7-b31a-0242ac12000d",
     "previous": "e564430a-1510-11e7-b31a-0242ac12000d"
    }
   },
   "source": [
    "次のコマンドを実行して、elasticsearch.ymlを設定します。"
   ]
  },
  {
   "cell_type": "code",
   "execution_count": 7,
   "metadata": {
    "lc_cell_meme": {
     "current": "e5644698-1510-11e7-b31a-0242ac12000d",
     "next": "e5644864-1510-11e7-b31a-0242ac12000d",
     "previous": "e56444d6-1510-11e7-b31a-0242ac12000d"
    },
    "scrolled": true
   },
   "outputs": [],
   "source": [
    "!ansible-playbook playbooks/set_elasticsearch.yml -i ./hosts -u $USER --private-key=$KEYPATH"
   ]
  },
  {
   "cell_type": "markdown",
   "metadata": {
    "lc_cell_meme": {
     "current": "e5644864-1510-11e7-b31a-0242ac12000d",
     "next": "e5644a3a-1510-11e7-b31a-0242ac12000d",
     "previous": "e5644698-1510-11e7-b31a-0242ac12000d"
    }
   },
   "source": [
    "次のコマンドを実行して、ヒープサイズを設定します。/etc/elasticsearch/ にあるjvm.optionsにJavaの起動オプションとして指定します。"
   ]
  },
  {
   "cell_type": "code",
   "execution_count": 8,
   "metadata": {
    "lc_cell_meme": {
     "current": "e5644a3a-1510-11e7-b31a-0242ac12000d",
     "next": "e5644c10-1510-11e7-b31a-0242ac12000d",
     "previous": "e5644864-1510-11e7-b31a-0242ac12000d"
    }
   },
   "outputs": [],
   "source": [
    "!ansible-playbook playbooks/set_heap-size.yml -i ./hosts -u $USER --private-key=$KEYPATH"
   ]
  },
  {
   "cell_type": "markdown",
   "metadata": {
    "lc_cell_meme": {
     "current": "e5644c10-1510-11e7-b31a-0242ac12000d",
     "next": "e5644dd2-1510-11e7-b31a-0242ac12000d",
     "previous": "e5644a3a-1510-11e7-b31a-0242ac12000d"
    }
   },
   "source": [
    "次のコマンドを実行して、カーネルパラメータを変更します。  \n",
    "/etc/sysctl.conf のvm.max_map_count に 262144 を設定しています。"
   ]
  },
  {
   "cell_type": "code",
   "execution_count": 9,
   "metadata": {
    "lc_cell_meme": {
     "current": "e5644dd2-1510-11e7-b31a-0242ac12000d",
     "next": "e5644f94-1510-11e7-b31a-0242ac12000d",
     "previous": "e5644c10-1510-11e7-b31a-0242ac12000d"
    }
   },
   "outputs": [],
   "source": [
    "!ansible-playbook playbooks/set_kernelparameter.yml -i ./hosts -u $USER --private-key=$KEYPATH"
   ]
  },
  {
   "cell_type": "markdown",
   "metadata": {
    "lc_cell_meme": {
     "current": "e5644f94-1510-11e7-b31a-0242ac12000d",
     "next": "e5645156-1510-11e7-b31a-0242ac12000d",
     "previous": "e5644dd2-1510-11e7-b31a-0242ac12000d"
    }
   },
   "source": [
    "### Elasticsearchの起動\n",
    "Elasticsearchを起動します。"
   ]
  },
  {
   "cell_type": "markdown",
   "metadata": {
    "lc_cell_meme": {
     "current": "e5645156-1510-11e7-b31a-0242ac12000d",
     "next": "e5645322-1510-11e7-b31a-0242ac12000d",
     "previous": "e5644f94-1510-11e7-b31a-0242ac12000d"
    }
   },
   "source": [
    "次のコマンドを実行します。"
   ]
  },
  {
   "cell_type": "code",
   "execution_count": 10,
   "metadata": {
    "lc_cell_meme": {
     "current": "e5645322-1510-11e7-b31a-0242ac12000d",
     "next": "e56454da-1510-11e7-b31a-0242ac12000d",
     "previous": "e5645156-1510-11e7-b31a-0242ac12000d"
    },
    "scrolled": false
   },
   "outputs": [],
   "source": [
    "!ansible-playbook playbooks/start_cluster.yml -i ./hosts -u $USER --private-key=$KEYPATH"
   ]
  },
  {
   "cell_type": "markdown",
   "metadata": {
    "lc_cell_meme": {
     "current": "e56454da-1510-11e7-b31a-0242ac12000d",
     "next": "e56456a6-1510-11e7-b31a-0242ac12000d",
     "previous": "e5645322-1510-11e7-b31a-0242ac12000d"
    }
   },
   "source": [
    "各サーバの起動は次のコマンドで確認してください。"
   ]
  },
  {
   "cell_type": "code",
   "execution_count": 11,
   "metadata": {
    "lc_cell_meme": {
     "current": "e56456a6-1510-11e7-b31a-0242ac12000d",
     "next": "e564587c-1510-11e7-b31a-0242ac12000d",
     "previous": "e56454da-1510-11e7-b31a-0242ac12000d"
    },
    "scrolled": true
   },
   "outputs": [],
   "source": [
    "!ansible all -m shell -b -a \"systemctl status elasticsearch\" -i ./hosts -u $USER --private-key=$KEYPATH"
   ]
  },
  {
   "cell_type": "markdown",
   "metadata": {
    "lc_cell_meme": {
     "current": "e564587c-1510-11e7-b31a-0242ac12000d",
     "next": "e5645a3e-1510-11e7-b31a-0242ac12000d",
     "previous": "e56456a6-1510-11e7-b31a-0242ac12000d"
    }
   },
   "source": [
    "次のように  \n",
    "**Active: active (running)**    \n",
    "と表示されれば正常に起動しています。"
   ]
  },
  {
   "cell_type": "raw",
   "metadata": {
    "lc_cell_meme": {
     "current": "e5645a3e-1510-11e7-b31a-0242ac12000d",
     "history": [
      {
       "current": "e5645a3e-1510-11e7-b31a-0242ac12000d",
       "next": "e5645c0a-1510-11e7-b31a-0242ac12000d",
       "previous": "e564587c-1510-11e7-b31a-0242ac12000d"
      }
     ],
     "next": "c6f25a84-4a93-11e7-b091-02420aff0006",
     "previous": "e564587c-1510-11e7-b31a-0242ac12000d"
    }
   },
   "source": [
    " Active: active (running) since Thu 2016-10-27 13:16:16 JST; 31min ago"
   ]
  },
  {
   "cell_type": "markdown",
   "metadata": {
    "lc_cell_meme": {
     "current": "c6f25a84-4a93-11e7-b091-02420aff0006",
     "next": "c6f25c96-4a93-11e7-b091-02420aff0006",
     "previous": "e5645a3e-1510-11e7-b31a-0242ac12000d"
    }
   },
   "source": [
    "以下のコマンドでクラスタのヘルスチェックをすることができます。\n",
    "\n",
    "> 以下のセルを実行した際に、 `Failed to connect to 10.24.128.128 port 9200: Connection refused` などと表示される場合は、まだサービスが起動しきれていない可能性があります。しばらく待って、再度セル実行を試してみてください。"
   ]
  },
  {
   "cell_type": "code",
   "execution_count": 15,
   "metadata": {
    "lc_cell_meme": {
     "current": "c6f25c96-4a93-11e7-b091-02420aff0006",
     "next": "e5645c0a-1510-11e7-b31a-0242ac12000d",
     "previous": "c6f25a84-4a93-11e7-b091-02420aff0006"
    }
   },
   "outputs": [],
   "source": [
    "!curl -XGET http://$ES_CLIENT/_cluster/health?pretty"
   ]
  },
  {
   "cell_type": "markdown",
   "metadata": {
    "lc_cell_meme": {
     "current": "e5645c0a-1510-11e7-b31a-0242ac12000d",
     "history": [
      {
       "current": "e5645c0a-1510-11e7-b31a-0242ac12000d",
       "next": "e5645dcc-1510-11e7-b31a-0242ac12000d",
       "previous": "e5645a3e-1510-11e7-b31a-0242ac12000d"
      }
     ],
     "next": "e5645dcc-1510-11e7-b31a-0242ac12000d",
     "previous": "c6f25c96-4a93-11e7-b091-02420aff0006"
    }
   },
   "source": [
    "### Elasticsearchのテンプレートの投入\n",
    "Shard数、Replica数を、インデックステンプレートの形でで投入することで設定します。"
   ]
  },
  {
   "cell_type": "markdown",
   "metadata": {
    "lc_cell_meme": {
     "current": "e5645dcc-1510-11e7-b31a-0242ac12000d",
     "next": "e5645fa2-1510-11e7-b31a-0242ac12000d",
     "previous": "e5645c0a-1510-11e7-b31a-0242ac12000d"
    }
   },
   "source": [
    "[Index Templates](https://www.elastic.co/guide/en/elasticsearch/reference/current/indices-templates.html)とはインデックス単位の設定やマッピングを定義したもので、インデックス生成時に適用されます。  \n",
    "投入はAPIにて実施します。よってElasticsearchが起動したあとの投入となります。\n",
    "\n",
    "次のコマンドを実行して、テンプレートを投入します。\n",
    "\n",
    "> 以下のコマンド実行に失敗する場合は、 [#Elasticsearchの起動](#Elasticsearchの起動) にてサービスが起動しているか、ヘルスチェックに応答しているかを確認するようにしてください。"
   ]
  },
  {
   "cell_type": "code",
   "execution_count": 16,
   "metadata": {
    "lc_cell_meme": {
     "current": "e5645fa2-1510-11e7-b31a-0242ac12000d",
     "next": "e564616e-1510-11e7-b31a-0242ac12000d",
     "previous": "e5645dcc-1510-11e7-b31a-0242ac12000d"
    },
    "scrolled": true
   },
   "outputs": [],
   "source": [
    "!ansible-playbook playbooks/set_api_parameter.yml -i ./hosts -u $USER --private-key=$KEYPATH"
   ]
  },
  {
   "cell_type": "markdown",
   "metadata": {
    "lc_cell_meme": {
     "current": "e564616e-1510-11e7-b31a-0242ac12000d",
     "next": "e5646330-1510-11e7-b31a-0242ac12000d",
     "previous": "e5645fa2-1510-11e7-b31a-0242ac12000d"
    }
   },
   "source": [
    "投入した内容は次のコマンドで表示できます。"
   ]
  },
  {
   "cell_type": "code",
   "execution_count": 17,
   "metadata": {
    "lc_cell_meme": {
     "current": "e5646330-1510-11e7-b31a-0242ac12000d",
     "next": "e5646506-1510-11e7-b31a-0242ac12000d",
     "previous": "e564616e-1510-11e7-b31a-0242ac12000d"
    }
   },
   "outputs": [],
   "source": [
    "!curl -XGET $ES_CLIENT/_template/template_base?pretty"
   ]
  },
  {
   "cell_type": "markdown",
   "metadata": {
    "lc_cell_meme": {
     "current": "e5646506-1510-11e7-b31a-0242ac12000d",
     "next": "e56466c8-1510-11e7-b31a-0242ac12000d",
     "previous": "e5646330-1510-11e7-b31a-0242ac12000d"
    }
   },
   "source": [
    "- テンプレートには任意の名称を指定できます。このコマンドではtemplate_baseという名称にしています。\n",
    "- **\"template\"**パラメータは、このテンプレートを適用する先のインデックス名を指定しています。\n",
    "  - **\"template\" : \"*\" **としているので全インデックスに適用されます。\n",
    "- あるインデックスが複数のテンプレートにマッチする場合、**\"order\"** に指定した数が大きいものが優先されます。\n",
    "  - このコマンドでは **\"order\" : 0 ** としているので最低の優先度となっており、よってどんな追加の指定でも上書き可能です。\n",
    "- **\"number_of_shards\"**、**\"number_of_replicas\" **でShard数、Replica数を指定しています。\n"
   ]
  },
  {
   "cell_type": "markdown",
   "metadata": {
    "lc_cell_meme": {
     "current": "e56466c8-1510-11e7-b31a-0242ac12000d",
     "next": "e564689e-1510-11e7-b31a-0242ac12000d",
     "previous": "e5646506-1510-11e7-b31a-0242ac12000d"
    }
   },
   "source": [
    "テンプレートの変更を投入すること自体は任意のタイミングで可能ですが、変更前に投入されたインデックスに変更結果は適用されません。  \n",
    "インデックスの投入前に必要なテンプレートを投入する必要があります。  \n",
    "詳細はElasticsearch Referenceの[Index Templates](https://www.elastic.co/guide/en/elasticsearch/reference/current/indices-templates.html)を参照してください。"
   ]
  },
  {
   "cell_type": "markdown",
   "metadata": {
    "collapsed": true,
    "lc_cell_meme": {
     "current": "e564689e-1510-11e7-b31a-0242ac12000d",
     "next": "e5646a6a-1510-11e7-b31a-0242ac12000d",
     "previous": "e56466c8-1510-11e7-b31a-0242ac12000d"
    }
   },
   "source": [
    "### Logstashのインストール\n",
    "Logstashのパッケージをインストールします。"
   ]
  },
  {
   "cell_type": "markdown",
   "metadata": {
    "lc_cell_meme": {
     "current": "e5646a6a-1510-11e7-b31a-0242ac12000d",
     "next": "e5646c36-1510-11e7-b31a-0242ac12000d",
     "previous": "e564689e-1510-11e7-b31a-0242ac12000d"
    }
   },
   "source": [
    "次のコマンドを実行します。"
   ]
  },
  {
   "cell_type": "code",
   "execution_count": 18,
   "metadata": {
    "lc_cell_meme": {
     "current": "e5646c36-1510-11e7-b31a-0242ac12000d",
     "next": "e5646e02-1510-11e7-b31a-0242ac12000d",
     "previous": "e5646a6a-1510-11e7-b31a-0242ac12000d"
    },
    "scrolled": true
   },
   "outputs": [],
   "source": [
    "!ansible-playbook playbooks/install_logstash.yml -i ./hosts -u $USER --private-key=$KEYPATH"
   ]
  },
  {
   "cell_type": "markdown",
   "metadata": {
    "lc_cell_meme": {
     "current": "e5646e02-1510-11e7-b31a-0242ac12000d",
     "next": "e5646fc4-1510-11e7-b31a-0242ac12000d",
     "previous": "e5646c36-1510-11e7-b31a-0242ac12000d"
    }
   },
   "source": [
    "## クラスタのステータスの確認方法と監視方法\n",
    "クラスタのステータスを確認するためにCluster APIを発行します。"
   ]
  },
  {
   "cell_type": "markdown",
   "metadata": {
    "lc_cell_meme": {
     "current": "e5646fc4-1510-11e7-b31a-0242ac12000d",
     "next": "e5647186-1510-11e7-b31a-0242ac12000d",
     "previous": "e5646e02-1510-11e7-b31a-0242ac12000d"
    }
   },
   "source": [
    "> ※本節では、クラスタの簡単な状態を確認するAPIのみを紹介します。  \n",
    "> 　詳細の確認やエラーの把握、各種リソースの状態チェックなどを実施したい場合は  \n",
    "> 　**[01_05_Diagnostics.ipynb](01_05_Diagnostics.ipynb)**を利用してください。"
   ]
  },
  {
   "cell_type": "markdown",
   "metadata": {
    "lc_cell_meme": {
     "current": "e5647186-1510-11e7-b31a-0242ac12000d",
     "next": "e564735c-1510-11e7-b31a-0242ac12000d",
     "previous": "e5646fc4-1510-11e7-b31a-0242ac12000d"
    }
   },
   "source": [
    "概要を表示したい場合にはCluster Health APIを用います。  \n",
    "クラスタの状態や、クラスタに属しているノードの数などを見ることができます。"
   ]
  },
  {
   "cell_type": "code",
   "execution_count": 19,
   "metadata": {
    "lc_cell_meme": {
     "current": "e564735c-1510-11e7-b31a-0242ac12000d",
     "next": "e5647528-1510-11e7-b31a-0242ac12000d",
     "previous": "e5647186-1510-11e7-b31a-0242ac12000d"
    },
    "scrolled": false
   },
   "outputs": [],
   "source": [
    "!curl -XGET http://$ES_CLIENT/_cluster/health?pretty"
   ]
  },
  {
   "cell_type": "markdown",
   "metadata": {
    "lc_cell_meme": {
     "current": "e5647528-1510-11e7-b31a-0242ac12000d",
     "next": "e56476f4-1510-11e7-b31a-0242ac12000d",
     "previous": "e564735c-1510-11e7-b31a-0242ac12000d"
    }
   },
   "source": [
    "上記のコマンドを実行して得られる出力の中で、**status**や**number_of_nodes**を見れば  \n",
    "クラスタの状態およびクラスタ内のノード数を確認することができます。  \n",
    "データ投入直後などは、クラスタの状態がyellowになっている場合があります。その際はgreenになったことを確認してから検索などを行ってください。"
   ]
  },
  {
   "cell_type": "markdown",
   "metadata": {
    "lc_cell_meme": {
     "current": "e56476f4-1510-11e7-b31a-0242ac12000d",
     "next": "e56478c0-1510-11e7-b31a-0242ac12000d",
     "previous": "e5647528-1510-11e7-b31a-0242ac12000d"
    }
   },
   "source": [
    "出力例"
   ]
  },
  {
   "cell_type": "raw",
   "metadata": {
    "lc_cell_meme": {
     "current": "e56478c0-1510-11e7-b31a-0242ac12000d",
     "next": "e5647a82-1510-11e7-b31a-0242ac12000d",
     "previous": "e56476f4-1510-11e7-b31a-0242ac12000d"
    }
   },
   "source": [
    "　\"status\" : \"green\",\n",
    "  \"number_of_nodes\" : 5"
   ]
  },
  {
   "cell_type": "markdown",
   "metadata": {
    "lc_cell_meme": {
     "current": "e5647a82-1510-11e7-b31a-0242ac12000d",
     "next": "e5647d02-1510-11e7-b31a-0242ac12000d",
     "previous": "e56478c0-1510-11e7-b31a-0242ac12000d"
    }
   },
   "source": [
    "より詳細な情報を確認したい場合にはCluster Stats APIを用います。"
   ]
  },
  {
   "cell_type": "code",
   "execution_count": 20,
   "metadata": {
    "lc_cell_meme": {
     "current": "e5647d02-1510-11e7-b31a-0242ac12000d",
     "next": "e5647f28-1510-11e7-b31a-0242ac12000d",
     "previous": "e5647a82-1510-11e7-b31a-0242ac12000d"
    },
    "scrolled": true
   },
   "outputs": [],
   "source": [
    "!curl -XGET http://$ES_CLIENT/_cluster/stats?pretty"
   ]
  },
  {
   "cell_type": "markdown",
   "metadata": {
    "lc_cell_meme": {
     "current": "e5647f28-1510-11e7-b31a-0242ac12000d",
     "next": "e56480fe-1510-11e7-b31a-0242ac12000d",
     "previous": "e5647d02-1510-11e7-b31a-0242ac12000d"
    }
   },
   "source": [
    "このコマンドでは、シャードやメモリに関する情報を取得することができます。  \n",
    "詳細はElasticsearch Referenceの[Cluster Stats](https://www.elastic.co/guide/en/elasticsearch/reference/current/cluster-stats.html)を参照してください。"
   ]
  },
  {
   "cell_type": "markdown",
   "metadata": {
    "lc_cell_meme": {
     "current": "e56480fe-1510-11e7-b31a-0242ac12000d",
     "next": "e56482ca-1510-11e7-b31a-0242ac12000d",
     "previous": "e5647f28-1510-11e7-b31a-0242ac12000d"
    }
   },
   "source": [
    "### Monitoringによる監視"
   ]
  },
  {
   "cell_type": "markdown",
   "metadata": {
    "lc_cell_meme": {
     "current": "e56482ca-1510-11e7-b31a-0242ac12000d",
     "next": "e5648496-1510-11e7-b31a-0242ac12000d",
     "previous": "e56480fe-1510-11e7-b31a-0242ac12000d"
    }
   },
   "source": [
    "Monitoring([公式ページ](https://www.elastic.co/guide/en/x-pack/current/xpack-monitoring.html))はサブスクリプションを購入すると利用できる「X-Pack」をインストールすることで有効になる機能です。  \n",
    "\n",
    "Elasticsearchの稼働状況を監視するプラグインで、CPU使用率やディスクサイズ、Latencyなどの情報を取得することができます。  \n",
    "取得した情報はElasticsearchに登録されるので、あとから遡ってクラスタのステータスを確認することも可能です。  \n",
    "\n",
    "また、X-Packに含まれるWatcherを用いることで、特定の条件下で通知を行うこともできます。  \n",
    "例） CPU使用率が特定の値を超えた、ディスク空き容量が一定量を下回ったなど。"
   ]
  },
  {
   "cell_type": "markdown",
   "metadata": {
    "lc_cell_meme": {
     "current": "e5648496-1510-11e7-b31a-0242ac12000d",
     "next": "e5648662-1510-11e7-b31a-0242ac12000d",
     "previous": "e56482ca-1510-11e7-b31a-0242ac12000d"
    }
   },
   "source": [
    "## Logstashへのサンプルデータ投入（オプション）\n",
    "インストール済みのLogstashに、この後のNotebookで利用するサンプルデータを投入します。"
   ]
  },
  {
   "cell_type": "markdown",
   "metadata": {
    "lc_cell_meme": {
     "current": "e5648662-1510-11e7-b31a-0242ac12000d",
     "next": "e5648838-1510-11e7-b31a-0242ac12000d",
     "previous": "e5648496-1510-11e7-b31a-0242ac12000d"
    }
   },
   "source": [
    "＃**この後の「02_Search.ipynb」以降のサンプルコマンドを実施する場合は、本節によりサンプルデータを投入してください。**  \n",
    "＃**サンプルデータが不要であれば、この節の内容はスキップしてください。**"
   ]
  },
  {
   "cell_type": "markdown",
   "metadata": {
    "lc_cell_meme": {
     "current": "e5648838-1510-11e7-b31a-0242ac12000d",
     "next": "e5648a04-1510-11e7-b31a-0242ac12000d",
     "previous": "e5648662-1510-11e7-b31a-0242ac12000d"
    }
   },
   "source": [
    "### 環境設定ファイルの設置\n",
    "Logstash用の環境設定ファイルをサーバにコピーします。"
   ]
  },
  {
   "cell_type": "markdown",
   "metadata": {
    "collapsed": true,
    "lc_cell_meme": {
     "current": "e5648a04-1510-11e7-b31a-0242ac12000d",
     "next": "e5648bc6-1510-11e7-b31a-0242ac12000d",
     "previous": "e5648838-1510-11e7-b31a-0242ac12000d"
    },
    "variables": {
     "ES_CLIENT": "157.1.207.232:9200"
    }
   },
   "source": [
    "サンプルデータをElasticsearchに登録するための設定は、[logstash_conf/main.conf](logstash_conf/main.conf)を用います。  \n",
    "LogstashサーバがData Nodeと同じホストに無い場合は、  \n",
    "main.confの \"**hosts => ～～**\" の部分にClient Nodeか、それが無い場合はData Nodeのリストを定義してください。  \n",
    "複数の場合は  \n",
    "[\"127.0.0.1:9200\",\"127.0.0.2:9200\"]  \n",
    "のようにします。"
   ]
  },
  {
   "cell_type": "raw",
   "metadata": {
    "lc_cell_meme": {
     "current": "e5648bc6-1510-11e7-b31a-0242ac12000d",
     "next": "e5648d92-1510-11e7-b31a-0242ac12000d",
     "previous": "e5648a04-1510-11e7-b31a-0242ac12000d"
    }
   },
   "source": [
    "output{\n",
    "  elasticsearch{\n",
    "    hosts => \"localhost:9200\" ★ここを定義します。\n",
    "    index => \"meteorological-data-%{+YYYY.MM}\"\n",
    "    document_id => \"%{location}_%{date}\"\n",
    "  }\n",
    "}"
   ]
  },
  {
   "cell_type": "markdown",
   "metadata": {
    "lc_cell_meme": {
     "current": "e5648d92-1510-11e7-b31a-0242ac12000d",
     "next": "e5648f5e-1510-11e7-b31a-0242ac12000d",
     "previous": "e5648bc6-1510-11e7-b31a-0242ac12000d"
    }
   },
   "source": [
    "次のリンクから修正してください。"
   ]
  },
  {
   "cell_type": "markdown",
   "metadata": {
    "lc_cell_meme": {
     "current": "e5648f5e-1510-11e7-b31a-0242ac12000d",
     "next": "e564912a-1510-11e7-b31a-0242ac12000d",
     "previous": "e5648d92-1510-11e7-b31a-0242ac12000d"
    }
   },
   "source": [
    "- **[main.conf](../edit/logstash_conf/main.conf)**"
   ]
  },
  {
   "cell_type": "markdown",
   "metadata": {
    "lc_cell_meme": {
     "current": "e564912a-1510-11e7-b31a-0242ac12000d",
     "next": "e56492ec-1510-11e7-b31a-0242ac12000d",
     "previous": "e5648f5e-1510-11e7-b31a-0242ac12000d"
    }
   },
   "source": [
    "ここで利用するmain.confは標準入力で読み込んだCSV形式の内容をElasticsearchに格納するための設定です。  \n",
    "具体的な意味は[04_Store_Data](04_Store_Data.ipynb)で説明します。"
   ]
  },
  {
   "cell_type": "markdown",
   "metadata": {
    "lc_cell_meme": {
     "current": "e56492ec-1510-11e7-b31a-0242ac12000d",
     "next": "e56494b8-1510-11e7-b31a-0242ac12000d",
     "previous": "e564912a-1510-11e7-b31a-0242ac12000d"
    }
   },
   "source": [
    "main.confを /etc/logstash/conf.d/ 配下にコピーします。"
   ]
  },
  {
   "cell_type": "code",
   "execution_count": 21,
   "metadata": {
    "lc_cell_meme": {
     "current": "e56494b8-1510-11e7-b31a-0242ac12000d",
     "next": "e5649684-1510-11e7-b31a-0242ac12000d",
     "previous": "e56492ec-1510-11e7-b31a-0242ac12000d"
    }
   },
   "outputs": [],
   "source": [
    "!ansible-playbook playbooks/copy_logstash_conf.yml --extra-vars \"notebooks_home=$notebooks_home\" -i ./hosts -u $USER --private-key=$KEYPATH"
   ]
  },
  {
   "cell_type": "markdown",
   "metadata": {
    "lc_cell_meme": {
     "current": "e5649684-1510-11e7-b31a-0242ac12000d",
     "next": "e5649846-1510-11e7-b31a-0242ac12000d",
     "previous": "e56494b8-1510-11e7-b31a-0242ac12000d"
    }
   },
   "source": [
    "### データ型の定義（マッピング定義）\n",
    "サンプルデータ用のCSVの各列について、データ型をあらかじめ定義しておきます。"
   ]
  },
  {
   "cell_type": "markdown",
   "metadata": {
    "lc_cell_meme": {
     "current": "e5649846-1510-11e7-b31a-0242ac12000d",
     "next": "e5649a12-1510-11e7-b31a-0242ac12000d",
     "previous": "e5649684-1510-11e7-b31a-0242ac12000d"
    }
   },
   "source": [
    "データ型の種類およびマッピング定義の詳細に関しては[05_Indexing](05_Indexing.ipynb)を参照してください。  \n",
    "次のコマンドを実行してマッピング定義を行います。  "
   ]
  },
  {
   "cell_type": "code",
   "execution_count": 22,
   "metadata": {
    "lc_cell_meme": {
     "current": "e5649a12-1510-11e7-b31a-0242ac12000d",
     "next": "e5649bde-1510-11e7-b31a-0242ac12000d",
     "previous": "e5649846-1510-11e7-b31a-0242ac12000d"
    }
   },
   "outputs": [],
   "source": [
    "%%bash\n",
    "curl -XPUT \"http://$ES_CLIENT/_template/weather\" -d @- << EOF\n",
    "{\n",
    "  \"template\" : \"meteorological-data-*\",\n",
    "  \"mappings\": {\n",
    "    \"logs\": {\n",
    "      \"dynamic_templates\" : [\n",
    "        {\n",
    "          \"my_strings\" : {\n",
    "            \"match_mapping_type\" : \"string\",\n",
    "            \"mapping\" : {\n",
    "              \"type\" : \"keyword\"\n",
    "            }\n",
    "          }\n",
    "        }\n",
    "      ],\n",
    "      \"properties\": {\n",
    "        \"atmospheric_pressure\": {\n",
    "          \"type\": \"float\"\n",
    "        },\n",
    "        \"sea_level_pressure\":{\n",
    "          \"type\": \"float\"\n",
    "        },\n",
    "        \"precipitation_day\": {\n",
    "          \"type\": \"integer\"\n",
    "        },\n",
    "        \"precipitation_day\": {\n",
    "          \"type\": \"float\"\n",
    "        },\n",
    "        \"precipitation_max_hour\":{\n",
    "          \"type\":\"float\"\n",
    "        },\n",
    "        \"precipitation_max_10min\":{\n",
    "          \"type\":\"float\"\n",
    "        },\n",
    "        \"temperature_avg\":{\n",
    "          \"type\":\"float\"\n",
    "        },\n",
    "        \"temperature_max\":{\n",
    "          \"type\":\"float\"\n",
    "        },\n",
    "        \"temperature_min\":{\n",
    "          \"type\":\"float\"\n",
    "        },\n",
    "        \"humidity_avg\":{\n",
    "          \"type\":\"float\"\n",
    "        },\n",
    "        \"humidity_min\":{\n",
    "          \"type\":\"float\"\n",
    "        },\n",
    "        \"wind_speed_avg\":{\n",
    "          \"type\":\"float\"\n",
    "        },\n",
    "        \"wind_speed_max\":{\n",
    "          \"type\":\"float\"\n",
    "        },\n",
    "        \"wind_speed_max_moment\":{\n",
    "          \"type\":\"float\"\n",
    "        },\n",
    "        \"sunshine_duration\":{\n",
    "          \"type\":\"float\"\n",
    "        },\n",
    "        \"snowfall\":{\n",
    "          \"type\":\"float\"\n",
    "        },\n",
    "        \"snowfall_max\":{\n",
    "          \"type\":\"float\"\n",
    "        }\n",
    "      }\n",
    "    }\n",
    "  }\n",
    "}\n",
    "EOF"
   ]
  },
  {
   "cell_type": "markdown",
   "metadata": {
    "lc_cell_meme": {
     "current": "e5649bde-1510-11e7-b31a-0242ac12000d",
     "next": "e5649daa-1510-11e7-b31a-0242ac12000d",
     "previous": "e5649a12-1510-11e7-b31a-0242ac12000d"
    }
   },
   "source": [
    "### サンプルデータの投入\n",
    "実際のサンプルデータをLogstashに投入します。"
   ]
  },
  {
   "cell_type": "markdown",
   "metadata": {
    "lc_cell_meme": {
     "current": "e5649daa-1510-11e7-b31a-0242ac12000d",
     "next": "e5649f6c-1510-11e7-b31a-0242ac12000d",
     "previous": "e5649bde-1510-11e7-b31a-0242ac12000d"
    }
   },
   "source": [
    "ここでは気象庁から提供されている気象データを利用します。\n",
    "[気象庁「過去の気象データ・ダウンロード」](http://www.data.jma.go.jp/gmd/risk/obsdl/)\n",
    "\n",
    "公開されているデータのうち、2015年の東京のデータ(1年分)を本Notebookで利用するCSV形式に変換し、サンプルデータとして利用します([tokyo2015.csv](sample_data/tokyo2015.csv))。\n",
    "\n",
    "サンプルデータと気象庁データの項目は、次のように対応しています。\n",
    "\n",
    "| サンプルデータの項目 | 気象庁データの項目 | 備考 |\n",
    "|-----------|--------------------|------|\n",
    "| @timestamp | 年月日 ||\n",
    "| location | 地点 | 気象庁データに直接の記載はないため、変換時に追加した |\n",
    "| atmospheric_pressure | 日平均現地気圧 ||\n",
    "| sea_level_pressure | 日平均海面気圧 ||\n",
    "| precipitation_day | 降水量の日合計 ||\n",
    "| precipitation_max_hour | 1時間降水量の日最大 ||\n",
    "| precipitation_max_10min | 10分間降水量の日最大 ||\n",
    "| temperature_avg | 日平均気温 ||\n",
    "| temperature_max | 日最高気温 ||\n",
    "| temperature_min | 日最低気温 ||\n",
    "| humidity_avg | 日平均相対湿度 ||\n",
    "| humidity_min | 日最小相対湿度 ||\n",
    "| wind_speed_avg | 日平均風速 ||\n",
    "| wind_speed_max | 日最大風速 ||\n",
    "| wind_direction | 日最大風速（風向） ||\n",
    "| wind_speed_max_moment | 日最大瞬間風速 ||\n",
    "| wind_direction_max_moment | 日最大瞬間風速（風向） ||\n",
    "| sunshine_duration | 日照時間 ||\n",
    "| snowfall | 降雪量の日合計 ||\n",
    "| snowfall_max | 日最深積雪 ||\n",
    "| information_daytime | 天気概況（昼：06時～18時） ||\n",
    "| information_night | 天気概況（夜：18時～翌日06時） |||\n",
    "\n",
    "気象庁データの利用あたっては気象庁が公開している[利用規約](http://www.jma.go.jp/jma/kishou/info/coment.html)を参照してください。"
   ]
  },
  {
   "cell_type": "markdown",
   "metadata": {
    "lc_cell_meme": {
     "current": "e5649f6c-1510-11e7-b31a-0242ac12000d",
     "next": "e564a138-1510-11e7-b31a-0242ac12000d",
     "previous": "e5649daa-1510-11e7-b31a-0242ac12000d"
    }
   },
   "source": [
    "登録するデータの内容は次のコマンドで確認できます。1行目がデータの項目を表し、2行目以降が実際のデータです。  \n",
    "Elasticsearchは慣習として時刻情報を@timestampというフィールドに格納します。"
   ]
  },
  {
   "cell_type": "code",
   "execution_count": 23,
   "metadata": {
    "lc_cell_meme": {
     "current": "e564a138-1510-11e7-b31a-0242ac12000d",
     "next": "e564a336-1510-11e7-b31a-0242ac12000d",
     "previous": "e5649f6c-1510-11e7-b31a-0242ac12000d"
    },
    "scrolled": true
   },
   "outputs": [],
   "source": [
    "!head -n 5 ./sample_data/tokyo2015.csv"
   ]
  },
  {
   "cell_type": "markdown",
   "metadata": {
    "lc_cell_meme": {
     "current": "e564a336-1510-11e7-b31a-0242ac12000d",
     "next": "e564a50c-1510-11e7-b31a-0242ac12000d",
     "previous": "e564a138-1510-11e7-b31a-0242ac12000d"
    }
   },
   "source": [
    "Logstashのサーバーにサンプルデータをコピーします。   \n",
    "Logstashをインストールしたサーバーの ~/ 配下に[sample_data](sample_data)のtokyo2015.csvをコピーします。"
   ]
  },
  {
   "cell_type": "code",
   "execution_count": 24,
   "metadata": {
    "lc_cell_meme": {
     "current": "e564a50c-1510-11e7-b31a-0242ac12000d",
     "next": "e564a6d8-1510-11e7-b31a-0242ac12000d",
     "previous": "e564a336-1510-11e7-b31a-0242ac12000d"
    },
    "scrolled": true
   },
   "outputs": [],
   "source": [
    "!ansible-playbook playbooks/copy_sample_data.yml --extra-vars \"notebooks_home=$notebooks_home\" -i ./hosts -u $USER --private-key=$KEYPATH"
   ]
  },
  {
   "cell_type": "markdown",
   "metadata": {
    "lc_cell_meme": {
     "current": "e564a6d8-1510-11e7-b31a-0242ac12000d",
     "next": "e564a8ae-1510-11e7-b31a-0242ac12000d",
     "previous": "e564a50c-1510-11e7-b31a-0242ac12000d"
    }
   },
   "source": [
    "Logstashを使ってサンプルデータをElasticsearchに登録します。次のセルのコマンドを実行してください。"
   ]
  },
  {
   "cell_type": "code",
   "execution_count": 25,
   "metadata": {
    "lc_cell_meme": {
     "current": "e564a8ae-1510-11e7-b31a-0242ac12000d",
     "next": "e564aa7a-1510-11e7-b31a-0242ac12000d",
     "previous": "e564a6d8-1510-11e7-b31a-0242ac12000d"
    },
    "scrolled": true
   },
   "outputs": [],
   "source": [
    "!ansible logstash-server -m shell -a \"cat tokyo2015.csv | sudo /usr/share/logstash/bin/logstash --path.settings /etc/logstash -f /etc/logstash/conf.d/main.conf\" -i ./hosts -u $USER --private-key=$KEYPATH"
   ]
  },
  {
   "cell_type": "markdown",
   "metadata": {
    "lc_cell_meme": {
     "current": "e564aa7a-1510-11e7-b31a-0242ac12000d",
     "next": "e564ac50-1510-11e7-b31a-0242ac12000d",
     "previous": "e564a8ae-1510-11e7-b31a-0242ac12000d"
    }
   },
   "source": [
    "データが登録されているかどうかは、次のセルを実行することで確認できます。"
   ]
  },
  {
   "cell_type": "code",
   "execution_count": 26,
   "metadata": {
    "lc_cell_meme": {
     "current": "e564ac50-1510-11e7-b31a-0242ac12000d",
     "next": "e564ae26-1510-11e7-b31a-0242ac12000d",
     "previous": "e564aa7a-1510-11e7-b31a-0242ac12000d"
    },
    "scrolled": true
   },
   "outputs": [],
   "source": [
    "!curl -XGET http://$ES_CLIENT/meteorological-data-*/_search/?pretty"
   ]
  },
  {
   "cell_type": "markdown",
   "metadata": {
    "lc_cell_meme": {
     "current": "e564ae26-1510-11e7-b31a-0242ac12000d",
     "next": "e564aff2-1510-11e7-b31a-0242ac12000d",
     "previous": "e564ac50-1510-11e7-b31a-0242ac12000d"
    }
   },
   "source": [
    "登録したデータの内容がJSON形式で表示されるので、それを確認してください。  \n",
    "レスポンスのサイズを指定していないため、ここでは最大10件まで確認できます。  "
   ]
  },
  {
   "cell_type": "markdown",
   "metadata": {
    "lc_cell_meme": {
     "current": "e564aff2-1510-11e7-b31a-0242ac12000d",
     "next": "e564b1be-1510-11e7-b31a-0242ac12000d",
     "previous": "e564ae26-1510-11e7-b31a-0242ac12000d"
    }
   },
   "source": [
    "### 分散配置の状態確認\n",
    "投入したでデータがData Nodeにどのように配置されているか確認します。"
   ]
  },
  {
   "cell_type": "markdown",
   "metadata": {
    "lc_cell_meme": {
     "current": "e564b1be-1510-11e7-b31a-0242ac12000d",
     "next": "e564b394-1510-11e7-b31a-0242ac12000d",
     "previous": "e564aff2-1510-11e7-b31a-0242ac12000d"
    }
   },
   "source": [
    "次のコマンドで、Data NodeごとにPrimary/Replica Shardが分散配置されている状況を確認できます。"
   ]
  },
  {
   "cell_type": "code",
   "execution_count": 27,
   "metadata": {
    "lc_cell_meme": {
     "current": "e564b394-1510-11e7-b31a-0242ac12000d",
     "next": "e564b560-1510-11e7-b31a-0242ac12000d",
     "previous": "e564b1be-1510-11e7-b31a-0242ac12000d"
    }
   },
   "outputs": [],
   "source": [
    "!curl -XGET http://$ES_CLIENT/_cat/shards?v"
   ]
  },
  {
   "cell_type": "markdown",
   "metadata": {
    "lc_cell_meme": {
     "current": "e564b560-1510-11e7-b31a-0242ac12000d",
     "next": "e564b72c-1510-11e7-b31a-0242ac12000d",
     "previous": "e564b394-1510-11e7-b31a-0242ac12000d"
    }
   },
   "source": [
    "例えばShard数が3、Replica数が1の場合、あるインデックスの分の表示は次のようになります。"
   ]
  },
  {
   "cell_type": "raw",
   "metadata": {
    "lc_cell_meme": {
     "current": "e564b72c-1510-11e7-b31a-0242ac12000d",
     "next": "e564b90c-1510-11e7-b31a-0242ac12000d",
     "previous": "e564b560-1510-11e7-b31a-0242ac12000d"
    }
   },
   "source": [
    "index                       shard prirep state   docs  store ip            node\n",
    "meteorological-data-2015.09 1     p      STARTED   11 31.4kb 172.31.27.2   eYFCVbh\n",
    "meteorological-data-2015.09 1     r      STARTED   11   16kb 172.31.27.161 8vjNIap\n",
    "meteorological-data-2015.09 2     r      STARTED   10 15.6kb 172.31.25.41  Q8kI3ip\n",
    "meteorological-data-2015.09 2     p      STARTED   10 24.3kb 172.31.27.161 8vjNIap\n",
    "meteorological-data-2015.09 0     p      STARTED    9 22.9kb 172.31.25.41  Q8kI3ip\n",
    "meteorological-data-2015.09 0     r      STARTED    9 22.9kb 172.31.27.2   eYFCVbh\n",
    "（略）"
   ]
  },
  {
   "cell_type": "markdown",
   "metadata": {
    "lc_cell_meme": {
     "current": "e564b90c-1510-11e7-b31a-0242ac12000d",
     "next": "e564bae2-1510-11e7-b31a-0242ac12000d",
     "previous": "e564b72c-1510-11e7-b31a-0242ac12000d"
    }
   },
   "source": [
    "左列からの順に次の意味です。\n",
    "\n",
    "|列名|意味|値の例|\n",
    "|----|----|----|\n",
    "|index|インデックス名|meteorological-data-2015.09|\n",
    "|shard|Shard番号|1|\n",
    "|prirep|Primary(p)かReplica(r)か|p|\n",
    "|state|状態|STARTED|\n",
    "|docs|ドキュメント数|11|\n",
    "|store|ディスクサイズ|31.4kb|\n",
    "|ip|配置先のData NodeのIP|172.31.27.2|\n"
   ]
  },
  {
   "cell_type": "markdown",
   "metadata": {
    "lc_cell_meme": {
     "current": "e564bae2-1510-11e7-b31a-0242ac12000d",
     "next": "e564bcb8-1510-11e7-b31a-0242ac12000d",
     "previous": "e564b90c-1510-11e7-b31a-0242ac12000d"
    }
   },
   "source": [
    "※Shardの配置のイメージについては[01_01_Outline.ipynbの「Elasticsearchクラスタ」](01_01_Outline.ipynb#Elasticsearchクラスタ)の章にある図を参照してください。"
   ]
  },
  {
   "cell_type": "markdown",
   "metadata": {
    "lc_cell_meme": {
     "current": "e564bcb8-1510-11e7-b31a-0242ac12000d",
     "history": [
      {
       "current": "e564bcb8-1510-11e7-b31a-0242ac12000d",
       "next": null,
       "previous": "e564bae2-1510-11e7-b31a-0242ac12000d"
      },
      {
       "current": "e564bcb8-1510-11e7-b31a-0242ac12000d",
       "next": "d7ed0f24-46e6-11e7-88b1-02420aff0008",
       "previous": "e564bae2-1510-11e7-b31a-0242ac12000d"
      }
     ],
     "next": "d7ed11b8-46e6-11e7-88b1-02420aff0008",
     "previous": "e564bae2-1510-11e7-b31a-0242ac12000d"
    }
   },
   "source": [
    "よって、次のようになっていればShard数、Replica数は正しく反映されています。\n",
    "- Shard番号の数の種類がShard数と同じだけある  \n",
    "（例えばShard数が3であれば、Shard番号は0,1,2の3種類あるはず）\n",
    "- あるインデックスのShard番号ごとに、\"r\"のついた行がReplica数だけある"
   ]
  },
  {
   "cell_type": "code",
   "execution_count": null,
   "metadata": {
    "collapsed": true,
    "lc_cell_meme": {
     "current": "d7ed11b8-46e6-11e7-88b1-02420aff0008",
     "history": [
      {
       "current": "d7ed11b8-46e6-11e7-88b1-02420aff0008",
       "next": null,
       "previous": "d7ed10c8-46e6-11e7-88b1-02420aff0008"
      }
     ],
     "next": null,
     "previous": "e564bcb8-1510-11e7-b31a-0242ac12000d"
    }
   },
   "outputs": [],
   "source": []
  }
 ],
 "metadata": {
  "anaconda-cloud": {},
  "kernelspec": {
   "display_name": "Python 2 (LC_wrapper)",
   "language": "python",
   "name": "python2-wrapper"
  },
  "language_info": {
   "file_extension": ".py",
   "mimetype": "text/x-python",
   "name": "python",
   "nbconvert_exporter": "python",
   "pygments_lexer": "ipython2",
   "version": "2.7.9"
  },
  "latex_envs": {
   "bibliofile": "biblio.bib",
   "cite_by": "apalike",
   "current_citInitial": 1,
   "eqLabelWithNumbers": true,
   "eqNumInitial": 0
  },
  "lc_notebook_meme": {
   "current": "e5641894-1510-11e7-b31a-0242ac12000d"
  },
  "toc": {
   "colors": {
    "hover_highlight": "#DAA520",
    "navigate_num": "#000000",
    "navigate_text": "#333333",
    "running_highlight": "#FF0000",
    "selected_highlight": "#FFD700",
    "sidebar_border": "#EEEEEE",
    "wrapper_background": "#FFFFFF"
   },
   "moveMenuLeft": true,
   "nav_menu": {
    "height": "407px",
    "width": "252px"
   },
   "navigate_menu": true,
   "number_sections": true,
   "sideBar": true,
   "threshold": 4,
   "toc_cell": false,
   "toc_position": {
    "height": "1094px",
    "left": "0px",
    "right": "1576px",
    "top": "106px",
    "width": "325px"
   },
   "toc_section_display": "block",
   "toc_window_display": true,
   "widenNotebook": false
  }
 },
 "nbformat": 4,
 "nbformat_minor": 1
}
