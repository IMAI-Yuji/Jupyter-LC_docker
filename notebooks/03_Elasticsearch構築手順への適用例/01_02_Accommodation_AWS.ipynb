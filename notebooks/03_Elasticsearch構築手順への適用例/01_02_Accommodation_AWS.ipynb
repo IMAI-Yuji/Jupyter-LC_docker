{
 "cells": [
  {
   "cell_type": "markdown",
   "metadata": {
    "lc_cell_meme": {
     "current": "0ab0c5c4-14ea-11e7-b31a-0242ac12000d",
     "history": [
      {
       "current": "0ab0c5c4-14ea-11e7-b31a-0242ac12000d",
       "next": "0ab0c808-14ea-11e7-b31a-0242ac12000d",
       "previous": null
      }
     ],
     "next": "7d55a8be-4c13-11e7-8a6b-02420aff0006",
     "previous": null
    }
   },
   "source": [
    "# Elastic Stackの構築手順：収容（AWS）\n",
    "\n",
    "----\n",
    "\n",
    "Elasticsearchのインストール先となる Amazon&nbsp;EC2インスタンスを確保します。  \n",
    "\n",
    "**事前に [01_01_Outline.ipynb#設定ファイルの出力](01_01_Outline.ipynb#設定ファイルの出力) を実行しておく必要があります。**\n"
   ]
  },
  {
   "cell_type": "code",
   "execution_count": 1,
   "metadata": {
    "collapsed": true,
    "lc_cell_meme": {
     "current": "7d55a8be-4c13-11e7-8a6b-02420aff0006",
     "next": "7d55aada-4c13-11e7-8a6b-02420aff0006",
     "previous": "0ab0c5c4-14ea-11e7-b31a-0242ac12000d"
    }
   },
   "outputs": [],
   "source": [
    "import os\n",
    "assert os.path.exists('group_vars/all')"
   ]
  },
  {
   "cell_type": "markdown",
   "metadata": {
    "lc_cell_meme": {
     "current": "7d55aada-4c13-11e7-8a6b-02420aff0006",
     "next": "0ab0c808-14ea-11e7-b31a-0242ac12000d",
     "previous": "7d55a8be-4c13-11e7-8a6b-02420aff0006"
    }
   },
   "source": [
    "\n",
    "**上記がエラーになる場合は、[01_01_Outline.ipynb#設定ファイルの出力](01_01_Outline.ipynb#設定ファイルの出力)を実行してください。**"
   ]
  },
  {
   "cell_type": "markdown",
   "metadata": {
    "lc_cell_meme": {
     "current": "0ab0c808-14ea-11e7-b31a-0242ac12000d",
     "history": [
      {
       "current": "0ab0c808-14ea-11e7-b31a-0242ac12000d",
       "next": "0ab0ca06-14ea-11e7-b31a-0242ac12000d",
       "previous": "0ab0c5c4-14ea-11e7-b31a-0242ac12000d"
      }
     ],
     "next": "0ab0ca06-14ea-11e7-b31a-0242ac12000d",
     "previous": "7d55aada-4c13-11e7-8a6b-02420aff0006"
    }
   },
   "source": [
    "## 設定\n",
    "インスタンスの生成に必要な情報を設定します。"
   ]
  },
  {
   "cell_type": "markdown",
   "metadata": {
    "lc_cell_meme": {
     "current": "0ab0ca06-14ea-11e7-b31a-0242ac12000d",
     "next": "0ab0cbf0-14ea-11e7-b31a-0242ac12000d",
     "previous": "0ab0c808-14ea-11e7-b31a-0242ac12000d"
    }
   },
   "source": [
    "マシンイメージを設定します。"
   ]
  },
  {
   "cell_type": "code",
   "execution_count": 2,
   "metadata": {
    "collapsed": true,
    "lc_cell_meme": {
     "current": "0ab0cbf0-14ea-11e7-b31a-0242ac12000d",
     "next": "0ab0cde4-14ea-11e7-b31a-0242ac12000d",
     "previous": "0ab0ca06-14ea-11e7-b31a-0242ac12000d"
    }
   },
   "outputs": [],
   "source": [
    "image_id = 'ami-eec1c380'\n",
    "#CentOS 7 (x86_64) - with Updates HVM\n",
    "#アジアパシフィック東京リージョン"
   ]
  },
  {
   "cell_type": "markdown",
   "metadata": {
    "lc_cell_meme": {
     "current": "0ab0cde4-14ea-11e7-b31a-0242ac12000d",
     "history": [
      {
       "current": "0ab0cde4-14ea-11e7-b31a-0242ac12000d",
       "next": "0ab0cfba-14ea-11e7-b31a-0242ac12000d",
       "previous": "0ab0cbf0-14ea-11e7-b31a-0242ac12000d"
      }
     ],
     "next": "c4db6f0c-4c13-11e7-8a6b-02420aff0006",
     "previous": "0ab0cbf0-14ea-11e7-b31a-0242ac12000d"
    }
   },
   "source": [
    "インスタンスタイプを設定します。  \n",
    "[Amazon EC2 インスタンス](https://aws.amazon.com/jp/ec2/instance-types/)のページから適切なタイプを選択してください。\n",
    "\n",
    "例えば64GBのメモリを利用するのであれば **m4.4xlarge** が選択候補となります。  \n",
    "利用したいサイズに応じてタイプを選んで下さい。"
   ]
  },
  {
   "cell_type": "markdown",
   "metadata": {
    "lc_cell_meme": {
     "current": "c4db6f0c-4c13-11e7-8a6b-02420aff0006",
     "history": [
      {
       "current": "c4db6f0c-4c13-11e7-8a6b-02420aff0006",
       "next": "0ab0d190-14ea-11e7-b31a-0242ac12000d",
       "previous": "0ab0cfba-14ea-11e7-b31a-0242ac12000d"
      }
     ],
     "next": "0ab0cfba-14ea-11e7-b31a-0242ac12000d",
     "previous": "0ab0cde4-14ea-11e7-b31a-0242ac12000d"
    }
   },
   "source": [
    "**<font color=\"red\">デモ環境の場合は変更しないでください。</font>**"
   ]
  },
  {
   "cell_type": "code",
   "execution_count": 3,
   "metadata": {
    "collapsed": true,
    "lc_cell_meme": {
     "current": "0ab0cfba-14ea-11e7-b31a-0242ac12000d",
     "history": [
      {
       "current": "0ab0cfba-14ea-11e7-b31a-0242ac12000d",
       "next": "0ab0d190-14ea-11e7-b31a-0242ac12000d",
       "previous": "0ab0cde4-14ea-11e7-b31a-0242ac12000d"
      },
      {
       "current": "0ab0cfba-14ea-11e7-b31a-0242ac12000d",
       "next": "c4db6f0c-4c13-11e7-8a6b-02420aff0006",
       "previous": "0ab0cde4-14ea-11e7-b31a-0242ac12000d"
      }
     ],
     "next": "0ab0d366-14ea-11e7-b31a-0242ac12000d",
     "previous": "c4db6f0c-4c13-11e7-8a6b-02420aff0006"
    }
   },
   "outputs": [],
   "source": [
    "instance_type = 'm4.4xlarge'"
   ]
  },
  {
   "cell_type": "code",
   "execution_count": 4,
   "metadata": {
    "collapsed": true,
    "lc_cell_meme": {
     "current": "0ab0d366-14ea-11e7-b31a-0242ac12000d",
     "history": [
      {
       "current": "0ab0d366-14ea-11e7-b31a-0242ac12000d",
       "next": "0ab0d546-14ea-11e7-b31a-0242ac12000d",
       "previous": "0ab0d190-14ea-11e7-b31a-0242ac12000d"
      }
     ],
     "next": "0ab0d712-14ea-11e7-b31a-0242ac12000d",
     "previous": "0ab0cfba-14ea-11e7-b31a-0242ac12000d"
    }
   },
   "outputs": [],
   "source": [
    "location = 'Asia Pacific (Tokyo)'"
   ]
  },
  {
   "cell_type": "code",
   "execution_count": 5,
   "metadata": {
    "collapsed": true,
    "lc_cell_meme": {
     "current": "0ab0d712-14ea-11e7-b31a-0242ac12000d",
     "history": [
      {
       "current": "0ab0d712-14ea-11e7-b31a-0242ac12000d",
       "next": "0ab0d8d4-14ea-11e7-b31a-0242ac12000d",
       "previous": "0ab0d546-14ea-11e7-b31a-0242ac12000d"
      }
     ],
     "next": "0ab0d8d4-14ea-11e7-b31a-0242ac12000d",
     "previous": "0ab0d366-14ea-11e7-b31a-0242ac12000d"
    }
   },
   "outputs": [],
   "source": [
    "instance_count = 1"
   ]
  },
  {
   "cell_type": "markdown",
   "metadata": {
    "lc_cell_meme": {
     "current": "0ab0d8d4-14ea-11e7-b31a-0242ac12000d",
     "next": "0ab0dab4-14ea-11e7-b31a-0242ac12000d",
     "previous": "0ab0d712-14ea-11e7-b31a-0242ac12000d"
    }
   },
   "source": [
    "データ蓄積ディスクとなる[EBS](http://docs.aws.amazon.com/ja_jp/AWSEC2/latest/UserGuide/AmazonEBS.html)の[ブロックデバイスマッピング](http://docs.aws.amazon.com/ja_jp/AWSEC2/latest/UserGuide/block-device-mapping-concepts.html)設定を行います。  \n",
    "`VolumeSize`、`VolumeType`を設定します。  \n",
    "`DeleteOnTermination`にtrueを設定すると、インスタンス破棄時にEBSが削除されます。  \n"
   ]
  },
  {
   "cell_type": "code",
   "execution_count": 6,
   "metadata": {
    "collapsed": true,
    "lc_cell_meme": {
     "current": "0ab0dab4-14ea-11e7-b31a-0242ac12000d",
     "history": [
      {
       "current": "0ab0dab4-14ea-11e7-b31a-0242ac12000d",
       "next": "0ab0dc80-14ea-11e7-b31a-0242ac12000d",
       "previous": "0ab0d8d4-14ea-11e7-b31a-0242ac12000d"
      },
      {
       "current": "0ab0dab4-14ea-11e7-b31a-0242ac12000d",
       "next": "0ab0e022-14ea-11e7-b31a-0242ac12000d",
       "previous": "0ab0d8d4-14ea-11e7-b31a-0242ac12000d"
      }
     ],
     "next": "0ab0e3ba-14ea-11e7-b31a-0242ac12000d",
     "previous": "0ab0d8d4-14ea-11e7-b31a-0242ac12000d"
    }
   },
   "outputs": [],
   "source": [
    "block_device_mappings = {\n",
    "    \"DeviceName\": \"/dev/sda1\",\n",
    "    \"Ebs\": {\n",
    "      \"VolumeSize\": 1024,\n",
    "      \"VolumeType\": \"gp2\",\n",
    "      \"DeleteOnTermination\": True,\n",
    "    }\n",
    "}"
   ]
  },
  {
   "cell_type": "markdown",
   "metadata": {
    "lc_cell_meme": {
     "current": "0ab0e3ba-14ea-11e7-b31a-0242ac12000d",
     "history": [
      {
       "current": "0ab0e3ba-14ea-11e7-b31a-0242ac12000d",
       "next": "0ab0e6f8-14ea-11e7-b31a-0242ac12000d",
       "previous": "0ab0e1ee-14ea-11e7-b31a-0242ac12000d"
      }
     ],
     "next": "0ab0e6f8-14ea-11e7-b31a-0242ac12000d",
     "previous": "0ab0dab4-14ea-11e7-b31a-0242ac12000d"
    }
   },
   "source": [
    "使用するキーペア名を設定します。"
   ]
  },
  {
   "cell_type": "code",
   "execution_count": 7,
   "metadata": {
    "collapsed": true,
    "lc_cell_meme": {
     "current": "0ab0e6f8-14ea-11e7-b31a-0242ac12000d",
     "history": [
      {
       "current": "0ab0e6f8-14ea-11e7-b31a-0242ac12000d",
       "next": "0ab0e946-14ea-11e7-b31a-0242ac12000d",
       "previous": "0ab0e3ba-14ea-11e7-b31a-0242ac12000d"
      },
      {
       "current": "0ab0e6f8-14ea-11e7-b31a-0242ac12000d",
       "next": "0ab0fd32-14ea-11e7-b31a-0242ac12000d",
       "previous": "0ab0e3ba-14ea-11e7-b31a-0242ac12000d"
      }
     ],
     "next": "53ea6252-4c14-11e7-8a6b-02420aff0006",
     "previous": "0ab0e3ba-14ea-11e7-b31a-0242ac12000d"
    }
   },
   "outputs": [],
   "source": [
    "import os\n",
    "%run {os.environ['HOST_HOME']}/env.py\n",
    "keypair_name"
   ]
  },
  {
   "cell_type": "markdown",
   "metadata": {
    "lc_cell_meme": {
     "current": "53ea6252-4c14-11e7-8a6b-02420aff0006",
     "next": "0ab0e1ee-14ea-11e7-b31a-0242ac12000d",
     "previous": "0ab0e6f8-14ea-11e7-b31a-0242ac12000d"
    }
   },
   "source": [
    "このキーペアには以下の公開鍵が設定されています。"
   ]
  },
  {
   "cell_type": "code",
   "execution_count": 8,
   "metadata": {
    "collapsed": true,
    "lc_cell_meme": {
     "current": "0ab0e1ee-14ea-11e7-b31a-0242ac12000d",
     "history": [
      {
       "current": "0ab0e1ee-14ea-11e7-b31a-0242ac12000d",
       "next": "0ab0e3ba-14ea-11e7-b31a-0242ac12000d",
       "previous": "0ab0e022-14ea-11e7-b31a-0242ac12000d"
      },
      {
       "current": "0ab0e1ee-14ea-11e7-b31a-0242ac12000d",
       "next": "0ab100d4-14ea-11e7-b31a-0242ac12000d",
       "previous": "53ea6252-4c14-11e7-8a6b-02420aff0006"
      }
     ],
     "next": "9b6dded8-4c14-11e7-8a6b-02420aff0006",
     "previous": "53ea6252-4c14-11e7-8a6b-02420aff0006"
    }
   },
   "outputs": [],
   "source": [
    "!cat ~/.ssh/ansible_id_rsa.pub"
   ]
  },
  {
   "cell_type": "markdown",
   "metadata": {
    "lc_cell_meme": {
     "current": "9b6dded8-4c14-11e7-8a6b-02420aff0006",
     "next": "0ab100d4-14ea-11e7-b31a-0242ac12000d",
     "previous": "0ab0e1ee-14ea-11e7-b31a-0242ac12000d"
    }
   },
   "source": [
    "**<font color=\"red\">以下3つの設定はデモ環境の場合は変更しないでください。</font>**"
   ]
  },
  {
   "cell_type": "code",
   "execution_count": 9,
   "metadata": {
    "collapsed": true,
    "lc_cell_meme": {
     "current": "0ab100d4-14ea-11e7-b31a-0242ac12000d",
     "history": [
      {
       "current": "0ab100d4-14ea-11e7-b31a-0242ac12000d",
       "next": "0ab102a0-14ea-11e7-b31a-0242ac12000d",
       "previous": "0ab0ff08-14ea-11e7-b31a-0242ac12000d"
      },
      {
       "current": "0ab100d4-14ea-11e7-b31a-0242ac12000d",
       "next": "0ab0eb1c-14ea-11e7-b31a-0242ac12000d",
       "previous": "0ab0fd32-14ea-11e7-b31a-0242ac12000d"
      },
      {
       "current": "0ab100d4-14ea-11e7-b31a-0242ac12000d",
       "next": "0ab0e946-14ea-11e7-b31a-0242ac12000d",
       "previous": "0ab0fd32-14ea-11e7-b31a-0242ac12000d"
      },
      {
       "current": "0ab100d4-14ea-11e7-b31a-0242ac12000d",
       "next": "0ab0e946-14ea-11e7-b31a-0242ac12000d",
       "previous": "0ab0e1ee-14ea-11e7-b31a-0242ac12000d"
      }
     ],
     "next": "0ab0f616-14ea-11e7-b31a-0242ac12000d",
     "previous": "9b6dded8-4c14-11e7-8a6b-02420aff0006"
    }
   },
   "outputs": [],
   "source": [
    "security_group_id = 'sg-xxxxxxxx'"
   ]
  },
  {
   "cell_type": "code",
   "execution_count": 10,
   "metadata": {
    "collapsed": true,
    "lc_cell_meme": {
     "current": "0ab0f616-14ea-11e7-b31a-0242ac12000d",
     "history": [
      {
       "current": "0ab0f616-14ea-11e7-b31a-0242ac12000d",
       "next": "0ab0f7e2-14ea-11e7-b31a-0242ac12000d",
       "previous": "0ab0f418-14ea-11e7-b31a-0242ac12000d"
      },
      {
       "current": "0ab0f616-14ea-11e7-b31a-0242ac12000d",
       "next": "0ab0fd32-14ea-11e7-b31a-0242ac12000d",
       "previous": "0ab0eebe-14ea-11e7-b31a-0242ac12000d"
      }
     ],
     "next": "0ab0ff08-14ea-11e7-b31a-0242ac12000d",
     "previous": "0ab100d4-14ea-11e7-b31a-0242ac12000d"
    }
   },
   "outputs": [],
   "source": [
    "vpc_id = 'vpc-xxxxxxxx'"
   ]
  },
  {
   "cell_type": "code",
   "execution_count": 11,
   "metadata": {
    "collapsed": true,
    "lc_cell_meme": {
     "current": "0ab0ff08-14ea-11e7-b31a-0242ac12000d",
     "history": [
      {
       "current": "0ab0ff08-14ea-11e7-b31a-0242ac12000d",
       "next": "0ab100d4-14ea-11e7-b31a-0242ac12000d",
       "previous": "0ab0fd32-14ea-11e7-b31a-0242ac12000d"
      },
      {
       "current": "0ab0ff08-14ea-11e7-b31a-0242ac12000d",
       "next": "0ab102a0-14ea-11e7-b31a-0242ac12000d",
       "previous": "0ab0fd32-14ea-11e7-b31a-0242ac12000d"
      }
     ],
     "next": "0ab102a0-14ea-11e7-b31a-0242ac12000d",
     "previous": "0ab0f616-14ea-11e7-b31a-0242ac12000d"
    }
   },
   "outputs": [],
   "source": [
    "subnet_id = 'subnet-xxxxxxxx'"
   ]
  },
  {
   "cell_type": "markdown",
   "metadata": {
    "lc_cell_meme": {
     "current": "0ab102a0-14ea-11e7-b31a-0242ac12000d",
     "history": [
      {
       "current": "0ab102a0-14ea-11e7-b31a-0242ac12000d",
       "next": "0ab10462-14ea-11e7-b31a-0242ac12000d",
       "previous": "0ab100d4-14ea-11e7-b31a-0242ac12000d"
      },
      {
       "current": "0ab102a0-14ea-11e7-b31a-0242ac12000d",
       "next": "0ab10462-14ea-11e7-b31a-0242ac12000d",
       "previous": "0ab0ff08-14ea-11e7-b31a-0242ac12000d"
      }
     ],
     "next": "0ab10bc4-14ea-11e7-b31a-0242ac12000d",
     "previous": "0ab0ff08-14ea-11e7-b31a-0242ac12000d"
    }
   },
   "source": [
    "## EC2インスタンスの設定と生成 \n",
    "サーバ構成に応じたEC2インスタンスの設定を定義し、インスタンスを生成します。\n",
    "\n",
    "大まかな手順は次の通りです。  \n",
    "1. AWSへのアクセスの確認\n",
    "2. インスタンスの生成\n",
    "3. セキュリティグループへの登録\n",
    "4. タグの設定\n"
   ]
  },
  {
   "cell_type": "markdown",
   "metadata": {
    "lc_cell_meme": {
     "current": "0ab10bc4-14ea-11e7-b31a-0242ac12000d",
     "history": [
      {
       "current": "0ab10bc4-14ea-11e7-b31a-0242ac12000d",
       "next": "0ab10d90-14ea-11e7-b31a-0242ac12000d",
       "previous": "0ab10a02-14ea-11e7-b31a-0242ac12000d"
      },
      {
       "current": "0ab10bc4-14ea-11e7-b31a-0242ac12000d",
       "next": "0ab10d90-14ea-11e7-b31a-0242ac12000d",
       "previous": "0ab102a0-14ea-11e7-b31a-0242ac12000d"
      }
     ],
     "next": "969ea3bc-473a-11e7-9f7c-02420aff0008",
     "previous": "0ab102a0-14ea-11e7-b31a-0242ac12000d"
    }
   },
   "source": [
    "### インスタンスの生成\n",
    "\n",
    "設定した定義を用いてインスタンスを生成します。このデモでは、AWSのスポットインスタンスを利用します。\n",
    "\n",
    "まず、AWSに伝えるスポットインスタンスの定義ファイルを生成します。"
   ]
  },
  {
   "cell_type": "code",
   "execution_count": 12,
   "metadata": {
    "collapsed": true,
    "lc_cell_meme": {
     "current": "969ea3bc-473a-11e7-9f7c-02420aff0008",
     "history": [
      {
       "current": "969ea3bc-473a-11e7-9f7c-02420aff0008",
       "next": "0ab10d90-14ea-11e7-b31a-0242ac12000d",
       "previous": "0ab10bc4-14ea-11e7-b31a-0242ac12000d"
      }
     ],
     "next": "5ad2f446-4a91-11e7-b091-02420aff0006",
     "previous": "0ab10bc4-14ea-11e7-b31a-0242ac12000d"
    }
   },
   "outputs": [],
   "source": [
    "import json\n",
    "import tempfile\n",
    "import os\n",
    "\n",
    "work_dir = tempfile.mkdtemp()\n",
    "spec = {'ImageId': image_id, 'KeyName': keypair_name, 'SecurityGroupIds': [security_group_id],\n",
    "        'BlockDeviceMappings': [block_device_mappings], 'SubnetId': subnet_id,\n",
    "        'InstanceType': instance_type}\n",
    "with open(os.path.join(work_dir, 'spec.json'), 'w') as f:\n",
    "    json.dump(spec, f)\n",
    "!cat {work_dir}/spec.json"
   ]
  },
  {
   "cell_type": "markdown",
   "metadata": {
    "lc_cell_meme": {
     "current": "5ad2f446-4a91-11e7-b091-02420aff0006",
     "next": "0ab10d90-14ea-11e7-b31a-0242ac12000d",
     "previous": "969ea3bc-473a-11e7-9f7c-02420aff0008"
    }
   },
   "source": [
    "定義ファイルに基づいて、AWSにスポットインスタンス要求を発行します。"
   ]
  },
  {
   "cell_type": "code",
   "execution_count": 13,
   "metadata": {
    "collapsed": true,
    "lc_cell_meme": {
     "current": "0ab10d90-14ea-11e7-b31a-0242ac12000d",
     "history": [
      {
       "current": "0ab10d90-14ea-11e7-b31a-0242ac12000d",
       "next": "0ab10f5c-14ea-11e7-b31a-0242ac12000d",
       "previous": "0ab10bc4-14ea-11e7-b31a-0242ac12000d"
      },
      {
       "current": "0ab10d90-14ea-11e7-b31a-0242ac12000d",
       "next": "0ab10f5c-14ea-11e7-b31a-0242ac12000d",
       "previous": "969ea3bc-473a-11e7-9f7c-02420aff0008"
      },
      {
       "current": "0ab10d90-14ea-11e7-b31a-0242ac12000d",
       "next": "29732f76-4747-11e7-9f7c-02420aff0008",
       "previous": "969ea3bc-473a-11e7-9f7c-02420aff0008"
      },
      {
       "current": "0ab10d90-14ea-11e7-b31a-0242ac12000d",
       "next": "b39ada56-474b-11e7-9f7c-02420aff0008",
       "previous": "969ea3bc-473a-11e7-9f7c-02420aff0008"
      },
      {
       "current": "0ab10d90-14ea-11e7-b31a-0242ac12000d",
       "next": "29732f76-4747-11e7-9f7c-02420aff0008",
       "previous": "969ea3bc-473a-11e7-9f7c-02420aff0008"
      }
     ],
     "next": "29732f76-4747-11e7-9f7c-02420aff0008",
     "previous": "5ad2f446-4a91-11e7-b091-02420aff0006"
    },
    "scrolled": true
   },
   "outputs": [],
   "source": [
    "req_instances_stdout = !aws ec2 request-spot-instances --spot-price \"0.5\" \\\n",
    "                            --instance-count {instance_count} --type one-time \\\n",
    "                            --launch-specification file://{work_dir}/spec.json\n",
    "try:\n",
    "    json.loads('\\n'.join(req_instances_stdout))\n",
    "except:\n",
    "    print('\\n'.join(req_instances_stdout))\n",
    "\n",
    "req_ids = [r['SpotInstanceRequestId'] for r in json.loads('\\n'.join(req_instances_stdout))['SpotInstanceRequests']]\n",
    "req_ids"
   ]
  },
  {
   "cell_type": "markdown",
   "metadata": {
    "lc_cell_meme": {
     "current": "29732f76-4747-11e7-9f7c-02420aff0008",
     "history": [
      {
       "current": "29732f76-4747-11e7-9f7c-02420aff0008",
       "next": "0ab10f5c-14ea-11e7-b31a-0242ac12000d",
       "previous": "0ab10d90-14ea-11e7-b31a-0242ac12000d"
      },
      {
       "current": "29732f76-4747-11e7-9f7c-02420aff0008",
       "next": "70fa054a-4747-11e7-9f7c-02420aff0008",
       "previous": "0ab10d90-14ea-11e7-b31a-0242ac12000d"
      },
      {
       "current": "29732f76-4747-11e7-9f7c-02420aff0008",
       "next": "70fa054a-4747-11e7-9f7c-02420aff0008",
       "previous": "b39ada56-474b-11e7-9f7c-02420aff0008"
      }
     ],
     "next": "70fa054a-4747-11e7-9f7c-02420aff0008",
     "previous": "0ab10d90-14ea-11e7-b31a-0242ac12000d"
    }
   },
   "source": [
    "インスタンス要求が受理されるまで待機します。"
   ]
  },
  {
   "cell_type": "code",
   "execution_count": 14,
   "metadata": {
    "collapsed": true,
    "lc_cell_meme": {
     "current": "70fa054a-4747-11e7-9f7c-02420aff0008",
     "next": "0ab10f5c-14ea-11e7-b31a-0242ac12000d",
     "previous": "29732f76-4747-11e7-9f7c-02420aff0008"
    },
    "scrolled": true
   },
   "outputs": [],
   "source": [
    "import time\n",
    "\n",
    "retries = 10\n",
    "while retries > 0:\n",
    "    desc_requests_stdout = !aws ec2 describe-spot-instance-requests --spot-instance-request-ids {' '.join(req_ids)}\n",
    "    try:\n",
    "        json.loads('\\n'.join(desc_requests_stdout))\n",
    "    except:\n",
    "        print('\\n'.join(desc_requests_stdout))\n",
    "    \n",
    "    reqs = json.loads('\\n'.join(desc_requests_stdout))['SpotInstanceRequests']\n",
    "    fulfilled = [req for req in reqs if req['Status']['Code'] == 'fulfilled']\n",
    "    if len(fulfilled) == len(req_ids):\n",
    "        break\n",
    "    print('Not accepted : {}/{}'.format(len(fulfilled), len(req_ids)))\n",
    "    time.sleep(5)\n",
    "    print('------')\n",
    "    retries -= 1\n",
    "\n",
    "# Statusを確認\n",
    "for req in reqs:\n",
    "    assert req['Status']['Code'] == 'fulfilled'\n",
    "id_list = [r['InstanceId'] for r in reqs]\n",
    "id_list"
   ]
  },
  {
   "cell_type": "markdown",
   "metadata": {
    "lc_cell_meme": {
     "current": "0ab10f5c-14ea-11e7-b31a-0242ac12000d",
     "history": [
      {
       "current": "0ab10f5c-14ea-11e7-b31a-0242ac12000d",
       "next": "0ab11132-14ea-11e7-b31a-0242ac12000d",
       "previous": "0ab10d90-14ea-11e7-b31a-0242ac12000d"
      },
      {
       "current": "0ab10f5c-14ea-11e7-b31a-0242ac12000d",
       "next": "0ab11132-14ea-11e7-b31a-0242ac12000d",
       "previous": "29732f76-4747-11e7-9f7c-02420aff0008"
      }
     ],
     "next": "0ab11132-14ea-11e7-b31a-0242ac12000d",
     "previous": "70fa054a-4747-11e7-9f7c-02420aff0008"
    }
   },
   "source": [
    "生成したインスタンスIDを確認します。"
   ]
  },
  {
   "cell_type": "code",
   "execution_count": 15,
   "metadata": {
    "collapsed": true,
    "lc_cell_meme": {
     "current": "0ab11132-14ea-11e7-b31a-0242ac12000d",
     "next": "0ab112f4-14ea-11e7-b31a-0242ac12000d",
     "previous": "0ab10f5c-14ea-11e7-b31a-0242ac12000d"
    },
    "scrolled": true
   },
   "outputs": [],
   "source": [
    "id_list_text = ' '.join(id_list)\n",
    "id_list"
   ]
  },
  {
   "cell_type": "markdown",
   "metadata": {
    "lc_cell_meme": {
     "current": "0ab112f4-14ea-11e7-b31a-0242ac12000d",
     "next": "0ab114b6-14ea-11e7-b31a-0242ac12000d",
     "previous": "0ab11132-14ea-11e7-b31a-0242ac12000d"
    }
   },
   "source": [
    "インスタンスの状態が `running` になるまで待ちます。"
   ]
  },
  {
   "cell_type": "code",
   "execution_count": 16,
   "metadata": {
    "collapsed": true,
    "lc_cell_meme": {
     "current": "0ab114b6-14ea-11e7-b31a-0242ac12000d",
     "history": [
      {
       "current": "0ab114b6-14ea-11e7-b31a-0242ac12000d",
       "next": "0ab11682-14ea-11e7-b31a-0242ac12000d",
       "previous": "0ab112f4-14ea-11e7-b31a-0242ac12000d"
      },
      {
       "current": "0ab114b6-14ea-11e7-b31a-0242ac12000d",
       "next": "0ab1184e-14ea-11e7-b31a-0242ac12000d",
       "previous": "0ab112f4-14ea-11e7-b31a-0242ac12000d"
      }
     ],
     "next": "0ab11a10-14ea-11e7-b31a-0242ac12000d",
     "previous": "0ab112f4-14ea-11e7-b31a-0242ac12000d"
    },
    "scrolled": false
   },
   "outputs": [],
   "source": [
    "from functools import reduce\n",
    "import time\n",
    "\n",
    "retries = 10\n",
    "while retries > 0:\n",
    "    # インスタンス情報を取得\n",
    "    desc_instances_stdout = !aws ec2 describe-instances --instance-ids $id_list_text\n",
    "    try:\n",
    "        json.loads('\\n'.join(desc_instances_stdout))\n",
    "    except:\n",
    "        print('\\n'.join(desc_instances_stdout))\n",
    "    \n",
    "    # JSON化し、インスタンスのリストとして取り出す\n",
    "    desc_instances = json.loads('\\n'.join(desc_instances_stdout))\n",
    "    target_instances = reduce(lambda x, y: x + y, map(lambda r: r['Instances'], desc_instances['Reservations']))\n",
    "    # IDと状態を出力\n",
    "    status_text = '\\n'.join(map(lambda i : '{0} : {1}'.format(i['InstanceId'], i['State']['Name']), target_instances))\n",
    "    print(status_text)\n",
    "    # runningになっていないものがまだあれば、スリープして最初に戻る。全てrunningなら終了。\n",
    "    not_running_num = len(list(filter(lambda i : i['State']['Name'] != 'running', target_instances)))\n",
    "    if not_running_num == 0:\n",
    "        break\n",
    "    print('Not running : {0}'.format(not_running_num))\n",
    "    time.sleep(5)\n",
    "    print('------')\n",
    "    retries -= 1\n",
    "\n",
    "for i in target_instances:\n",
    "    assert i['State']['Name'] == 'running'\n",
    "host_list = [i['PrivateIpAddress'] for i in target_instances]\n",
    "host_list"
   ]
  },
  {
   "cell_type": "markdown",
   "metadata": {
    "lc_cell_meme": {
     "current": "0ab11a10-14ea-11e7-b31a-0242ac12000d",
     "history": [
      {
       "current": "0ab11a10-14ea-11e7-b31a-0242ac12000d",
       "next": "0ab11c0e-14ea-11e7-b31a-0242ac12000d",
       "previous": "0ab1184e-14ea-11e7-b31a-0242ac12000d"
      },
      {
       "current": "0ab11a10-14ea-11e7-b31a-0242ac12000d",
       "next": "0ab11c0e-14ea-11e7-b31a-0242ac12000d",
       "previous": "e433dd4c-46b6-11e7-ae73-02420aff0008"
      },
      {
       "current": "0ab11a10-14ea-11e7-b31a-0242ac12000d",
       "next": "0ab11c0e-14ea-11e7-b31a-0242ac12000d",
       "previous": "0ab1184e-14ea-11e7-b31a-0242ac12000d"
      }
     ],
     "next": "0ab11c0e-14ea-11e7-b31a-0242ac12000d",
     "previous": "0ab114b6-14ea-11e7-b31a-0242ac12000d"
    }
   },
   "source": [
    "pingが通ることを確認します。\n",
    "\n",
    "Instanceがrunningになった後、**<font color=\"red\">pingが疎通するようになるまでしばらく(数分程度)</font>**かかる場合もあります。pingの実行が成功する(packet lossが0%)まで以下のセルの実行を試すようにしてください。"
   ]
  },
  {
   "cell_type": "code",
   "execution_count": 18,
   "metadata": {
    "collapsed": true,
    "lc_cell_meme": {
     "current": "0ab11c0e-14ea-11e7-b31a-0242ac12000d",
     "next": "0ab11de4-14ea-11e7-b31a-0242ac12000d",
     "previous": "0ab11a10-14ea-11e7-b31a-0242ac12000d"
    }
   },
   "outputs": [],
   "source": [
    "for host in host_list:\n",
    "    !ping -c 4 {host}"
   ]
  },
  {
   "cell_type": "markdown",
   "metadata": {
    "lc_cell_meme": {
     "current": "0ab11de4-14ea-11e7-b31a-0242ac12000d",
     "history": [
      {
       "current": "0ab11de4-14ea-11e7-b31a-0242ac12000d",
       "next": "0ab11fba-14ea-11e7-b31a-0242ac12000d",
       "previous": "0ab11c0e-14ea-11e7-b31a-0242ac12000d"
      }
     ],
     "next": "0ab128a2-14ea-11e7-b31a-0242ac12000d",
     "previous": "0ab11c0e-14ea-11e7-b31a-0242ac12000d"
    }
   },
   "source": [
    "全てのインスタンスに対しpingが通ればEC2インスタンス生成は完了です。"
   ]
  },
  {
   "cell_type": "markdown",
   "metadata": {
    "lc_cell_meme": {
     "current": "0ab128a2-14ea-11e7-b31a-0242ac12000d",
     "history": [
      {
       "current": "0ab128a2-14ea-11e7-b31a-0242ac12000d",
       "next": "0ab12a78-14ea-11e7-b31a-0242ac12000d",
       "previous": "0ab126d6-14ea-11e7-b31a-0242ac12000d"
      }
     ],
     "next": "0ab12a78-14ea-11e7-b31a-0242ac12000d",
     "previous": "0ab11de4-14ea-11e7-b31a-0242ac12000d"
    }
   },
   "source": [
    "## Inventory作成用のインスタンスリストを作成\n",
    "ホストのパブリックDNS一覧をリスト化します  "
   ]
  },
  {
   "cell_type": "markdown",
   "metadata": {
    "lc_cell_meme": {
     "current": "0ab12a78-14ea-11e7-b31a-0242ac12000d",
     "next": "0ab12c3a-14ea-11e7-b31a-0242ac12000d",
     "previous": "0ab128a2-14ea-11e7-b31a-0242ac12000d"
    }
   },
   "source": [
    "次のブックの[Inventory作成](01_03_Set_Inventory.ipynb)で使用します。  \n",
    "出現した文字列をクリップボードにコピーしてください。"
   ]
  },
  {
   "cell_type": "code",
   "execution_count": 19,
   "metadata": {
    "collapsed": true,
    "lc_cell_meme": {
     "current": "0ab12c3a-14ea-11e7-b31a-0242ac12000d",
     "history": [
      {
       "current": "0ab12c3a-14ea-11e7-b31a-0242ac12000d",
       "next": null,
       "previous": "0ab12a78-14ea-11e7-b31a-0242ac12000d"
      }
     ],
     "next": "e433df68-46b6-11e7-ae73-02420aff0008",
     "previous": "0ab12a78-14ea-11e7-b31a-0242ac12000d"
    }
   },
   "outputs": [],
   "source": [
    "host_list = ['\\'host{0}\\':\\'{1}\\''.format(str(i+1), x) for i,x in enumerate(host_list)] \n",
    "print('host_list = {{{0}}}'.format(','.join(host_list)))"
   ]
  },
  {
   "cell_type": "code",
   "execution_count": null,
   "metadata": {
    "collapsed": true,
    "lc_cell_meme": {
     "current": "e433df68-46b6-11e7-ae73-02420aff0008",
     "next": null,
     "previous": "0ab12c3a-14ea-11e7-b31a-0242ac12000d"
    }
   },
   "outputs": [],
   "source": []
  }
 ],
 "metadata": {
  "anaconda-cloud": {},
  "celltoolbar": "Raw Cell Format",
  "kernelspec": {
   "display_name": "Python 2 (LC_wrapper)",
   "language": "python",
   "name": "python2-wrapper"
  },
  "language_info": {
   "file_extension": ".py",
   "mimetype": "text/x-python",
   "name": "python",
   "nbconvert_exporter": "python",
   "pygments_lexer": "ipython2",
   "version": "2.7.9"
  },
  "lc_notebook_meme": {
   "current": "0ab0c164-14ea-11e7-b31a-0242ac12000d"
  },
  "toc": {
   "colors": {
    "hover_highlight": "#DAA520",
    "navigate_num": "#000000",
    "navigate_text": "#333333",
    "running_highlight": "#FF0000",
    "selected_highlight": "#FFD700",
    "sidebar_border": "#EEEEEE",
    "wrapper_background": "#FFFFFF"
   },
   "moveMenuLeft": true,
   "nav_menu": {
    "height": "30px",
    "width": "252px"
   },
   "navigate_menu": true,
   "number_sections": true,
   "sideBar": true,
   "threshold": 4,
   "toc_cell": false,
   "toc_position": {
    "height": "835px",
    "left": "0px",
    "right": "1654.67px",
    "top": "106px",
    "width": "292px"
   },
   "toc_section_display": "block",
   "toc_window_display": true,
   "widenNotebook": false
  }
 },
 "nbformat": 4,
 "nbformat_minor": 2
}
