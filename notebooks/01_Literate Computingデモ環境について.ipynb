{
 "cells": [
  {
   "cell_type": "markdown",
   "metadata": {
    "lc_cell_meme": {
     "current": "f2125b84-4669-11e7-958b-02420aff0006",
     "history": [
      {
       "current": "f2125b84-4669-11e7-958b-02420aff0006",
       "next": null,
       "previous": null
      },
      {
       "current": "f2125b84-4669-11e7-958b-02420aff0006",
       "next": "10327378-466b-11e7-958b-02420aff0006",
       "previous": null
      },
      {
       "current": "f2125b84-4669-11e7-958b-02420aff0006",
       "next": "57ac9bca-466b-11e7-958b-02420aff0006",
       "previous": null
      },
      {
       "current": "f2125b84-4669-11e7-958b-02420aff0006",
       "next": "9fa05c96-480f-11e7-8475-02420aff0008",
       "previous": null
      },
      {
       "current": "f2125b84-4669-11e7-958b-02420aff0006",
       "next": "3a29017e-4a8f-11e7-b091-02420aff0006",
       "previous": null
      },
      {
       "current": "f2125b84-4669-11e7-958b-02420aff0006",
       "next": "04d59a9c-4bf1-11e7-a73e-02420aff0006",
       "previous": null
      }
     ],
     "next": "3a29017e-4a8f-11e7-b091-02420aff0006",
     "previous": null
    }
   },
   "source": [
    "# About: アプリケーションテンプレートデモ環境\n",
    "\n",
    "----\n",
    "\n",
    "この環境では、*オンデマンドクラウド構築サービス*により提供予定の*アプリケーションテンプレート*を体感いただくことができます。\n",
    "\n",
    "\n",
    "アプリケーションテンプレートは、 *Literate Computing for Reproducible Infrastructure* の考え方に基づいて設計されています。\n",
    "\n",
    "<img src='./images/jupyterhub-logo.png' alt='LC logo' align='left'>\n",
    "\n"
   ]
  },
  {
   "cell_type": "markdown",
   "metadata": {
    "lc_cell_meme": {
     "current": "3a29017e-4a8f-11e7-b091-02420aff0006",
     "history": [
      {
       "current": "3a29017e-4a8f-11e7-b091-02420aff0006",
       "next": "9fa05c96-480f-11e7-8475-02420aff0008",
       "previous": "f2125b84-4669-11e7-958b-02420aff0006"
      },
      {
       "current": "3a29017e-4a8f-11e7-b091-02420aff0006",
       "next": "9fa05c96-480f-11e7-8475-02420aff0008",
       "previous": "04d59a9c-4bf1-11e7-a73e-02420aff0006"
      },
      {
       "current": "3a29017e-4a8f-11e7-b091-02420aff0006",
       "next": "9fa05c96-480f-11e7-8475-02420aff0008",
       "previous": "f2125b84-4669-11e7-958b-02420aff0006"
      }
     ],
     "next": "c41ba89a-4bd5-11e7-892b-02420aff0006",
     "previous": "f2125b84-4669-11e7-958b-02420aff0006"
    }
   },
   "source": [
    "## Literate Computing for Reproducible Infrastructureについて\n",
    "\n",
    "Literate Computing for Reproducible Infrastructureは、インフラ運用の場面において\"機械的に再現できる、人が読み解ける手順\"を作成・利用していくことで、運用作業の信頼性向上、手順やノウハウの蓄積・流通をはかっていこうという考え方です。\n",
    "\n",
    "\n",
    "詳しくは以下の資料もご覧ください。\n",
    "\n",
    "- [NII OPEN FORUM 2017 | クラウドトラック(講演資料)](http://www.nii.ac.jp/csi/openforum2017/track/day2_4.html)\n",
    "- [Jupyter notebook を用いた文芸的インフラ運用のススメ](https://www.slideshare.net/nobu758/jupyter-notebook-63167604)"
   ]
  },
  {
   "cell_type": "markdown",
   "metadata": {
    "lc_cell_meme": {
     "current": "c41ba89a-4bd5-11e7-892b-02420aff0006",
     "history": [
      {
       "current": "c41ba89a-4bd5-11e7-892b-02420aff0006",
       "next": "57ac9d8c-466b-11e7-958b-02420aff0006",
       "previous": "9fa05c96-480f-11e7-8475-02420aff0008"
      },
      {
       "current": "c41ba89a-4bd5-11e7-892b-02420aff0006",
       "next": "36f4261c-4bd6-11e7-892b-02420aff0006",
       "previous": "9fa05c96-480f-11e7-8475-02420aff0008"
      }
     ],
     "next": "36f4261c-4bd6-11e7-892b-02420aff0006",
     "previous": "3a29017e-4a8f-11e7-b091-02420aff0006"
    }
   },
   "source": [
    "## デモ環境の利用方法\n",
    "\n",
    "このデモ環境では[Jupyter](http://jupyter.org/)のインタフェースを使って、運用作業の一例としてログ分析や、実際にAmazon上にVMを確保した上でElasticsearchの構築してみて、使ってみるといったことを体験することができます。\n",
    "\n",
    "なお、この環境でNotebookを自由に作成、編集することができますが、**サーバにはこれらのNotebookは永続的に保存されません**。後述するJupyterのリセット作業を利用することで、環境を初期状態に戻して最初からやり直すことができますが、編集したNotebookなどの情報は失われますのでご注意ください。"
   ]
  },
  {
   "cell_type": "markdown",
   "metadata": {
    "lc_cell_meme": {
     "current": "36f4261c-4bd6-11e7-892b-02420aff0006",
     "history": [
      {
       "current": "36f4261c-4bd6-11e7-892b-02420aff0006",
       "next": "36f4284c-4bd6-11e7-892b-02420aff0006",
       "previous": "c41ba89a-4bd5-11e7-892b-02420aff0006"
      }
     ],
     "next": "0330cd96-4be8-11e7-bfea-02420aff0006",
     "previous": "c41ba89a-4bd5-11e7-892b-02420aff0006"
    }
   },
   "source": [
    "### Notebookの実行方法\n",
    "\n",
    "このデモ環境では、Notebookという形式で、実際に自身で実行可能な運用作業の例が保存されています。\n",
    "\n",
    "説明を読み進めていくと、コードが現れます。コードは、メニューバーの実行[　<i class=\"fa-step-forward fa\"></i>　]ボタンにより実行し、出力結果を確認することができます。試しに、以下のコードをクリックしてから、実行[　<i class=\"fa-step-forward fa\"></i>　]ボタンを押してみてください。"
   ]
  },
  {
   "cell_type": "code",
   "execution_count": null,
   "metadata": {
    "collapsed": true,
    "lc_cell_meme": {
     "current": "0330cd96-4be8-11e7-bfea-02420aff0006",
     "history": [
      {
       "current": "0330cd96-4be8-11e7-bfea-02420aff0006",
       "next": "36f4284c-4bd6-11e7-892b-02420aff0006",
       "previous": "36f4261c-4bd6-11e7-892b-02420aff0006"
      }
     ],
     "next": "4ac0116c-4be8-11e7-bfea-02420aff0006",
     "previous": "36f4261c-4bd6-11e7-892b-02420aff0006"
    }
   },
   "outputs": [],
   "source": [
    "from datetime import datetime\n",
    "print(u'お試しありがとうございます。現在時刻は、 {} です。'.format(datetime.now()))"
   ]
  },
  {
   "cell_type": "markdown",
   "metadata": {
    "lc_cell_meme": {
     "current": "4ac0116c-4be8-11e7-bfea-02420aff0006",
     "next": "36f4284c-4bd6-11e7-892b-02420aff0006",
     "previous": "0330cd96-4be8-11e7-bfea-02420aff0006"
    }
   },
   "source": [
    "説明や、コードといったNotebookを構成する単位を「セル」と呼びます。実行してみていただくとわかるように、コードセルは一度実行すると灰色になり、編集、実行ともにできなくなります。再度編集したり実行したい場合は、通常に戻す[ <i class=\"fa-unlock-alt fa\"></i> ]ボタンを押すことで、編集、実行することができるようになります。この機能拡張については、[04_NII謹製_Jupyterの機能拡張について](04_NII謹製_Jupyterの機能拡張について.ipynb) にて詳しく紹介しています。\n",
    "\n",
    "まず最初は、 [02_Literate_Computingの運用への適用例](02_Literate_Computingの運用への適用例.ipynb) を開いて、Notebookを実行してみて、Jupyterでの作業を体感してみてください！"
   ]
  },
  {
   "cell_type": "markdown",
   "metadata": {
    "lc_cell_meme": {
     "current": "36f4284c-4bd6-11e7-892b-02420aff0006",
     "history": [
      {
       "current": "36f4284c-4bd6-11e7-892b-02420aff0006",
       "next": "57ac9d8c-466b-11e7-958b-02420aff0006",
       "previous": "36f4261c-4bd6-11e7-892b-02420aff0006"
      },
      {
       "current": "36f4284c-4bd6-11e7-892b-02420aff0006",
       "next": "57ac9d8c-466b-11e7-958b-02420aff0006",
       "previous": "0330cd96-4be8-11e7-bfea-02420aff0006"
      }
     ],
     "next": "57ac9d8c-466b-11e7-958b-02420aff0006",
     "previous": "4ac0116c-4be8-11e7-bfea-02420aff0006"
    }
   },
   "source": [
    "### Jupyterのリセット\n",
    "\n",
    "Notebookを誤って消してしまったり、「何か変な状態に陥ってしまったな」と思った場合は、Jupyter環境をリセットして再度チャレンジしてみてください。\n",
    "\n",
    "1. 画面右上の[Control Panel]ボタンを押す\n",
    "2. [Stop My Server]ボタンを押す\n",
    "3. [Stop My Server]ボタンが消え、[My Server]ボタンのみになるので、[My Server]ボタンを再度押す\n",
    "\n",
    "この後少し待つと、Jupyterのファイル一覧画面が再度開くはずです。中のファイルなどはすべて最初の状態に戻っていますので、再チャレンジしてみてください。\n",
    "\n",
    "> デモ期間中もコンテンツをアップデートさせていただく場合があります。Jupyter環境をリセットすると、Notebookは最新の内容に入れ替わります。\n"
   ]
  },
  {
   "cell_type": "markdown",
   "metadata": {
    "lc_cell_meme": {
     "current": "57ac9d8c-466b-11e7-958b-02420aff0006",
     "history": [
      {
       "current": "57ac9d8c-466b-11e7-958b-02420aff0006",
       "next": null,
       "previous": "57ac9bca-466b-11e7-958b-02420aff0006"
      },
      {
       "current": "57ac9d8c-466b-11e7-958b-02420aff0006",
       "next": "6ef844e6-466b-11e7-958b-02420aff0006",
       "previous": "57ac9bca-466b-11e7-958b-02420aff0006"
      },
      {
       "current": "57ac9d8c-466b-11e7-958b-02420aff0006",
       "next": "6ef844e6-466b-11e7-958b-02420aff0006",
       "previous": "10327378-466b-11e7-958b-02420aff0006"
      },
      {
       "current": "57ac9d8c-466b-11e7-958b-02420aff0006",
       "next": "10327378-466b-11e7-958b-02420aff0006",
       "previous": "57ac9bca-466b-11e7-958b-02420aff0006"
      },
      {
       "current": "57ac9d8c-466b-11e7-958b-02420aff0006",
       "next": "10327378-466b-11e7-958b-02420aff0006",
       "previous": "9fa05c96-480f-11e7-8475-02420aff0008"
      },
      {
       "current": "57ac9d8c-466b-11e7-958b-02420aff0006",
       "next": "10327378-466b-11e7-958b-02420aff0006",
       "previous": "c41ba89a-4bd5-11e7-892b-02420aff0006"
      }
     ],
     "next": "10327378-466b-11e7-958b-02420aff0006",
     "previous": "36f4284c-4bd6-11e7-892b-02420aff0006"
    }
   },
   "source": [
    "# Literate Computingの運用への適用例\n",
    "\n",
    "運用への適用例の一つとして、ログの分析ダッシュボードを体感いただけるNotebookです。\n",
    "\n",
    "- [02_Literate_Computingの運用への適用例](02_Literate_Computingの運用への適用例.ipynb)"
   ]
  },
  {
   "cell_type": "markdown",
   "metadata": {
    "lc_cell_meme": {
     "current": "10327378-466b-11e7-958b-02420aff0006",
     "history": [
      {
       "current": "10327378-466b-11e7-958b-02420aff0006",
       "next": null,
       "previous": "f2125b84-4669-11e7-958b-02420aff0006"
      },
      {
       "current": "10327378-466b-11e7-958b-02420aff0006",
       "next": "57ac9bca-466b-11e7-958b-02420aff0006",
       "previous": "f2125b84-4669-11e7-958b-02420aff0006"
      },
      {
       "current": "10327378-466b-11e7-958b-02420aff0006",
       "next": "57ac9d8c-466b-11e7-958b-02420aff0006",
       "previous": "57ac9bca-466b-11e7-958b-02420aff0006"
      },
      {
       "current": "10327378-466b-11e7-958b-02420aff0006",
       "next": "6ef844e6-466b-11e7-958b-02420aff0006",
       "previous": "57ac9d8c-466b-11e7-958b-02420aff0006"
      }
     ],
     "next": "57ac9bca-466b-11e7-958b-02420aff0006",
     "previous": "57ac9d8c-466b-11e7-958b-02420aff0006"
    }
   },
   "source": [
    "# Elasticsearchの構築\n",
    "\n",
    "運用への適用例として、短時間ですがElasticsearchクラスタの構築を試すことができるNotebook群です。\n",
    "このNotebook群は[03_Elasticsearch構築手順への適用例 Notebookディレクトリ](./03_Elasticsearch構築手順への適用例/)から利用することができます。\n",
    "\n",
    "はじめに、以下のNotebookをご覧ください。\n",
    "\n",
    "- [03_Elasticsearch構築手順への適用例 はじめに](./03_Elasticsearch構築手順への適用例/00_README.ipynb)\n"
   ]
  },
  {
   "cell_type": "markdown",
   "metadata": {
    "lc_cell_meme": {
     "current": "57ac9bca-466b-11e7-958b-02420aff0006",
     "history": [
      {
       "current": "57ac9bca-466b-11e7-958b-02420aff0006",
       "next": "57ac9d8c-466b-11e7-958b-02420aff0006",
       "previous": "10327378-466b-11e7-958b-02420aff0006"
      },
      {
       "current": "57ac9bca-466b-11e7-958b-02420aff0006",
       "next": "10327378-466b-11e7-958b-02420aff0006",
       "previous": "f2125b84-4669-11e7-958b-02420aff0006"
      },
      {
       "current": "57ac9bca-466b-11e7-958b-02420aff0006",
       "next": "57ac9d8c-466b-11e7-958b-02420aff0006",
       "previous": "f2125b84-4669-11e7-958b-02420aff0006"
      },
      {
       "current": "57ac9bca-466b-11e7-958b-02420aff0006",
       "next": "57ac9d8c-466b-11e7-958b-02420aff0006",
       "previous": "9fa05c96-480f-11e7-8475-02420aff0008"
      }
     ],
     "next": "6ef844e6-466b-11e7-958b-02420aff0006",
     "previous": "10327378-466b-11e7-958b-02420aff0006"
    }
   },
   "source": [
    "# NII謹製Literate Computing機能拡張\n",
    "\n",
    "Jupyterはもともとデータ分析用途に開発されたツールであるため、インフラの運用に適用するためにいくつかの機能拡張を施しています。以下は、その内容をご紹介するNotebookです。\n",
    "\n",
    "- [04_NII謹製_Jupyterの機能拡張について](04_NII謹製_Jupyterの機能拡張について.ipynb)"
   ]
  },
  {
   "cell_type": "code",
   "execution_count": null,
   "metadata": {
    "collapsed": true,
    "lc_cell_meme": {
     "current": "6ef844e6-466b-11e7-958b-02420aff0006",
     "history": [
      {
       "current": "6ef844e6-466b-11e7-958b-02420aff0006",
       "next": null,
       "previous": "57ac9d8c-466b-11e7-958b-02420aff0006"
      },
      {
       "current": "6ef844e6-466b-11e7-958b-02420aff0006",
       "next": null,
       "previous": "10327378-466b-11e7-958b-02420aff0006"
      }
     ],
     "next": null,
     "previous": "57ac9bca-466b-11e7-958b-02420aff0006"
    }
   },
   "outputs": [],
   "source": []
  }
 ],
 "metadata": {
  "kernelspec": {
   "display_name": "Python 2 (LC_wrapper)",
   "language": "python",
   "name": "python2-wrapper"
  },
  "language_info": {
   "file_extension": ".py",
   "mimetype": "text/x-python",
   "name": "python",
   "nbconvert_exporter": "python",
   "pygments_lexer": "ipython2",
   "version": "2.7.9"
  },
  "lc_notebook_meme": {
   "current": "f2125990-4669-11e7-958b-02420aff0006"
  },
  "toc": {
   "colors": {
    "hover_highlight": "#DAA520",
    "navigate_num": "#000000",
    "navigate_text": "#333333",
    "running_highlight": "#FF0000",
    "selected_highlight": "#FFD700",
    "sidebar_border": "#EEEEEE",
    "wrapper_background": "#FFFFFF"
   },
   "moveMenuLeft": true,
   "nav_menu": {
    "height": "84px",
    "width": "252px"
   },
   "navigate_menu": true,
   "number_sections": true,
   "sideBar": true,
   "skip_h1_title": false,
   "threshold": 4,
   "toc_cell": false,
   "toc_section_display": "block",
   "toc_window_display": true,
   "widenNotebook": false
  }
 },
 "nbformat": 4,
 "nbformat_minor": 2
}
